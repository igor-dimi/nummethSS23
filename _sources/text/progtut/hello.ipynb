{
 "cells": [
  {
   "attachments": {},
   "cell_type": "markdown",
   "metadata": {},
   "source": [
    "# Hello World\n",
    "\n",
    "C++ is suitable both as a high-level application and software developed language, as well as as low-level systems programming language. \n",
    "\n",
    "Various programming paradigms are supported, including:\n",
    "\n",
    "* imperative,\n",
    "* object oriented\n",
    "* generic\n",
    "\n",
    "Goals of the language are efficiency, performance and fexibility. \n",
    "Applied in various fields ranging from embedded controllers to super computers.\n",
    "Allows direct access to hardware resources.\n",
    "\n",
    "some additional mottos of the language:\n",
    "\n",
    "* zero-cost abstractions\n",
    "* pay only for what you see\n",
    "\n",
    "\n",
    "\n",
    "Libraries are included with the `#include` directive.\n",
    "\n",
    "* `<iostream>`: standard library for standard input/output (keyboard and screen)\n",
    "* `<vector>`: container library for dynamic arrays, i.e. arrays whose size changes during run-time. Implemented as amortized arrays (rather than linked lists, contrary to what one would naively assume). \n",
    "* `\"hdnum.hh\"`: header file to include the custom `hdnum` library.\n",
    "\n",
    "\n",
    "```{note}\n",
    "standard libraries are enclosed with angle brackets, progammer-defined header files are enclosed with double quotes\n",
    "```\n",
    "\n"
   ]
  },
  {
   "cell_type": "code",
   "execution_count": 1,
   "metadata": {
    "vscode": {
     "languageId": "cpp"
    }
   },
   "outputs": [],
   "source": [
    "#include <iostream>\n",
    "#include <vector>\n",
    "#include \"../../../hdnum/hdnum.hh\""
   ]
  },
  {
   "attachments": {},
   "cell_type": "markdown",
   "metadata": {},
   "source": [
    "and print out some messages to standard outpout:"
   ]
  },
  {
   "cell_type": "code",
   "execution_count": 2,
   "metadata": {
    "vscode": {
     "languageId": "cpp"
    }
   },
   "outputs": [
    {
     "name": "stdout",
     "output_type": "stream",
     "text": [
      "hello\n",
      "1 + 1 = 2\n"
     ]
    }
   ],
   "source": [
    "std::cout << \"hello\" << std::endl;\n",
    "std::cout << \"1 + 1 = \" << 1 +  1 << std::endl;"
   ]
  },
  {
   "cell_type": "code",
   "execution_count": 3,
   "metadata": {
    "vscode": {
     "languageId": "cpp"
    }
   },
   "outputs": [
    {
     "name": "stdout",
     "output_type": "stream",
     "text": [
      "hello, world\n"
     ]
    }
   ],
   "source": [
    "#include <string>\n",
    "\n",
    "void print(std::string msg)\n",
    "{\n",
    "    std::cout << msg << std::endl;\n",
    "}\n",
    "\n",
    "std::string greeting = \"hello, world\";\n",
    "print(greeting);"
   ]
  },
  {
   "cell_type": "markdown",
   "metadata": {},
   "source": [
    "Full program text:\n",
    "\n",
    "```cpp\n",
    "#include <iostream>\n",
    "#include <vector>\n",
    "#include \"../../../hdnum/hdnum.hh\"\n",
    "\n",
    "int main()\n",
    "{\n",
    "    std::cout << \"hello\" << std::endl;\n",
    "    std::cout << \"1 + 1\" << 1 + 1 << std;endl;\n",
    "\n",
    "    return 0;\n",
    "}\n",
    "```"
   ]
  },
  {
   "attachments": {},
   "cell_type": "markdown",
   "metadata": {},
   "source": [
    "To compile a single program called `hello.cpp` enter the command:\n",
    "```bash\n",
    "$ g++ -o hello -I../../../ hello.cc\n",
    "```\n",
    "where `-I../../` is the include option indicating where the header files are located. In this case the headers are located in a folder **three levels above** the folder where `hello.cc` is located and is being compiled.\n",
    "\n",
    "To run the compiled program enter `./hello` at the CLI\n",
    "\n",
    "```{index} index include\n",
    "```"
   ]
  }
 ],
 "metadata": {
  "kernelspec": {
   "display_name": "C++17",
   "language": "C++17",
   "name": "xcpp17"
  },
  "language_info": {
   "codemirror_mode": "text/x-c++src",
   "file_extension": ".cpp",
   "mimetype": "text/x-c++src",
   "name": "C++17",
   "version": "17"
  },
  "orig_nbformat": 4
 },
 "nbformat": 4,
 "nbformat_minor": 2
}
