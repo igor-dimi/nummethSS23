{
 "cells": [
  {
   "cell_type": "code",
   "execution_count": 1,
   "metadata": {
    "tags": [
     "hide-input",
     "hide-output"
    ],
    "vscode": {
     "languageId": "shellscript"
    }
   },
   "outputs": [
    {
     "name": "stdout",
     "output_type": "stream",
     "text": [
      "\u001b[33mhint: Using 'master' as the name for the initial branch. This default branch name\u001b[m\n",
      "\u001b[33mhint: is subject to change. To configure the initial branch name to use in all\u001b[m\n",
      "\u001b[33mhint: of your new repositories, which will suppress this warning, call:\u001b[m\n",
      "\u001b[33mhint: \u001b[m\n",
      "\u001b[33mhint: \tgit config --global init.defaultBranch <name>\u001b[m\n",
      "\u001b[33mhint: \u001b[m\n",
      "\u001b[33mhint: Names commonly chosen instead of 'master' are 'main', 'trunk' and\u001b[m\n",
      "\u001b[33mhint: 'development'. The just-created branch can be renamed via this command:\u001b[m\n",
      "\u001b[33mhint: \u001b[m\n",
      "\u001b[33mhint: \tgit branch -m <name>\u001b[m\n",
      "Initialized empty Git repository in /home/igor/Documents/uni/ss23/nummethSS23/docs/text/progtut/testgit/.git/\n",
      "[master (root-commit) f8f36ab] first commit\n",
      " 2 files changed, 2 insertions(+)\n",
      " create mode 100644 A\n",
      " create mode 100644 B\n",
      "[master 59c5e93] changing B\n",
      " 1 file changed, 1 insertion(+)\n",
      "[master def857b] new commit\n",
      " 4 files changed, 4 insertions(+)\n",
      " create mode 100644 C\n",
      " create mode 100644 E\n",
      " create mode 100644 F\n",
      "[master 0b9aa01] adding gitignore and some changes to files\n",
      " 5 files changed, 6 insertions(+)\n",
      " create mode 100644 .gitignore\n",
      " \u001b[31mM\u001b[m A\n",
      "\u001b[31m??\u001b[m D\n",
      "\u001b[31m??\u001b[m a.o\n",
      "\u001b[31m??\u001b[m b.o\n",
      "\u001b[31m??\u001b[m c.o\n",
      "[master 772d5aa] changing git ignore\n",
      " 1 file changed, 1 insertion(+)\n"
     ]
    }
   ],
   "source": [
    "# create the directory from last section from scracth and reproduce its state:\n",
    "rm -rf /home/igor/Documents/uni/ss23/nummethSS23/docs/text/progtut/testgit\n",
    "mkdir /home/igor/Documents/uni/ss23/nummethSS23/docs/text/progtut/testgit\n",
    "cd /home/igor/Documents/uni/ss23/nummethSS23/docs/text/progtut/testgit\n",
    "\n",
    "git init\n",
    "echo \"I am A\" >A\n",
    "echo \"I am B\" >B\n",
    "git add A B\n",
    "git commit -m \"first commit\"\n",
    "echo \"adding new lines to A\" >>A\n",
    "echo \"adding a new line to B\" >>B\n",
    "git add B\n",
    "git commit -m \"changing B\"\n",
    "git add A\n",
    "echo \"modifying A again\" >>A\n",
    "echo \"I am C\" >>C\n",
    "echo \"I am D\" >>D\n",
    "git add C\n",
    "echo \"I am E\" >>E\n",
    "echo \"I am F\" >>F\n",
    "git add E F\n",
    "echo \"modifying E\" >>E\n",
    "echo \"modifying F\" >>F\n",
    "git commit -m \"new commit\"\n",
    "echo \"modifying C\" >>C\n",
    "echo \"modifying E\" >>E\n",
    "git add A F E C\n",
    "echo \"modifying A again\" >>A\n",
    "\n",
    "git add E\n",
    "\n",
    "echo \"let's ignore this file\" >>G\n",
    "echo \"G\" >>.gitignore\n",
    "\n",
    "git add .gitignore\n",
    "git commit -m \"adding gitignore and some changes to files\" \n",
    "touch {a,b,c}.o\n",
    "git status -s\n",
    "\n",
    ">>.gitignore cat <<!\n",
    "*.o\n",
    "!\n",
    "\n",
    "git add .gitignore \n",
    "git commit -m 'changing git ignore'\n"
   ]
  },
  {
   "attachments": {},
   "cell_type": "markdown",
   "metadata": {
    "tags": [
     "hide-input",
     "hide-output"
    ]
   },
   "source": [
    "# Viewing Your Changes \n",
    "\n",
    "git status command displays files that have been changed; but the information might be insufficient, in that we might desire to know **exactly** what has been changed. Specifically:\n",
    "\n",
    "1. What has been changed but not yet staged? \n",
    "2. What changes have been staged that will be go in the next commit? \n",
    "\n",
    "`git diff` commands and its options show the exact lines added or removed, i.e. the patch. \n",
    "\n",
    "Let's first enquire the status of the repository:"
   ]
  },
  {
   "cell_type": "code",
   "execution_count": 6,
   "metadata": {
    "vscode": {
     "languageId": "shellscript"
    }
   },
   "outputs": [
    {
     "name": "stdout",
     "output_type": "stream",
     "text": [
      " \u001b[31mM\u001b[m A\n",
      "\u001b[31m??\u001b[m D\n"
     ]
    }
   ],
   "source": [
    "git status -s"
   ]
  },
  {
   "attachments": {},
   "cell_type": "markdown",
   "metadata": {},
   "source": [
    "`A` has been modified but not yet staged. The default `git diff` without any option shows the changes in the working directory that haven't been staged:"
   ]
  },
  {
   "cell_type": "code",
   "execution_count": 7,
   "metadata": {
    "vscode": {
     "languageId": "shellscript"
    }
   },
   "outputs": [
    {
     "name": "stdout",
     "output_type": "stream",
     "text": [
      "\u001b[1mdiff --git a/A b/A\u001b[m\n",
      "\u001b[1mindex ac76b22..713c204 100644\u001b[m\n",
      "\u001b[1m--- a/A\u001b[m\n",
      "\u001b[1m+++ b/A\u001b[m\n",
      "\u001b[36m@@ -1,3 +1,4 @@\u001b[m\n",
      " I am A\u001b[m\n",
      " adding new lines to A\u001b[m\n",
      " modifying A again\u001b[m\n",
      "\u001b[32m+\u001b[m\u001b[32mmodifying A again\u001b[m\n"
     ]
    }
   ],
   "source": [
    "git diff"
   ]
  },
  {
   "attachments": {},
   "cell_type": "markdown",
   "metadata": {},
   "source": [
    "now if we add this file and execute `git diff` again:"
   ]
  },
  {
   "cell_type": "code",
   "execution_count": 8,
   "metadata": {
    "vscode": {
     "languageId": "shellscript"
    }
   },
   "outputs": [],
   "source": [
    "git add A\n",
    "git diff"
   ]
  },
  {
   "attachments": {},
   "cell_type": "markdown",
   "metadata": {},
   "source": [
    "we no changes in the working dirctery that haven't been staged. The staging area and the working tree are at equivalent states.\n",
    "\n",
    "If we would specifically like to see the changes that have been staged, i.e. what will be commited in the next commit, we provide the `--staged` option:"
   ]
  },
  {
   "cell_type": "code",
   "execution_count": 9,
   "metadata": {
    "vscode": {
     "languageId": "shellscript"
    }
   },
   "outputs": [
    {
     "name": "stdout",
     "output_type": "stream",
     "text": [
      "\u001b[1mdiff --git a/A b/A\u001b[m\n",
      "\u001b[1mindex ac76b22..713c204 100644\u001b[m\n",
      "\u001b[1m--- a/A\u001b[m\n",
      "\u001b[1m+++ b/A\u001b[m\n",
      "\u001b[36m@@ -1,3 +1,4 @@\u001b[m\n",
      " I am A\u001b[m\n",
      " adding new lines to A\u001b[m\n",
      " modifying A again\u001b[m\n",
      "\u001b[32m+\u001b[m\u001b[32mmodifying A again\u001b[m\n"
     ]
    }
   ],
   "source": [
    "git diff --staged"
   ]
  },
  {
   "attachments": {},
   "cell_type": "markdown",
   "metadata": {},
   "source": [
    "or its synonym `--cached`:"
   ]
  },
  {
   "cell_type": "code",
   "execution_count": 10,
   "metadata": {
    "vscode": {
     "languageId": "shellscript"
    }
   },
   "outputs": [
    {
     "name": "stdout",
     "output_type": "stream",
     "text": [
      "\u001b[1mdiff --git a/A b/A\u001b[m\n",
      "\u001b[1mindex ac76b22..713c204 100644\u001b[m\n",
      "\u001b[1m--- a/A\u001b[m\n",
      "\u001b[1m+++ b/A\u001b[m\n",
      "\u001b[36m@@ -1,3 +1,4 @@\u001b[m\n",
      " I am A\u001b[m\n",
      " adding new lines to A\u001b[m\n",
      " modifying A again\u001b[m\n",
      "\u001b[32m+\u001b[m\u001b[32mmodifying A again\u001b[m\n"
     ]
    }
   ],
   "source": [
    "git diff --cached"
   ]
  },
  {
   "attachments": {},
   "cell_type": "markdown",
   "metadata": {},
   "source": [
    "Let's modify `A` again, without adding new changes. Then `A` will have both staged and unstaged changes:"
   ]
  },
  {
   "cell_type": "code",
   "execution_count": 11,
   "metadata": {
    "vscode": {
     "languageId": "shellscript"
    }
   },
   "outputs": [
    {
     "name": "stdout",
     "output_type": "stream",
     "text": [
      "\u001b[32mM\u001b[m\u001b[31mM\u001b[m A\n",
      "\u001b[31m??\u001b[m D\n"
     ]
    }
   ],
   "source": [
    "echo \"adding another line to A\" >>A\n",
    "git status -s"
   ]
  },
  {
   "attachments": {},
   "cell_type": "markdown",
   "metadata": {},
   "source": [
    "as demonstrated by both M letters at the two-column output. Now let's use `git diff` and `git diff --staged` or `git diff --cached` to show staged and unstaged changes, respectively:"
   ]
  },
  {
   "cell_type": "code",
   "execution_count": 17,
   "metadata": {
    "vscode": {
     "languageId": "shellscript"
    }
   },
   "outputs": [
    {
     "name": "stdout",
     "output_type": "stream",
     "text": [
      "UNSTAGED CHANGES:\n",
      "\n",
      "\u001b[1mdiff --git a/A b/A\u001b[m\n",
      "\u001b[1mindex 713c204..2de6976 100644\u001b[m\n",
      "\u001b[1m--- a/A\u001b[m\n",
      "\u001b[1m+++ b/A\u001b[m\n",
      "\u001b[36m@@ -2,3 +2,4 @@\u001b[m \u001b[mI am A\u001b[m\n",
      " adding new lines to A\u001b[m\n",
      " modifying A again\u001b[m\n",
      " modifying A again\u001b[m\n",
      "\u001b[32m+\u001b[m\u001b[32madding another line to A\u001b[m\n",
      "\n",
      "STAGED CHANGES:\n",
      "\n",
      "\u001b[1mdiff --git a/A b/A\u001b[m\n",
      "\u001b[1mindex ac76b22..713c204 100644\u001b[m\n",
      "\u001b[1m--- a/A\u001b[m\n",
      "\u001b[1m+++ b/A\u001b[m\n",
      "\u001b[36m@@ -1,3 +1,4 @@\u001b[m\n",
      " I am A\u001b[m\n",
      " adding new lines to A\u001b[m\n",
      " modifying A again\u001b[m\n",
      "\u001b[32m+\u001b[m\u001b[32mmodifying A again\u001b[m\n"
     ]
    }
   ],
   "source": [
    "echo -e \"UNSTAGED CHANGES:\\n\"\n",
    "git diff\n",
    "echo -e \"\\nSTAGED CHANGES:\\n\"\n",
    "git diff --staged"
   ]
  },
  {
   "attachments": {},
   "cell_type": "markdown",
   "metadata": {},
   "source": [
    ":::{note}\n",
    "\n",
    "* `git diff` shows only the **unstaged** changes, i.e. the changes in the **working tree** that **haven't** been staged yet. In other words these are the changes that will **not** go in the next commit. If all changes have been staged `git diff` will output nothing. \n",
    "* `git diff --staged[cached]` will output the state of the stagind area, i.e. all the changes that have been staged and therefore will be comitted in the next commit. \n",
    "\n",
    ":::  "
   ]
  },
  {
   "cell_type": "markdown",
   "metadata": {},
   "source": []
  }
 ],
 "metadata": {
  "kernelspec": {
   "display_name": "Bash",
   "language": "bash",
   "name": "bash"
  },
  "language_info": {
   "codemirror_mode": "shell",
   "file_extension": ".sh",
   "mimetype": "text/x-sh",
   "name": "bash"
  },
  "orig_nbformat": 4
 },
 "nbformat": 4,
 "nbformat_minor": 2
}
