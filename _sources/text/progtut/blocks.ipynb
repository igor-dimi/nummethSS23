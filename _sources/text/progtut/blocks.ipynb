{
 "cells": [
  {
   "attachments": {},
   "cell_type": "markdown",
   "metadata": {},
   "source": [
    "# Blocks and Scope\n",
    "\n",
    "## Block\n",
    "\n",
    "Blocks are compound sequences of statements treated as a unit.\n",
    "Blocks can be nested. Blocks are used to **structure** a program.\n",
    "\n",
    "::::{grid}\n",
    ":gutter: 5\n",
    "\n",
    ":::{grid-item}\n",
    ":outline:\n",
    "*A block*\n",
    "```cpp\n",
    "{\n",
    "    double x(3.14);\n",
    "    double y;\n",
    "    y = x;\n",
    "}\n",
    "```\n",
    ":::\n",
    "\n",
    ":::{grid-item}\n",
    ":outline:\n",
    "*A nested block*:\n",
    "```cpp\n",
    "{\n",
    "    double x(3.14);\n",
    "    {\n",
    "        double y;\n",
    "        y = x;\n",
    "    }\n",
    "    // y is invisible here\n",
    "}\n",
    "```\n",
    "\n",
    "::::\n",
    "\n",
    "## Scope\n",
    "\n",
    "Scope is the portion of the code where a variable name is visible. \n",
    "\n",
    "### Potential Scope and Actual Scope\n",
    "\n",
    "**Potential scope** of a name declared in a block begins at the point of declaration and ends at the end of the block. Thus scopes are delimited by blocks.\n",
    "\n",
    "**Actual scope** is the same as the potential scope, but if an identical name is declared in a **nested block** than the potential scope of the name in hte nested block is exluded from the actual scope of the name in the enclosing block. \n",
    "\n",
    "```{note}\n",
    "There is a recursive aspect to the definition, but stated simply declarations in the nested block overwrite declarations in enclosing blocks\n",
    "```\n",
    "\n"
   ]
  },
  {
   "cell_type": "code",
   "execution_count": 8,
   "metadata": {
    "tags": [
     "hide-input"
    ],
    "vscode": {
     "languageId": "cpp"
    }
   },
   "outputs": [],
   "source": [
    "#include <iostream>"
   ]
  },
  {
   "cell_type": "code",
   "execution_count": 10,
   "metadata": {
    "vscode": {
     "languageId": "cpp"
    }
   },
   "outputs": [
    {
     "name": "stdout",
     "output_type": "stream",
     "text": [
      "1\n",
      "42\n",
      "43\n"
     ]
    }
   ],
   "source": [
    "int i = 0; //scope of outer it begins\n",
    "++i; \n",
    "std::cout << i << std::endl;\n",
    "{\n",
    "    int i = 1;\n",
    "    i = 42;\n",
    "    std::cout << i << std::endl;\n",
    "    int j = i + 1;\n",
    "    std::cout << j << std::endl;\n",
    "}\n",
    "//j  std::cout << j << std::endl; //this would be an error, because is invisible in this scope"
   ]
  }
 ],
 "metadata": {
  "kernelspec": {
   "display_name": "C++17",
   "language": "C++17",
   "name": "xcpp17"
  },
  "language_info": {
   "codemirror_mode": "text/x-c++src",
   "file_extension": ".cpp",
   "mimetype": "text/x-c++src",
   "name": "C++17",
   "version": "17"
  },
  "orig_nbformat": 4
 },
 "nbformat": 4,
 "nbformat_minor": 2
}
