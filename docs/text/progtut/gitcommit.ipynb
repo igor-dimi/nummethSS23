{
 "cells": [
  {
   "cell_type": "code",
   "execution_count": 6,
   "metadata": {
    "tags": [
     "hide-input",
     "hide-output"
    ],
    "vscode": {
     "languageId": "shellscript"
    }
   },
   "outputs": [
    {
     "name": "stdout",
     "output_type": "stream",
     "text": [
      "\u001b[33mhint: Using 'master' as the name for the initial branch. This default branch name\u001b[m\n",
      "\u001b[33mhint: is subject to change. To configure the initial branch name to use in all\u001b[m\n",
      "\u001b[33mhint: of your new repositories, which will suppress this warning, call:\u001b[m\n",
      "\u001b[33mhint: \u001b[m\n",
      "\u001b[33mhint: \tgit config --global init.defaultBranch <name>\u001b[m\n",
      "\u001b[33mhint: \u001b[m\n",
      "\u001b[33mhint: Names commonly chosen instead of 'master' are 'main', 'trunk' and\u001b[m\n",
      "\u001b[33mhint: 'development'. The just-created branch can be renamed via this command:\u001b[m\n",
      "\u001b[33mhint: \u001b[m\n",
      "\u001b[33mhint: \tgit branch -m <name>\u001b[m\n",
      "Initialized empty Git repository in /home/igor/Documents/uni/ss23/nummethSS23/docs/text/progtut/testgit/.git/\n",
      "[master (root-commit) 46e482b] first commit\n",
      " 2 files changed, 2 insertions(+)\n",
      " create mode 100644 A\n",
      " create mode 100644 B\n",
      "[master 3c5ffac] changing B\n",
      " 1 file changed, 1 insertion(+)\n",
      "[master 5b32ece] new commit\n",
      " 4 files changed, 4 insertions(+)\n",
      " create mode 100644 C\n",
      " create mode 100644 E\n",
      " create mode 100644 F\n",
      "[master 6ea0715] adding gitignore and some changes to files\n",
      " 5 files changed, 6 insertions(+)\n",
      " create mode 100644 .gitignore\n",
      " \u001b[31mM\u001b[m A\n",
      "\u001b[31m??\u001b[m D\n",
      "\u001b[31m??\u001b[m a.o\n",
      "\u001b[31m??\u001b[m b.o\n",
      "\u001b[31m??\u001b[m c.o\n",
      "[master bcb1ebf] changing git ignore\n",
      " 1 file changed, 1 insertion(+)\n"
     ]
    }
   ],
   "source": [
    "# create the directory from last section from scracth and reproduce its state:\n",
    "rm -rf /home/igor/Documents/uni/ss23/nummethSS23/docs/text/progtut/testgit\n",
    "mkdir /home/igor/Documents/uni/ss23/nummethSS23/docs/text/progtut/testgit\n",
    "cd /home/igor/Documents/uni/ss23/nummethSS23/docs/text/progtut/testgit\n",
    "\n",
    "\n",
    "git init\n",
    "echo \"I am A\" >A\n",
    "echo \"I am B\" >B\n",
    "git add A B\n",
    "git commit -m \"first commit\"\n",
    "echo \"adding new lines to A\" >>A\n",
    "echo \"adding a new line to B\" >>B\n",
    "git add B\n",
    "git commit -m \"changing B\"\n",
    "git add A\n",
    "echo \"modifying A again\" >>A\n",
    "echo \"I am C\" >>C\n",
    "echo \"I am D\" >>D\n",
    "git add C\n",
    "echo \"I am E\" >>E\n",
    "echo \"I am F\" >>F\n",
    "git add E F\n",
    "echo \"modifying E\" >>E\n",
    "echo \"modifying F\" >>F\n",
    "git commit -m \"new commit\"\n",
    "echo \"modifying C\" >>C\n",
    "echo \"modifying E\" >>E\n",
    "git add A F E C\n",
    "echo \"modifying A again\" >>A\n",
    "\n",
    "git add E\n",
    "\n",
    "echo \"let's ignore this file\" >>G\n",
    "echo \"G\" >>.gitignore\n",
    "\n",
    "git add .gitignore\n",
    "git commit -m \"adding gitignore and some changes to files\" \n",
    "touch {a,b,c}.o\n",
    "git status -s\n",
    "\n",
    ">>.gitignore cat <<!\n",
    "*.o\n",
    "!\n",
    "\n",
    "git add .gitignore \n",
    "git commit -m 'changing git ignore'\n",
    "git add A\n",
    "echo \"adding another line to A\" >>A"
   ]
  },
  {
   "attachments": {},
   "cell_type": "markdown",
   "metadata": {},
   "source": [
    "# Committing Your Changes\n",
    "\n",
    "Let's check the status of our repository again:"
   ]
  },
  {
   "cell_type": "code",
   "execution_count": 7,
   "metadata": {
    "vscode": {
     "languageId": "shellscript"
    }
   },
   "outputs": [
    {
     "name": "stdout",
     "output_type": "stream",
     "text": [
      "\u001b[32mM\u001b[m\u001b[31mM\u001b[m A\n",
      "\u001b[31m??\u001b[m D\n",
      "Nothing specified, nothing added.\n",
      "\u001b[33mhint: Maybe you wanted to say 'git add .'?\u001b[m\n",
      "\u001b[33mhint: Turn this message off by running\u001b[m\n",
      "\u001b[33mhint: \"git config advice.addEmptyPathspec false\"\u001b[m\n"
     ]
    }
   ],
   "source": [
    "git status -s\n",
    "git add"
   ]
  },
  {
   "attachments": {},
   "cell_type": "markdown",
   "metadata": {},
   "source": [
    "We have added all changes to A and we would like to commit them with the command `git commit [-m]` The `-m` option allows us to provide the commit message directly in the command line. Otherwise the default editor is opened with a default blueprint message:\n",
    "\n",
    "```bash\n",
    "\n",
    "# Please enter the commit message for your changes. Lines starting\n",
    "# with '#' will be ignored, and an empty message aborts the commit.\n",
    "#\n",
    "# On branch master\n",
    "# Changes to be committed:\n",
    "#\tmodified:   A\n",
    "#\n",
    "# Untracked files:\n",
    "#\tD\n",
    "#\n",
    "```\n",
    "that contains the latest output of `git status` command as comments by default. Thes lines can be uncommented if necessary as reminders on what was committed. Even more infomration can be included in the default message by default with the `-v` option. This option shows the staged diffs that are going to be committed:\n",
    "\n",
    "```bash\n",
    "\n",
    "# Please enter the commit message for your changes. Lines starting\n",
    "# with '#' will be ignored, and an empty message aborts the commit.\n",
    "#\n",
    "# On branch master\n",
    "# Changes to be committed:\n",
    "#\tmodified:   A\n",
    "#\n",
    "# Untracked files:\n",
    "#\tD\n",
    "#\n",
    "# ------------------------ >8 ------------------------\n",
    "# Do not modify or remove the line above.\n",
    "# Everything below it will be ignored.\n",
    "diff --git a/A b/A\n",
    "index ac76b22..2de6976 100644\n",
    "--- a/A\n",
    "+++ b/A\n",
    "@@ -1,3 +1,5 @@\n",
    " I am A\n",
    " adding new lines to A\n",
    " modifying A again\n",
    "+modifying A again\n",
    "+adding another line to A\n",
    "```\n",
    "The diff part helps you see what changes are going to be commited, but this portion of the message will not be included in the commit message, as explained in the message. Doing otherwise would be reduntant, as diffs can always be enquired directly by git commands any time.\n",
    "\n",
    "Let's perform the commit with the shorter inline vesion:"
   ]
  },
  {
   "cell_type": "code",
   "execution_count": 8,
   "metadata": {
    "vscode": {
     "languageId": "shellscript"
    }
   },
   "outputs": [
    {
     "name": "stdout",
     "output_type": "stream",
     "text": [
      "[master 5210b7f] changes to A\n",
      " 1 file changed, 1 insertion(+)\n"
     ]
    }
   ],
   "source": [
    "git commit -m \"changes to A\""
   ]
  },
  {
   "attachments": {},
   "cell_type": "markdown",
   "metadata": {},
   "source": [
    "Note that the commit command outputs some information about the commit like:\n",
    "\n",
    "* on which branch was the commit committed? \\[`master`\\]\n",
    "* what is the SHA-1 checksum of the commit? `3bc6c89`\n",
    "* how many files were changed, and what are some some additional statistics about the chnages? `1 file changed, 2 insertions(+)`\n",
    "\n"
   ]
  },
  {
   "attachments": {},
   "cell_type": "markdown",
   "metadata": {},
   "source": [
    ":::{note}\n",
    "remember that the commit records the snapshot as it has been set up in the staging area. The unstaged changes in the working directory will not go in the commit, but can be added and commited on a later commit. Every commit is a snapshot of the project that can be reverted and reviewed back. It is the essential command of **version control**. \n",
    "::: "
   ]
  },
  {
   "attachments": {},
   "cell_type": "markdown",
   "metadata": {},
   "source": [
    "## Skipping the Staging Area\n",
    "\n"
   ]
  },
  {
   "cell_type": "code",
   "execution_count": 9,
   "metadata": {
    "vscode": {
     "languageId": "shellscript"
    }
   },
   "outputs": [
    {
     "name": "stdout",
     "output_type": "stream",
     "text": [
      "\u001b[33mcommit 5210b7f3050431aa5c892059c1dcced2d022f41f\u001b[m\u001b[33m (\u001b[m\u001b[1;36mHEAD -> \u001b[m\u001b[1;32mmaster\u001b[m\u001b[33m)\u001b[m\n",
      "Author: igor-dimi <igor-dimi@protonmail.com>\n",
      "Date:   Tue May 9 13:29:29 2023 +0200\n",
      "\n",
      "    changes to A\n",
      "\n",
      "\u001b[33mcommit bcb1ebfb51f5df721d55e6e33792471334ec24c5\u001b[m\n",
      "Author: igor-dimi <igor-dimi@protonmail.com>\n",
      "Date:   Tue May 9 13:29:28 2023 +0200\n",
      "\n",
      "    changing git ignore\n",
      "\n",
      "\u001b[33mcommit 6ea07153dade3837bd8ef046c12cf1b863d18952\u001b[m\n",
      "Author: igor-dimi <igor-dimi@protonmail.com>\n",
      "Date:   Tue May 9 13:29:28 2023 +0200\n",
      "\n",
      "    adding gitignore and some changes to files\n",
      "\n",
      "\u001b[33mcommit 5b32ecec4a9b00a90a206a501af977b0e59975fa\u001b[m\n",
      "Author: igor-dimi <igor-dimi@protonmail.com>\n",
      "Date:   Tue May 9 13:29:27 2023 +0200\n",
      "\n",
      "    new commit\n",
      "\n",
      "\u001b[33mcommit 3c5ffac6f0cfd660b6b736d84acde51db67c7a82\u001b[m\n",
      "Author: igor-dimi <igor-dimi@protonmail.com>\n",
      "Date:   Tue May 9 13:29:27 2023 +0200\n",
      "\n",
      "    changing B\n",
      "\n",
      "\u001b[33mcommit 46e482bcdf6582fa7fd7c0bb158e421d29dc1144\u001b[m\n",
      "Author: igor-dimi <igor-dimi@protonmail.com>\n",
      "Date:   Tue May 9 13:29:26 2023 +0200\n",
      "\n",
      "    first commit\n"
     ]
    }
   ],
   "source": [
    "git log"
   ]
  },
  {
   "cell_type": "code",
   "execution_count": null,
   "metadata": {
    "vscode": {
     "languageId": "shellscript"
    }
   },
   "outputs": [],
   "source": []
  }
 ],
 "metadata": {
  "kernelspec": {
   "display_name": "Bash",
   "language": "bash",
   "name": "bash"
  },
  "language_info": {
   "codemirror_mode": "shell",
   "file_extension": ".sh",
   "mimetype": "text/x-sh",
   "name": "bash"
  },
  "orig_nbformat": 4
 },
 "nbformat": 4,
 "nbformat_minor": 2
}
