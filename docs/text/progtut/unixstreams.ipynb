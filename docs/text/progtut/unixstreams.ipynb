{
 "cells": [
  {
   "attachments": {},
   "cell_type": "markdown",
   "metadata": {},
   "source": [
    "# I/O Streams\n",
    "\n",
    "Unix programs commpunicate with the system with **I/O Streams**. Streams are unidirectional, they can be either written to, or they can be read from.\n",
    "\n",
    "Every program has three open streams when its starts executing:\n",
    "\n",
    "* **stdin**: The standard input reads user input from the console and is connected to the **file descriptor 0**\n",
    "* **stdout**: Normal results of a program are outputed to the standard output. Standard output is connected to the **file descriptor 1**\n",
    "* **stderr**: Diagnostic messages and errors are output to the standard error, which is connected to the **file descriptor 2**. \n",
    "\n",
    "\n",
    "## Redirection of I/O Streams\n",
    "\n",
    "Redireaction of I/O streams is one of the most powerful  concepts in Unix.\n",
    "Be default the standard streams are connected to the terminal but sometimes it is sensible to redirect the stream to files:"
   ]
  },
  {
   "cell_type": "code",
   "execution_count": 13,
   "metadata": {
    "tags": [
     "hide-input"
    ],
    "vscode": {
     "languageId": "shellscript"
    }
   },
   "outputs": [],
   "source": [
    "rm -rf /home/igor/Documents/uni/ss23/nummethSS23/docs/text/progtut/testdir\n",
    "mkdir /home/igor/Documents/uni/ss23/nummethSS23/docs/text/progtut/testdir\n",
    "cd /home/igor/Documents/uni/ss23/nummethSS23/docs/text/progtut/testdir"
   ]
  },
  {
   "attachments": {},
   "cell_type": "markdown",
   "metadata": {},
   "source": [
    "Let's create a file \"A\" with the content \"hey\""
   ]
  },
  {
   "cell_type": "code",
   "execution_count": 14,
   "metadata": {
    "vscode": {
     "languageId": "shellscript"
    }
   },
   "outputs": [
    {
     "name": "stdout",
     "output_type": "stream",
     "text": [
      "hey\n"
     ]
    }
   ],
   "source": [
    "echo hey >A\n",
    "cat A"
   ]
  },
  {
   "attachments": {},
   "cell_type": "markdown",
   "metadata": {},
   "source": [
    "The direcctory now contains a single file \"A\""
   ]
  },
  {
   "cell_type": "code",
   "execution_count": 15,
   "metadata": {
    "vscode": {
     "languageId": "shellscript"
    }
   },
   "outputs": [
    {
     "name": "stdout",
     "output_type": "stream",
     "text": [
      "A\n"
     ]
    }
   ],
   "source": [
    "ls"
   ]
  },
  {
   "attachments": {},
   "cell_type": "markdown",
   "metadata": {},
   "source": [
    "we can redirect the output of `ls` to another file called 'B'"
   ]
  },
  {
   "cell_type": "code",
   "execution_count": 16,
   "metadata": {
    "vscode": {
     "languageId": "shellscript"
    }
   },
   "outputs": [],
   "source": [
    "ls >B"
   ]
  },
  {
   "attachments": {},
   "cell_type": "markdown",
   "metadata": {},
   "source": [
    "let's see the contents of the folder now;"
   ]
  },
  {
   "cell_type": "code",
   "execution_count": 21,
   "metadata": {
    "vscode": {
     "languageId": "shellscript"
    }
   },
   "outputs": [
    {
     "name": "stdout",
     "output_type": "stream",
     "text": [
      "A  B  C\n"
     ]
    }
   ],
   "source": [
    "ls"
   ]
  },
  {
   "attachments": {},
   "cell_type": "markdown",
   "metadata": {},
   "source": [
    "and the contents of the file B:"
   ]
  },
  {
   "cell_type": "code",
   "execution_count": 22,
   "metadata": {
    "vscode": {
     "languageId": "shellscript"
    }
   },
   "outputs": [
    {
     "name": "stdout",
     "output_type": "stream",
     "text": [
      "A\n",
      "B\n"
     ]
    }
   ],
   "source": [
    "cat B"
   ]
  },
  {
   "attachments": {},
   "cell_type": "markdown",
   "metadata": {},
   "source": [
    "maybe somewhat unexpectedly for the novice, the file B contains its own name. The reason is that during the rediraction step we typed the command:\n",
    "\n",
    "```bash\n",
    "ls >B\n",
    "```\n",
    "\n",
    "Before `ls` is executed by the shell, the shell processes the whole line, and therefore creates the file B due to the `>B` part of the command. Thus before `ls` is executed B is already contained in the directory, therefore its own name along with A is written to it. \n",
    "\n",
    "Redirecting **stdin** is achieved with `<`. Thus redirecting input to come from the file \"B\", effectively reading it is done the following way:"
   ]
  },
  {
   "cell_type": "code",
   "execution_count": 23,
   "metadata": {
    "vscode": {
     "languageId": "shellscript"
    }
   },
   "outputs": [
    {
     "name": "stdout",
     "output_type": "stream",
     "text": [
      "A\n",
      "B\n"
     ]
    }
   ],
   "source": [
    "cat <B"
   ]
  },
  {
   "attachments": {},
   "cell_type": "markdown",
   "metadata": {},
   "source": [
    "**stderr** is redirected via `2>`. To output the standard error message to a file named \"C\" we do:"
   ]
  },
  {
   "cell_type": "code",
   "execution_count": 24,
   "metadata": {
    "vscode": {
     "languageId": "shellscript"
    }
   },
   "outputs": [
    {
     "ename": "",
     "evalue": "2",
     "output_type": "error",
     "traceback": []
    }
   ],
   "source": [
    "ls nonexistent 2> C"
   ]
  },
  {
   "cell_type": "code",
   "execution_count": 25,
   "metadata": {
    "vscode": {
     "languageId": "shellscript"
    }
   },
   "outputs": [
    {
     "name": "stdout",
     "output_type": "stream",
     "text": [
      "A  B  C\n"
     ]
    }
   ],
   "source": [
    "ls"
   ]
  },
  {
   "cell_type": "code",
   "execution_count": 26,
   "metadata": {
    "vscode": {
     "languageId": "shellscript"
    }
   },
   "outputs": [
    {
     "name": "stdout",
     "output_type": "stream",
     "text": [
      "ls: cannot access 'nonexistent': No such file or directory\n"
     ]
    }
   ],
   "source": [
    "cat C\n"
   ]
  }
 ],
 "metadata": {
  "kernelspec": {
   "display_name": "Bash",
   "language": "bash",
   "name": "bash"
  },
  "language_info": {
   "codemirror_mode": "shell",
   "file_extension": ".sh",
   "mimetype": "text/x-sh",
   "name": "bash"
  },
  "orig_nbformat": 4
 },
 "nbformat": 4,
 "nbformat_minor": 2
}
