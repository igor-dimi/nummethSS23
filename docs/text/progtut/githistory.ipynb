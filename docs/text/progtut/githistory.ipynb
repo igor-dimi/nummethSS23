{
 "cells": [
  {
   "cell_type": "code",
   "execution_count": 10,
   "metadata": {
    "tags": [
     "hide-output",
     "hide-input"
    ],
    "vscode": {
     "languageId": "shellscript"
    }
   },
   "outputs": [
    {
     "name": "stdout",
     "output_type": "stream",
     "text": [
      "\u001b[33mhint: Using 'master' as the name for the initial branch. This default branch name\u001b[m\n",
      "\u001b[33mhint: is subject to change. To configure the initial branch name to use in all\u001b[m\n",
      "\u001b[33mhint: of your new repositories, which will suppress this warning, call:\u001b[m\n",
      "\u001b[33mhint: \u001b[m\n",
      "\u001b[33mhint: \tgit config --global init.defaultBranch <name>\u001b[m\n",
      "\u001b[33mhint: \u001b[m\n",
      "\u001b[33mhint: Names commonly chosen instead of 'master' are 'main', 'trunk' and\u001b[m\n",
      "\u001b[33mhint: 'development'. The just-created branch can be renamed via this command:\u001b[m\n",
      "\u001b[33mhint: \u001b[m\n",
      "\u001b[33mhint: \tgit branch -m <name>\u001b[m\n",
      "Initialized empty Git repository in /home/igor/Documents/uni/ss23/nummethSS23/docs/text/progtut/testgit/.git/\n",
      "[master (root-commit) 469d4d4] first commit\n",
      " 2 files changed, 2 insertions(+)\n",
      " create mode 100644 A\n",
      " create mode 100644 B\n",
      "[master 061e4e5] changing B\n",
      " 1 file changed, 1 insertion(+)\n",
      "[master 8cface2] new commit\n",
      " 4 files changed, 4 insertions(+)\n",
      " create mode 100644 C\n",
      " create mode 100644 E\n",
      " create mode 100644 F\n",
      "[master a93d2a7] adding gitignore and some changes to files\n",
      " 5 files changed, 6 insertions(+)\n",
      " create mode 100644 .gitignore\n",
      " \u001b[31mM\u001b[m A\n",
      "\u001b[31m??\u001b[m D\n",
      "\u001b[31m??\u001b[m a.o\n",
      "\u001b[31m??\u001b[m b.o\n",
      "\u001b[31m??\u001b[m c.o\n",
      "[master 5a80c48] changing git ignore\n",
      " 1 file changed, 1 insertion(+)\n",
      "[master d2a95b6] changes to A\n",
      " 1 file changed, 1 insertion(+)\n",
      "[master dd959c4] new changes to A\n",
      " 1 file changed, 1 insertion(+)\n",
      "[master a712d3f] deleted A\n",
      " 1 file changed, 5 deletions(-)\n",
      " delete mode 100644 A\n",
      "rm 'B'\n",
      "[master 82151df] removing B\n",
      " 1 file changed, 2 deletions(-)\n",
      " delete mode 100644 B\n",
      "[master 5683643] renamed C to C.new\n",
      " 1 file changed, 0 insertions(+), 0 deletions(-)\n",
      " rename C => C.new (100%)\n",
      "[master a2dda2e] renaming E\n",
      " 1 file changed, 0 insertions(+), 0 deletions(-)\n",
      " rename E => E.new (100%)\n"
     ]
    }
   ],
   "source": [
    "# create the directory from last section from scracth and reproduce its state:\n",
    "rm -rf /home/igor/Documents/uni/ss23/nummethSS23/docs/text/progtut/testgit\n",
    "mkdir /home/igor/Documents/uni/ss23/nummethSS23/docs/text/progtut/testgit\n",
    "cd /home/igor/Documents/uni/ss23/nummethSS23/docs/text/progtut/testgit\n",
    "\n",
    "\n",
    "git init\n",
    "echo \"I am A\" >A\n",
    "echo \"I am B\" >B\n",
    "git add A B\n",
    "git commit -m \"first commit\"\n",
    "echo \"adding new lines to A\" >>A\n",
    "echo \"adding a new line to B\" >>B\n",
    "git add B\n",
    "git commit -m \"changing B\"\n",
    "git add A\n",
    "echo \"modifying A again\" >>A\n",
    "echo \"I am C\" >>C\n",
    "echo \"I am D\" >>D\n",
    "git add C\n",
    "echo \"I am E\" >>E\n",
    "echo \"I am F\" >>F\n",
    "git add E F\n",
    "echo \"modifying E\" >>E\n",
    "echo \"modifying F\" >>F\n",
    "git commit -m \"new commit\"\n",
    "echo \"modifying C\" >>C\n",
    "echo \"modifying E\" >>E\n",
    "git add A F E C\n",
    "echo \"modifying A again\" >>A\n",
    "\n",
    "git add E\n",
    "\n",
    "echo \"let's ignore this file\" >>G\n",
    "echo \"G\" >>.gitignore\n",
    "\n",
    "git add .gitignore\n",
    "git commit -m \"adding gitignore and some changes to files\" \n",
    "touch {a,b,c}.o\n",
    "git status -s\n",
    "\n",
    ">>.gitignore cat <<!\n",
    "*.o\n",
    "!\n",
    "\n",
    "git add .gitignore \n",
    "git commit -m 'changing git ignore'\n",
    "git add A\n",
    "echo \"adding another line to A\" >>A\n",
    "\n",
    "git commit -m \"changes to A\"\n",
    "git commit -a -m \"new changes to A\"\n",
    "\n",
    "rm D\n",
    "rm a.o\n",
    "rm A\n",
    "git add A\n",
    "git commit -m 'deleted A'\n",
    "git rm B\n",
    "git commit -m 'removing B'\n",
    "mv C C.new\n",
    "git add C C.new\n",
    "git commit -m \"renamed C to C.new\"\n",
    "git mv E E.new\n",
    "git commit -m \"renaming E\"\n",
    "\n",
    "\n"
   ]
  },
  {
   "attachments": {},
   "cell_type": "markdown",
   "metadata": {},
   "source": [
    "# Viewing Commit History\n",
    "\n",
    "Commit history can be viwed with `git log` command."
   ]
  },
  {
   "cell_type": "code",
   "execution_count": 11,
   "metadata": {
    "tags": [
     "hide-output"
    ],
    "vscode": {
     "languageId": "shellscript"
    }
   },
   "outputs": [
    {
     "name": "stdout",
     "output_type": "stream",
     "text": [
      "\u001b[33mcommit a2dda2e5719ec78b0ed90aee4370eea93e0d820a\u001b[m\u001b[33m (\u001b[m\u001b[1;36mHEAD -> \u001b[m\u001b[1;32mmaster\u001b[m\u001b[33m)\u001b[m\n",
      "Author: igor-dimi <igor-dimi@protonmail.com>\n",
      "Date:   Mon May 15 17:50:42 2023 +0200\n",
      "\n",
      "    renaming E\n",
      "\n",
      "\u001b[33mcommit 568364387aa6b6f2a849ecaf852c542aded351b0\u001b[m\n",
      "Author: igor-dimi <igor-dimi@protonmail.com>\n",
      "Date:   Mon May 15 17:50:42 2023 +0200\n",
      "\n",
      "    renamed C to C.new\n",
      "\n",
      "\u001b[33mcommit 82151df3aa5d5781891b73a10c4b8717a6329a5e\u001b[m\n",
      "Author: igor-dimi <igor-dimi@protonmail.com>\n",
      "Date:   Mon May 15 17:50:41 2023 +0200\n",
      "\n",
      "    removing B\n",
      "\n",
      "\u001b[33mcommit a712d3f4da78416d64b0980682e3f352e6aab1df\u001b[m\n",
      "Author: igor-dimi <igor-dimi@protonmail.com>\n",
      "Date:   Mon May 15 17:50:41 2023 +0200\n",
      "\n",
      "    deleted A\n",
      "\n",
      "\u001b[33mcommit dd959c45ddcc9fd62689755a9640da3b77a6a50a\u001b[m\n",
      "Author: igor-dimi <igor-dimi@protonmail.com>\n",
      "Date:   Mon May 15 17:50:41 2023 +0200\n",
      "\n",
      "    new changes to A\n",
      "\n",
      "\u001b[33mcommit d2a95b68f406559673097897f4e3ea8e96f23b84\u001b[m\n",
      "Author: igor-dimi <igor-dimi@protonmail.com>\n",
      "Date:   Mon May 15 17:50:41 2023 +0200\n",
      "\n",
      "    changes to A\n",
      "\n",
      "\u001b[33mcommit 5a80c48f9819ca4a442f1fc8a79d4478b29686d4\u001b[m\n",
      "Author: igor-dimi <igor-dimi@protonmail.com>\n",
      "Date:   Mon May 15 17:50:40 2023 +0200\n",
      "\n",
      "    changing git ignore\n",
      "\n",
      "\u001b[33mcommit a93d2a756c8d894113e89b2869f819ed57dbc1c9\u001b[m\n",
      "Author: igor-dimi <igor-dimi@protonmail.com>\n",
      "Date:   Mon May 15 17:50:40 2023 +0200\n",
      "\n",
      "    adding gitignore and some changes to files\n",
      "\n",
      "\u001b[33mcommit 8cface283d2a5179ac1fe163c18045d4e6c3cbd9\u001b[m\n",
      "Author: igor-dimi <igor-dimi@protonmail.com>\n",
      "Date:   Mon May 15 17:50:39 2023 +0200\n",
      "\n",
      "    new commit\n",
      "\n",
      "\u001b[33mcommit 061e4e534a87c925da8a8d8ba281c4642954c43c\u001b[m\n",
      "Author: igor-dimi <igor-dimi@protonmail.com>\n",
      "Date:   Mon May 15 17:50:39 2023 +0200\n",
      "\n",
      "    changing B\n",
      "\n",
      "\u001b[33mcommit 469d4d479fa2fa93621a015f30a2767f29444f20\u001b[m\n",
      "Author: igor-dimi <igor-dimi@protonmail.com>\n",
      "Date:   Mon May 15 17:50:38 2023 +0200\n",
      "\n",
      "    first commit\n"
     ]
    }
   ],
   "source": [
    "git log"
   ]
  },
  {
   "attachments": {},
   "cell_type": "markdown",
   "metadata": {},
   "source": [
    "`-p` or `--patch` option to show the difference introduced in each commit. `-<number>` to show last `<number>` entries:"
   ]
  },
  {
   "cell_type": "code",
   "execution_count": 12,
   "metadata": {
    "vscode": {
     "languageId": "shellscript"
    }
   },
   "outputs": [
    {
     "name": "stdout",
     "output_type": "stream",
     "text": [
      "\u001b[33mcommit a2dda2e5719ec78b0ed90aee4370eea93e0d820a\u001b[m\u001b[33m (\u001b[m\u001b[1;36mHEAD -> \u001b[m\u001b[1;32mmaster\u001b[m\u001b[33m)\u001b[m\n",
      "Author: igor-dimi <igor-dimi@protonmail.com>\n",
      "Date:   Mon May 15 17:50:42 2023 +0200\n",
      "\n",
      "    renaming E\n",
      "\n",
      "\u001b[1mdiff --git a/E b/E.new\u001b[m\n",
      "\u001b[1msimilarity index 100%\u001b[m\n",
      "\u001b[1mrename from E\u001b[m\n",
      "\u001b[1mrename to E.new\u001b[m\n",
      "\n",
      "\u001b[33mcommit 568364387aa6b6f2a849ecaf852c542aded351b0\u001b[m\n",
      "Author: igor-dimi <igor-dimi@protonmail.com>\n",
      "Date:   Mon May 15 17:50:42 2023 +0200\n",
      "\n",
      "    renamed C to C.new\n",
      "\n",
      "\u001b[1mdiff --git a/C b/C.new\u001b[m\n",
      "\u001b[1msimilarity index 100%\u001b[m\n",
      "\u001b[1mrename from C\u001b[m\n",
      "\u001b[1mrename to C.new\u001b[m\n",
      "\n",
      "\u001b[33mcommit 82151df3aa5d5781891b73a10c4b8717a6329a5e\u001b[m\n",
      "Author: igor-dimi <igor-dimi@protonmail.com>\n",
      "Date:   Mon May 15 17:50:41 2023 +0200\n",
      "\n",
      "    removing B\n",
      "\n",
      "\u001b[1mdiff --git a/B b/B\u001b[m\n",
      "\u001b[1mdeleted file mode 100644\u001b[m\n",
      "\u001b[1mindex 8dfe7f1..0000000\u001b[m\n",
      "\u001b[1m--- a/B\u001b[m\n",
      "\u001b[1m+++ /dev/null\u001b[m\n",
      "\u001b[36m@@ -1,2 +0,0 @@\u001b[m\n",
      "\u001b[31m-I am B\u001b[m\n",
      "\u001b[31m-adding a new line to B\u001b[m\n"
     ]
    }
   ],
   "source": [
    "git log -p -3"
   ]
  },
  {
   "attachments": {},
   "cell_type": "markdown",
   "metadata": {},
   "source": [
    "to see abbrevieated statistics for each commit `--stat` can be used:"
   ]
  },
  {
   "cell_type": "code",
   "execution_count": 13,
   "metadata": {
    "vscode": {
     "languageId": "shellscript"
    }
   },
   "outputs": [
    {
     "name": "stdout",
     "output_type": "stream",
     "text": [
      "\u001b[33mcommit a2dda2e5719ec78b0ed90aee4370eea93e0d820a\u001b[m\u001b[33m (\u001b[m\u001b[1;36mHEAD -> \u001b[m\u001b[1;32mmaster\u001b[m\u001b[33m)\u001b[m\n",
      "Author: igor-dimi <igor-dimi@protonmail.com>\n",
      "Date:   Mon May 15 17:50:42 2023 +0200\n",
      "\n",
      "    renaming E\n",
      "---\n",
      " E => E.new | 0\n",
      " 1 file changed, 0 insertions(+), 0 deletions(-)\n",
      "\n",
      "\u001b[1mdiff --git a/E b/E.new\u001b[m\n",
      "\u001b[1msimilarity index 100%\u001b[m\n",
      "\u001b[1mrename from E\u001b[m\n",
      "\u001b[1mrename to E.new\u001b[m\n",
      "\n",
      "\u001b[33mcommit 568364387aa6b6f2a849ecaf852c542aded351b0\u001b[m\n",
      "Author: igor-dimi <igor-dimi@protonmail.com>\n",
      "Date:   Mon May 15 17:50:42 2023 +0200\n",
      "\n",
      "    renamed C to C.new\n",
      "---\n",
      " C => C.new | 0\n",
      " 1 file changed, 0 insertions(+), 0 deletions(-)\n",
      "\n",
      "\u001b[1mdiff --git a/C b/C.new\u001b[m\n",
      "\u001b[1msimilarity index 100%\u001b[m\n",
      "\u001b[1mrename from C\u001b[m\n",
      "\u001b[1mrename to C.new\u001b[m\n",
      "\n",
      "\u001b[33mcommit 82151df3aa5d5781891b73a10c4b8717a6329a5e\u001b[m\n",
      "Author: igor-dimi <igor-dimi@protonmail.com>\n",
      "Date:   Mon May 15 17:50:41 2023 +0200\n",
      "\n",
      "    removing B\n",
      "---\n",
      " B | 2 \u001b[31m--\u001b[m\n",
      " 1 file changed, 2 deletions(-)\n",
      "\n",
      "\u001b[1mdiff --git a/B b/B\u001b[m\n",
      "\u001b[1mdeleted file mode 100644\u001b[m\n",
      "\u001b[1mindex 8dfe7f1..0000000\u001b[m\n",
      "\u001b[1m--- a/B\u001b[m\n",
      "\u001b[1m+++ /dev/null\u001b[m\n",
      "\u001b[36m@@ -1,2 +0,0 @@\u001b[m\n",
      "\u001b[31m-I am B\u001b[m\n",
      "\u001b[31m-adding a new line to B\u001b[m\n"
     ]
    }
   ],
   "source": [
    "git log -p -3 --stat"
   ]
  },
  {
   "attachments": {},
   "cell_type": "markdown",
   "metadata": {},
   "source": [
    "`--pretty` option can be used to display history in different formats other than the default. There are prebuilt options like `oneline`, `short` `full`, `fuller`:"
   ]
  },
  {
   "cell_type": "code",
   "execution_count": 14,
   "metadata": {
    "vscode": {
     "languageId": "shellscript"
    }
   },
   "outputs": [
    {
     "name": "stdout",
     "output_type": "stream",
     "text": [
      "\u001b[33ma2dda2e5719ec78b0ed90aee4370eea93e0d820a\u001b[m\u001b[33m (\u001b[m\u001b[1;36mHEAD -> \u001b[m\u001b[1;32mmaster\u001b[m\u001b[33m)\u001b[m renaming E\n",
      "\u001b[33m568364387aa6b6f2a849ecaf852c542aded351b0\u001b[m renamed C to C.new\n",
      "\u001b[33m82151df3aa5d5781891b73a10c4b8717a6329a5e\u001b[m removing B\n",
      "\u001b[33ma712d3f4da78416d64b0980682e3f352e6aab1df\u001b[m deleted A\n",
      "\u001b[33mdd959c45ddcc9fd62689755a9640da3b77a6a50a\u001b[m new changes to A\n",
      "\u001b[33md2a95b68f406559673097897f4e3ea8e96f23b84\u001b[m changes to A\n",
      "\u001b[33m5a80c48f9819ca4a442f1fc8a79d4478b29686d4\u001b[m changing git ignore\n",
      "\u001b[33ma93d2a756c8d894113e89b2869f819ed57dbc1c9\u001b[m adding gitignore and some changes to files\n",
      "\u001b[33m8cface283d2a5179ac1fe163c18045d4e6c3cbd9\u001b[m new commit\n",
      "\u001b[33m061e4e534a87c925da8a8d8ba281c4642954c43c\u001b[m changing B\n",
      "\u001b[33m469d4d479fa2fa93621a015f30a2767f29444f20\u001b[m first commit\n"
     ]
    }
   ],
   "source": [
    "git log --pretty=oneline"
   ]
  },
  {
   "cell_type": "code",
   "execution_count": 15,
   "metadata": {
    "vscode": {
     "languageId": "shellscript"
    }
   },
   "outputs": [
    {
     "name": "stdout",
     "output_type": "stream",
     "text": [
      "\u001b[33mcommit a2dda2e5719ec78b0ed90aee4370eea93e0d820a\u001b[m\u001b[33m (\u001b[m\u001b[1;36mHEAD -> \u001b[m\u001b[1;32mmaster\u001b[m\u001b[33m)\u001b[m\n",
      "Author: igor-dimi <igor-dimi@protonmail.com>\n",
      "\n",
      "    renaming E\n",
      "\n",
      "\u001b[33mcommit 568364387aa6b6f2a849ecaf852c542aded351b0\u001b[m\n",
      "Author: igor-dimi <igor-dimi@protonmail.com>\n",
      "\n",
      "    renamed C to C.new\n",
      "\n",
      "\u001b[33mcommit 82151df3aa5d5781891b73a10c4b8717a6329a5e\u001b[m\n",
      "Author: igor-dimi <igor-dimi@protonmail.com>\n",
      "\n",
      "    removing B\n",
      "\n",
      "\u001b[33mcommit a712d3f4da78416d64b0980682e3f352e6aab1df\u001b[m\n",
      "Author: igor-dimi <igor-dimi@protonmail.com>\n",
      "\n",
      "    deleted A\n",
      "\n",
      "\u001b[33mcommit dd959c45ddcc9fd62689755a9640da3b77a6a50a\u001b[m\n",
      "Author: igor-dimi <igor-dimi@protonmail.com>\n",
      "\n",
      "    new changes to A\n"
     ]
    }
   ],
   "source": [
    "git log --pretty=short -5"
   ]
  },
  {
   "cell_type": "code",
   "execution_count": 16,
   "metadata": {
    "vscode": {
     "languageId": "shellscript"
    }
   },
   "outputs": [
    {
     "name": "stdout",
     "output_type": "stream",
     "text": [
      "\u001b[33mcommit a2dda2e5719ec78b0ed90aee4370eea93e0d820a\u001b[m\u001b[33m (\u001b[m\u001b[1;36mHEAD -> \u001b[m\u001b[1;32mmaster\u001b[m\u001b[33m)\u001b[m\n",
      "Author: igor-dimi <igor-dimi@protonmail.com>\n",
      "Commit: igor-dimi <igor-dimi@protonmail.com>\n",
      "\n",
      "    renaming E\n",
      "\n",
      "\u001b[33mcommit 568364387aa6b6f2a849ecaf852c542aded351b0\u001b[m\n",
      "Author: igor-dimi <igor-dimi@protonmail.com>\n",
      "Commit: igor-dimi <igor-dimi@protonmail.com>\n",
      "\n",
      "    renamed C to C.new\n",
      "\n",
      "\u001b[33mcommit 82151df3aa5d5781891b73a10c4b8717a6329a5e\u001b[m\n",
      "Author: igor-dimi <igor-dimi@protonmail.com>\n",
      "Commit: igor-dimi <igor-dimi@protonmail.com>\n",
      "\n",
      "    removing B\n",
      "\n",
      "\u001b[33mcommit a712d3f4da78416d64b0980682e3f352e6aab1df\u001b[m\n",
      "Author: igor-dimi <igor-dimi@protonmail.com>\n",
      "Commit: igor-dimi <igor-dimi@protonmail.com>\n",
      "\n",
      "    deleted A\n",
      "\n",
      "\u001b[33mcommit dd959c45ddcc9fd62689755a9640da3b77a6a50a\u001b[m\n",
      "Author: igor-dimi <igor-dimi@protonmail.com>\n",
      "Commit: igor-dimi <igor-dimi@protonmail.com>\n",
      "\n",
      "    new changes to A\n"
     ]
    }
   ],
   "source": [
    "git log --pretty=full -5"
   ]
  },
  {
   "cell_type": "code",
   "execution_count": 17,
   "metadata": {
    "vscode": {
     "languageId": "shellscript"
    }
   },
   "outputs": [
    {
     "name": "stdout",
     "output_type": "stream",
     "text": [
      "\u001b[33mcommit a2dda2e5719ec78b0ed90aee4370eea93e0d820a\u001b[m\u001b[33m (\u001b[m\u001b[1;36mHEAD -> \u001b[m\u001b[1;32mmaster\u001b[m\u001b[33m)\u001b[m\n",
      "Author:     igor-dimi <igor-dimi@protonmail.com>\n",
      "AuthorDate: Mon May 15 17:50:42 2023 +0200\n",
      "Commit:     igor-dimi <igor-dimi@protonmail.com>\n",
      "CommitDate: Mon May 15 17:50:42 2023 +0200\n",
      "\n",
      "    renaming E\n",
      "\n",
      "\u001b[33mcommit 568364387aa6b6f2a849ecaf852c542aded351b0\u001b[m\n",
      "Author:     igor-dimi <igor-dimi@protonmail.com>\n",
      "AuthorDate: Mon May 15 17:50:42 2023 +0200\n",
      "Commit:     igor-dimi <igor-dimi@protonmail.com>\n",
      "CommitDate: Mon May 15 17:50:42 2023 +0200\n",
      "\n",
      "    renamed C to C.new\n",
      "\n",
      "\u001b[33mcommit 82151df3aa5d5781891b73a10c4b8717a6329a5e\u001b[m\n",
      "Author:     igor-dimi <igor-dimi@protonmail.com>\n",
      "AuthorDate: Mon May 15 17:50:41 2023 +0200\n",
      "Commit:     igor-dimi <igor-dimi@protonmail.com>\n",
      "CommitDate: Mon May 15 17:50:41 2023 +0200\n",
      "\n",
      "    removing B\n",
      "\n",
      "\u001b[33mcommit a712d3f4da78416d64b0980682e3f352e6aab1df\u001b[m\n",
      "Author:     igor-dimi <igor-dimi@protonmail.com>\n",
      "AuthorDate: Mon May 15 17:50:41 2023 +0200\n",
      "Commit:     igor-dimi <igor-dimi@protonmail.com>\n",
      "CommitDate: Mon May 15 17:50:41 2023 +0200\n",
      "\n",
      "    deleted A\n",
      "\n",
      "\u001b[33mcommit dd959c45ddcc9fd62689755a9640da3b77a6a50a\u001b[m\n",
      "Author:     igor-dimi <igor-dimi@protonmail.com>\n",
      "AuthorDate: Mon May 15 17:50:41 2023 +0200\n",
      "Commit:     igor-dimi <igor-dimi@protonmail.com>\n",
      "CommitDate: Mon May 15 17:50:41 2023 +0200\n",
      "\n",
      "    new changes to A\n"
     ]
    }
   ],
   "source": [
    "git log --pretty=fuller -5"
   ]
  },
  {
   "attachments": {},
   "cell_type": "markdown",
   "metadata": {},
   "source": [
    "`format` option to `--pretty` can be used to generate custom format."
   ]
  },
  {
   "cell_type": "code",
   "execution_count": 18,
   "metadata": {
    "vscode": {
     "languageId": "shellscript"
    }
   },
   "outputs": [
    {
     "name": "stdout",
     "output_type": "stream",
     "text": [
      "a2dda2e - igor-dimi, 1 second ago : renaming E\n",
      "5683643 - igor-dimi, 1 second ago : renamed C to C.new\n",
      "82151df - igor-dimi, 2 seconds ago : removing B\n",
      "a712d3f - igor-dimi, 2 seconds ago : deleted A\n",
      "dd959c4 - igor-dimi, 2 seconds ago : new changes to A\n"
     ]
    }
   ],
   "source": [
    "git log --pretty=format:\"%h - %an, %ar : %s\" -5"
   ]
  },
  {
   "attachments": {},
   "cell_type": "markdown",
   "metadata": {
    "vscode": {
     "languageId": "shellscript"
    }
   },
   "source": [
    "There are many useful formatting options, some of them listed below:\n",
    "\n",
    "| **Option** | **Description of Output**                    |\n",
    "| ---------- | -------------------------------------------- |\n",
    "| `%H`       | Commit Hash                                  |\n",
    "| `%h`       | Abbreviated Commit Hash                      |\n",
    "| `%T`       | Tree hash                                    |\n",
    "| `%t`       | Abbreviated tree hash                        |\n",
    "| `%P`       | Parent hashes                                |\n",
    "| `%p`       | Abbreviated parent hashes                    |\n",
    "| `%an`      | Author name                                  |\n",
    "| `%ae`      | Author email                                 |\n",
    "| `%ad`      | Author date(format respects `--date=option`) |\n",
    "| `%ar`      | Author date, relative                        |\n",
    "| `%cn`      | Comitter name                                |\n",
    "| `%cd`      | Committer date                               |\n",
    "| `%cr`      | Committer dater, relative                    |\n",
    "| `%s`       | Subject                                      |\n",
    "\n",
    "Let's demonstrate some of these format options:"
   ]
  },
  {
   "cell_type": "code",
   "execution_count": 19,
   "metadata": {
    "vscode": {
     "languageId": "shellscript"
    }
   },
   "outputs": [
    {
     "name": "stdout",
     "output_type": "stream",
     "text": [
      "a2dda2e - author: igor-dimi, email: igor-dimi@protonmail.com, 1 second ago, renaming E\n",
      "5683643 - author: igor-dimi, email: igor-dimi@protonmail.com, 1 second ago, renamed C to C.new\n",
      "82151df - author: igor-dimi, email: igor-dimi@protonmail.com, 2 seconds ago, removing B\n",
      "a712d3f - author: igor-dimi, email: igor-dimi@protonmail.com, 2 seconds ago, deleted A\n",
      "dd959c4 - author: igor-dimi, email: igor-dimi@protonmail.com, 2 seconds ago, new changes to A\n"
     ]
    }
   ],
   "source": [
    "git log --pretty=format:\"%h - author: %an, email: %ae, %ad, %s\" -5 --date=human"
   ]
  },
  {
   "attachments": {},
   "cell_type": "markdown",
   "metadata": {},
   "source": [
    "Another formatting option that can be provided to `git log` is `--graph`, which outpouts commit history in an ASCII format. This can be combined with pretty:"
   ]
  },
  {
   "cell_type": "code",
   "execution_count": 20,
   "metadata": {
    "vscode": {
     "languageId": "shellscript"
    }
   },
   "outputs": [
    {
     "name": "stdout",
     "output_type": "stream",
     "text": [
      "* \u001b[33ma2dda2e5719ec78b0ed90aee4370eea93e0d820a\u001b[m\u001b[33m (\u001b[m\u001b[1;36mHEAD -> \u001b[m\u001b[1;32mmaster\u001b[m\u001b[33m)\u001b[m renaming E\n",
      "* \u001b[33m568364387aa6b6f2a849ecaf852c542aded351b0\u001b[m renamed C to C.new\n",
      "* \u001b[33m82151df3aa5d5781891b73a10c4b8717a6329a5e\u001b[m removing B\n",
      "* \u001b[33ma712d3f4da78416d64b0980682e3f352e6aab1df\u001b[m deleted A\n",
      "* \u001b[33mdd959c45ddcc9fd62689755a9640da3b77a6a50a\u001b[m new changes to A\n"
     ]
    }
   ],
   "source": [
    "git log --pretty=oneline --graph -5"
   ]
  },
  {
   "attachments": {},
   "cell_type": "markdown",
   "metadata": {},
   "source": [
    "The output is not very interesting for the time being, because there haven't been any branches. \n",
    "\n",
    "We provide a talbe listing formatting options that can be provided to `git log`, some of which we have covered, and some new ones:\n",
    "\n",
    "| Option            | Description                                                                                               |\n",
    "| ----------------- | --------------------------------------------------------------------------------------------------------- |\n",
    "| `-p`              | Show the **patch** introduced in each commit                                                              |\n",
    "| `--stat`          | Show **statistics** for files modified in each commit                                                     |\n",
    "| `--shortstat`     | Display only the changed/insertions/deletions line from `--stat command                                   |\n",
    "| `--name-only`     | Show the list of files modified after the commit information                                              |\n",
    "| `--name-status`   | Show the list of files affected with added/modified/deleted information as well                           |\n",
    "| `--abbrev-commit` | Show only few characters of the SHA-1 checksum instead of all 40                                          |\n",
    "| `--relative-date` | Display date in relative format (e.g. two weeks ago)                                                      |\n",
    "| `--graph`         | Display an ASCII graph of the branch and merge history beside the log output.                             |\n",
    "| `--pretty`        | Show commits in alternative format: options: **oneline**, **short**, **full**, **fuller**, and **format** |\n",
    "| `--oneline`       | Shorthand for `--pretty=oneline --abbrev-commit`                                                          |\n"
   ]
  },
  {
   "cell_type": "code",
   "execution_count": 21,
   "metadata": {
    "vscode": {
     "languageId": "shellscript"
    }
   },
   "outputs": [
    {
     "name": "stdout",
     "output_type": "stream",
     "text": [
      "* \u001b[33ma2dda2e\u001b[m\u001b[33m (\u001b[m\u001b[1;36mHEAD -> \u001b[m\u001b[1;32mmaster\u001b[m\u001b[33m)\u001b[m renaming E\n",
      "* \u001b[33m5683643\u001b[m renamed C to C.new\n",
      "* \u001b[33m82151df\u001b[m removing B\n",
      "* \u001b[33ma712d3f\u001b[m deleted A\n",
      "* \u001b[33mdd959c4\u001b[m new changes to A\n",
      "* \u001b[33md2a95b6\u001b[m changes to A\n",
      "* \u001b[33m5a80c48\u001b[m changing git ignore\n",
      "* \u001b[33ma93d2a7\u001b[m adding gitignore and some changes to files\n",
      "* \u001b[33m8cface2\u001b[m new commit\n",
      "* \u001b[33m061e4e5\u001b[m changing B\n",
      "* \u001b[33m469d4d4\u001b[m first commit\n"
     ]
    }
   ],
   "source": [
    "git log --oneline --graph"
   ]
  },
  {
   "cell_type": "code",
   "execution_count": 25,
   "metadata": {
    "vscode": {
     "languageId": "shellscript"
    }
   },
   "outputs": [
    {
     "name": "stdout",
     "output_type": "stream",
     "text": [
      "* a2dda2e igor-dimi@protonmail.com Mon May 15 17:50:42 2023 renaming E\n",
      "* 5683643 igor-dimi@protonmail.com Mon May 15 17:50:42 2023 renamed C to C.new\n",
      "* 82151df igor-dimi@protonmail.com Mon May 15 17:50:41 2023 removing B\n",
      "* a712d3f igor-dimi@protonmail.com Mon May 15 17:50:41 2023 deleted A\n",
      "* dd959c4 igor-dimi@protonmail.com Mon May 15 17:50:41 2023 new changes to A\n",
      "* d2a95b6 igor-dimi@protonmail.com Mon May 15 17:50:41 2023 changes to A\n",
      "* 5a80c48 igor-dimi@protonmail.com Mon May 15 17:50:40 2023 changing git ignore\n",
      "* a93d2a7 igor-dimi@protonmail.com Mon May 15 17:50:40 2023 adding gitignore and some changes to files\n",
      "* 8cface2 igor-dimi@protonmail.com Mon May 15 17:50:39 2023 new commit\n",
      "* 061e4e5 igor-dimi@protonmail.com Mon May 15 17:50:39 2023 changing B\n",
      "* 469d4d4 igor-dimi@protonmail.com Mon May 15 17:50:38 2023 first commit\n"
     ]
    }
   ],
   "source": [
    "git log --pretty=format:\"%h %ae %ad %s\" --graph --date=local"
   ]
  },
  {
   "attachments": {},
   "cell_type": "markdown",
   "metadata": {},
   "source": [
    "## Limiting Log Output\n",
    "\n",
    "* `git log -<number>` to limit the output to the last`<number>` commit. \n",
    "* `git log --since=<time interval>`. `<time interval>` works with many different formats:"
   ]
  },
  {
   "cell_type": "code",
   "execution_count": 31,
   "metadata": {
    "vscode": {
     "languageId": "shellscript"
    }
   },
   "outputs": [
    {
     "name": "stdout",
     "output_type": "stream",
     "text": [
      "\u001b[33ma2dda2e\u001b[m\u001b[33m (\u001b[m\u001b[1;36mHEAD -> \u001b[m\u001b[1;32mmaster\u001b[m\u001b[33m)\u001b[m renaming E\n",
      "\u001b[33m5683643\u001b[m renamed C to C.new\n",
      "\u001b[33m82151df\u001b[m removing B\n",
      "\u001b[33ma712d3f\u001b[m deleted A\n",
      "\u001b[33mdd959c4\u001b[m new changes to A\n",
      "\u001b[33md2a95b6\u001b[m changes to A\n",
      "\u001b[33m5a80c48\u001b[m changing git ignore\n",
      "\u001b[33ma93d2a7\u001b[m adding gitignore and some changes to files\n",
      "\u001b[33m8cface2\u001b[m new commit\n",
      "\u001b[33m061e4e5\u001b[m changing B\n",
      "\u001b[33m469d4d4\u001b[m first commit\n"
     ]
    }
   ],
   "source": [
    "git log --oneline --since=\"2 hours\""
   ]
  },
  {
   "attachments": {},
   "cell_type": "markdown",
   "metadata": {},
   "source": [
    "* `--author` option allows filltering on a specific author\n",
    "* `--grep` searching for keywords in the commit messages\n",
    "  \n",
    ":::{note}\n",
    "More than one instance of both `--author` and `--grep` can be specified, and seach is conducted **disjunctively**, i.e. **any** string matching any of the patter will be output. To conduct the search **conjunctively** `--all-match` option should be specified.\n",
    ":::"
   ]
  },
  {
   "cell_type": "code",
   "execution_count": 37,
   "metadata": {
    "vscode": {
     "languageId": "shellscript"
    }
   },
   "outputs": [
    {
     "name": "stdout",
     "output_type": "stream",
     "text": [
      "* \u001b[33m82151df\u001b[m removing B\n",
      "* \u001b[33ma712d3f\u001b[m deleted A\n",
      "* \u001b[33mdd959c4\u001b[m new changes to A\n",
      "* \u001b[33md2a95b6\u001b[m changes to A\n",
      "* \u001b[33m061e4e5\u001b[m changing B\n"
     ]
    }
   ],
   "source": [
    "git log --author=\"igor-dimi\" --oneline --graph --grep=\"A\" --grep=\"B\""
   ]
  },
  {
   "cell_type": "code",
   "execution_count": 38,
   "metadata": {
    "vscode": {
     "languageId": "shellscript"
    }
   },
   "outputs": [
    {
     "name": "stdout",
     "output_type": "stream",
     "text": [
      "* \u001b[33mdd959c4\u001b[m new changes to A\n",
      "* \u001b[33md2a95b6\u001b[m changes to A\n"
     ]
    }
   ],
   "source": [
    "git log --author=\"igor-dimi\" --oneline --graph --grep=\"A\" --grep=\"chang*\" --all-match"
   ]
  },
  {
   "cell_type": "code",
   "execution_count": null,
   "metadata": {
    "vscode": {
     "languageId": "shellscript"
    }
   },
   "outputs": [],
   "source": []
  }
 ],
 "metadata": {
  "kernelspec": {
   "display_name": "Bash",
   "language": "bash",
   "name": "bash"
  },
  "language_info": {
   "codemirror_mode": "shell",
   "file_extension": ".sh",
   "mimetype": "text/x-sh",
   "name": "bash"
  },
  "orig_nbformat": 4
 },
 "nbformat": 4,
 "nbformat_minor": 2
}
