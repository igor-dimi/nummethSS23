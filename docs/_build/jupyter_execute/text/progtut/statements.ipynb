{
 "cells": [
  {
   "attachments": {},
   "cell_type": "markdown",
   "metadata": {},
   "source": [
    "# Statements and Expressions\n",
    "\n",
    "## Statements\n",
    "\n",
    "An object of a certain type can take different values during its existense. This transformation of values is called **change of state** of the object.\n",
    "\n",
    "Computers can change the sate of an object residing in memory. This is called an **action**. The **instructions** to peform actions in a given programming language are called **statements**. \n",
    "\n",
    "The change of variables state caused by a statement is said to be the **effect** of the statement.\n",
    "\n",
    "## Expressions \n",
    "\n",
    "**Expressions**  do not transform the state of the variables, but denote **values**. \n",
    "\n",
    "Expressions are formed according to the rules of some formal notation (like the language of arithemtic)\n",
    "\n",
    "Some expressions: `1 - (3 / 6)`, `1 + x * (y % 10)`\n",
    "\n",
    "Thus:\n",
    "\n",
    "* expressions **denote values**,\n",
    "* statements **have effects**\n",
    "\n",
    "```{note}\n",
    "Understanding this dichotomy between statements and expessions is fundamental. \n",
    "```\n",
    "\n",
    "## Assignment\n",
    "\n",
    "The most basic statement is the **assignment**. It has the **effect** of updating the value of the variable to the value denoted by the **expression** on the right-hand side of the assignment operator. In C++:\n"
   ]
  },
  {
   "cell_type": "code",
   "execution_count": 1,
   "metadata": {
    "vscode": {
     "languageId": "cpp"
    }
   },
   "outputs": [
    {
     "name": "stdout",
     "output_type": "stream",
     "text": [
      "1 1 \n"
     ]
    }
   ],
   "source": [
    "#include <iostream>\n",
    "\n",
    "int x(1);  //declare & initialize x\n",
    "int y = x; //declare y and assign the value denoted by the expression \"x\" to y. \n",
    "\n",
    "std::cout << x << \" \" << y << \" \" << std::endl;\n"
   ]
  },
  {
   "attachments": {},
   "cell_type": "markdown",
   "metadata": {},
   "source": [
    "The expression on the right hand side of the assignment can contain the variable being updated. Expression is evaluated before assignment:"
   ]
  },
  {
   "cell_type": "code",
   "execution_count": 2,
   "metadata": {
    "vscode": {
     "languageId": "cpp"
    }
   },
   "outputs": [
    {
     "name": "stdout",
     "output_type": "stream",
     "text": [
      "4\n"
     ]
    }
   ],
   "source": [
    "y = (y * 3) + x; //assign the value denoted by (y * 3) + x to y. \n",
    "std::cout << y << std::endl;"
   ]
  },
  {
   "attachments": {},
   "cell_type": "markdown",
   "metadata": {},
   "source": [
    "## Side Effects\n",
    "\n",
    "In some programming languages like Pascal the world of statements and the world of expressions are completely distinct. A given syntactical entity is either a statement or an expression. \n",
    "\n",
    "But in C/C++ a syntactical entity can be both a statement (have an effect) and an expression (denote a value). \n",
    "The action that such an expression performs is called the **side effect** of the expression.  \n",
    "\n",
    "**Example**: `j--` is both a statement and an expression. Its effect is to assign to the variable `j` the value of the expression `j - 1`. I.e. it is equivalent to `j = j - 1`. As an expression it denotes the value `j` before assignment."
   ]
  },
  {
   "cell_type": "code",
   "execution_count": 3,
   "metadata": {
    "vscode": {
     "languageId": "cpp"
    }
   },
   "outputs": [
    {
     "name": "stdout",
     "output_type": "stream",
     "text": [
      "10\n"
     ]
    },
    {
     "name": "stdout",
     "output_type": "stream",
     "text": [
      "9\n"
     ]
    }
   ],
   "source": [
    "int j = 10;\n",
    "\n",
    "std::cout << j-- << std::endl; //side effect: decrement j. \n",
    "std:: cout << j << std::endl;"
   ]
  },
  {
   "attachments": {},
   "cell_type": "markdown",
   "metadata": {
    "vscode": {
     "languageId": "cpp"
    }
   },
   "source": [
    "Having expressions with side effects is academically less clean, but has practical benefits as it allows shorter programming constructs and succinct **idioms** like:"
   ]
  },
  {
   "cell_type": "code",
   "execution_count": 4,
   "metadata": {
    "vscode": {
     "languageId": "cpp"
    }
   },
   "outputs": [
    {
     "name": "stdout",
     "output_type": "stream",
     "text": [
      "9 8 7 6 5 4 3 2 1 0 "
     ]
    }
   ],
   "source": [
    "int i = 10;\n",
    "while (i--){\n",
    "    std::cout << i << \" \"; \n",
    "}"
   ]
  }
 ],
 "metadata": {
  "kernelspec": {
   "display_name": "C++17",
   "language": "C++17",
   "name": "xcpp17"
  },
  "language_info": {
   "codemirror_mode": "text/x-c++src",
   "file_extension": ".cpp",
   "mimetype": "text/x-c++src",
   "name": "c++",
   "version": "17"
  }
 },
 "nbformat": 4,
 "nbformat_minor": 2
}