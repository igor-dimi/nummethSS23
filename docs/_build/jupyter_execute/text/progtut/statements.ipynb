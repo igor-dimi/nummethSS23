{
 "cells": [
  {
   "attachments": {},
   "cell_type": "markdown",
   "metadata": {},
   "source": [
    "# Statements and Expressions\n",
    "\n",
    "## Statements\n",
    "\n",
    "An object of a certain type can take different values during its existense. This transformation is called **change of state** of the object.\n",
    "\n",
    "Some domains like $\\tilde{\\mathbb{Z}}$ and their operations can directly be represented in computers and an object of the domain can directly reside in computers memory.\n",
    "\n",
    "Computers processor can change the sate of an object. This is called an **action**. The instructions to peform actions in a given programming language are called **statements**. \n",
    "The change of state of a variable by a statement is said to be the **effect** of the statement.\n",
    "\n",
    "## Expressions \n",
    "\n",
    "**Expressions** on the other hand are syntactical entities that are formed according to the rules of some formal notation (like the language of arithemtic) that do not transform the state of the variables, but denote **values**, like `1 + (1 - 3)` or `x + (y - 3)`\n",
    "\n",
    "Thus:\n",
    "\n",
    "* expressions **denote values**,\n",
    "* statements **have effects**\n",
    "\n",
    "```{note}\n",
    "Understanding this dichotomy between statements and expessions is fundamental. \n",
    "```\n",
    "\n",
    "## Assignment\n",
    "\n",
    "The most basic statement is the **assignment** statement, This statement has the **effect** of updating the value of the variable to the value denoted by the **expression** on the right-hand side of the assignment operator. In C++:\n"
   ]
  },
  {
   "cell_type": "code",
   "execution_count": 1,
   "metadata": {
    "vscode": {
     "languageId": "cpp"
    }
   },
   "outputs": [
    {
     "name": "stdout",
     "output_type": "stream",
     "text": [
      "1 1 \n"
     ]
    }
   ],
   "source": [
    "#include <iostream>\n",
    "\n",
    "int x(1);\n",
    "int y = x;\n",
    "\n",
    "std::cout << x << \" \" << y << \" \" << std::endl;\n"
   ]
  },
  {
   "attachments": {},
   "cell_type": "markdown",
   "metadata": {},
   "source": [
    "The expression on the right hand side of the assignment can contain the variable that is being acted on. Expression is evaluated before assignment."
   ]
  },
  {
   "cell_type": "code",
   "execution_count": 2,
   "metadata": {
    "vscode": {
     "languageId": "cpp"
    }
   },
   "outputs": [
    {
     "name": "stdout",
     "output_type": "stream",
     "text": [
      "4\n"
     ]
    }
   ],
   "source": [
    "y = (y * 3) + x;\n",
    "std::cout << y << std::endl;"
   ]
  }
 ],
 "metadata": {
  "kernelspec": {
   "display_name": "C++17",
   "language": "C++17",
   "name": "xcpp17"
  },
  "language_info": {
   "codemirror_mode": "text/x-c++src",
   "file_extension": ".cpp",
   "mimetype": "text/x-c++src",
   "name": "c++",
   "version": "17"
  }
 },
 "nbformat": 4,
 "nbformat_minor": 2
}