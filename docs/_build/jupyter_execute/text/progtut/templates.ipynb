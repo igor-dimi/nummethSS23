{
 "cells": [
  {
   "cell_type": "code",
   "execution_count": 1,
   "metadata": {
    "tags": [
     "hide-input"
    ],
    "vscode": {
     "languageId": "cpp"
    }
   },
   "outputs": [],
   "source": [
    "\n",
    "#pragma cling add_include_path(\"/home/igor/Documents/uni/ss23/nummethSS23/hdnum/\")\n",
    "#include <iostream>\n",
    "#include <cmath>\n",
    "#include <complex>\n",
    "#include <stdio.h>\n",
    "\n",
    "\n",
    "#include \"src/densematrix.hh\"\n",
    "#include \"src/exceptions.hh\"\n",
    "#include \"src/lr.hh\"\n",
    "#include \"src/newton.hh\"\n",
    "#include \"src/ode.hh\"\n",
    "#include \"src/opcounter.hh\"\n",
    "#include \"src/pde.hh\"\n",
    "#include \"src/precision.hh\"\n",
    "#include \"src/qr.hh\"\n",
    "#include \"src/rungekutta.hh\"\n",
    "#include \"src/sgrid.hh\"\n",
    "#include \"src/timer.hh\"\n",
    "#include \"src/vector.hh\""
   ]
  },
  {
   "attachments": {},
   "cell_type": "markdown",
   "metadata": {
    "tags": [
     "hide-input"
    ]
   },
   "source": [
    "# Templates \n",
    "\n",
    "Consider following function defintions in C++:\n",
    "\n",
    "::::{grid}\n",
    ":gutter: 2\n",
    "\n",
    ":::{grid-item}\n",
    ":outline:\n",
    "```cpp\n",
    "double f (double x)\n",
    "{\n",
    "    return x * x;\n",
    "}\n",
    "```\n",
    ":::\n",
    "\n",
    ":::{grid-item}\n",
    ":outline:\n",
    "```cpp\n",
    "float f (float x)\n",
    "{\n",
    "    return x * x;\n",
    "}\n",
    "```\n",
    ":::\n",
    "\n",
    "::::\n",
    "\n",
    "\n",
    "These two definitions compute the same function, with the only difference being the signature type defintions. It is possible to avoid this redundancy by using the **templates** abstraction mechanism, that allows specifying generic types:"
   ]
  },
  {
   "cell_type": "code",
   "execution_count": 2,
   "metadata": {
    "vscode": {
     "languageId": "cpp"
    }
   },
   "outputs": [],
   "source": [
    "template<typename T>\n",
    "T f (T y)\n",
    "{\n",
    "    return y * y;\n",
    "}\n",
    "\n",
    "int x(3);\n",
    "float y(5.0);\n",
    "double z(7.0); "
   ]
  },
  {
   "cell_type": "code",
   "execution_count": 3,
   "metadata": {
    "vscode": {
     "languageId": "cpp"
    }
   },
   "outputs": [
    {
     "name": "stdout",
     "output_type": "stream",
     "text": [
      "9 2.77778 1.96"
     ]
    }
   ],
   "source": [
    "std::cout << f(x) << \" \" << f(y/x) << \" \" << f(z / y) ;"
   ]
  }
 ],
 "metadata": {
  "kernelspec": {
   "display_name": "C++17",
   "language": "C++17",
   "name": "xcpp17"
  },
  "language_info": {
   "codemirror_mode": "text/x-c++src",
   "file_extension": ".cpp",
   "mimetype": "text/x-c++src",
   "name": "c++",
   "version": "17"
  }
 },
 "nbformat": 4,
 "nbformat_minor": 2
}