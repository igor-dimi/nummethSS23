{
 "cells": [
  {
   "cell_type": "code",
   "execution_count": 1,
   "metadata": {
    "tags": [
     "hide-output",
     "hide-input"
    ],
    "vscode": {
     "languageId": "shellscript"
    }
   },
   "outputs": [
    {
     "name": "stdout",
     "output_type": "stream",
     "text": [
      "\u001b[33mhint: Using 'master' as the name for the initial branch. This default branch name\u001b[m\n",
      "\u001b[33mhint: is subject to change. To configure the initial branch name to use in all\u001b[m\n",
      "\u001b[33mhint: of your new repositories, which will suppress this warning, call:\u001b[m\n",
      "\u001b[33mhint: \u001b[m\n",
      "\u001b[33mhint: \tgit config --global init.defaultBranch <name>\u001b[m\n",
      "\u001b[33mhint: \u001b[m\n",
      "\u001b[33mhint: Names commonly chosen instead of 'master' are 'main', 'trunk' and\u001b[m\n",
      "\u001b[33mhint: 'development'. The just-created branch can be renamed via this command:\u001b[m\n",
      "\u001b[33mhint: \u001b[m\n",
      "\u001b[33mhint: \tgit branch -m <name>\u001b[m\n",
      "Initialized empty Git repository in /home/igor/Documents/uni/ss23/nummethSS23/docs/text/progtut/testgit/.git/\n",
      "[master (root-commit) eeb570b] first commit\n",
      " 2 files changed, 2 insertions(+)\n",
      " create mode 100644 A\n",
      " create mode 100644 B\n",
      "[master 7e67f48] changing B\n",
      " 1 file changed, 1 insertion(+)\n",
      "[master c5acd27] new commit\n",
      " 4 files changed, 4 insertions(+)\n",
      " create mode 100644 C\n",
      " create mode 100644 E\n",
      " create mode 100644 F\n"
     ]
    },
    {
     "name": "stdout",
     "output_type": "stream",
     "text": [
      "\u001b[33mhint: is subject to change. To configure the initial branch name to use in all\u001b[m\n"
     ]
    },
    {
     "name": "stdout",
     "output_type": "stream",
     "text": [
      "\u001b[33mhint: of your new repositories, which will suppress this warning, call:\u001b[m\n"
     ]
    },
    {
     "name": "stdout",
     "output_type": "stream",
     "text": [
      "\u001b[33mhint: \u001b[m\n"
     ]
    },
    {
     "name": "stdout",
     "output_type": "stream",
     "text": [
      "\u001b[33mhint: \tgit config --global init.defaultBranch <name>\u001b[m\n"
     ]
    },
    {
     "name": "stdout",
     "output_type": "stream",
     "text": [
      "\u001b[33mhint: \u001b[m\n"
     ]
    },
    {
     "name": "stdout",
     "output_type": "stream",
     "text": [
      "\u001b[33mhint: Names commonly chosen instead of 'master' are 'main', 'trunk' and\u001b[m\n"
     ]
    },
    {
     "name": "stdout",
     "output_type": "stream",
     "text": [
      "\u001b[33mhint: 'development'. The just-created branch can be renamed via this command:\u001b[m\n"
     ]
    },
    {
     "name": "stdout",
     "output_type": "stream",
     "text": [
      "\u001b[33mhint: \u001b[m\n"
     ]
    },
    {
     "name": "stdout",
     "output_type": "stream",
     "text": [
      "\u001b[33mhint: \tgit branch -m <name>\u001b[m\n"
     ]
    },
    {
     "name": "stdout",
     "output_type": "stream",
     "text": [
      "Initialized empty Git repository in /home/igor/Documents/uni/ss23/nummethSS23/docs/text/progtut/testgit/.git/\n"
     ]
    },
    {
     "name": "stdout",
     "output_type": "stream",
     "text": [
      "[master (root-commit) eeb570b] first commit\n"
     ]
    },
    {
     "name": "stdout",
     "output_type": "stream",
     "text": [
      " 2 files changed, 2 insertions(+)\n"
     ]
    },
    {
     "name": "stdout",
     "output_type": "stream",
     "text": [
      " create mode 100644 A\n"
     ]
    },
    {
     "name": "stdout",
     "output_type": "stream",
     "text": [
      " create mode 100644 B\n"
     ]
    },
    {
     "name": "stdout",
     "output_type": "stream",
     "text": [
      "[master 7e67f48] changing B\n"
     ]
    },
    {
     "name": "stdout",
     "output_type": "stream",
     "text": [
      " 1 file changed, 1 insertion(+)\n"
     ]
    },
    {
     "name": "stdout",
     "output_type": "stream",
     "text": [
      "[master c5acd27] new commit\n"
     ]
    },
    {
     "name": "stdout",
     "output_type": "stream",
     "text": [
      " 4 files changed, 4 insertions(+)\n"
     ]
    },
    {
     "name": "stdout",
     "output_type": "stream",
     "text": [
      " create mode 100644 C\n"
     ]
    },
    {
     "name": "stdout",
     "output_type": "stream",
     "text": [
      " create mode 100644 E\n"
     ]
    },
    {
     "name": "stdout",
     "output_type": "stream",
     "text": [
      " create mode 100644 F\n"
     ]
    }
   ],
   "source": [
    "# create the directory from last section from scracth and reproduce its state:\n",
    "rm -rf /home/igor/Documents/uni/ss23/nummethSS23/docs/text/progtut/testgit\n",
    "mkdir /home/igor/Documents/uni/ss23/nummethSS23/docs/text/progtut/testgit\n",
    "cd /home/igor/Documents/uni/ss23/nummethSS23/docs/text/progtut/testgit\n",
    "\n",
    "git init\n",
    "echo \"I am A\" >A\n",
    "echo \"I am B\" >B\n",
    "git add A B\n",
    "git commit -m \"first commit\"\n",
    "echo \"adding new lines to A\" >>A\n",
    "echo \"adding a new line to B\" >>B\n",
    "git add B\n",
    "git commit -m \"changing B\"\n",
    "git add A\n",
    "echo \"modifying A again\" >>A\n",
    "echo \"I am C\" >>C\n",
    "echo \"I am D\" >>D\n",
    "git add C\n",
    "echo \"I am E\" >>E\n",
    "echo \"I am F\" >>F\n",
    "git add E F\n",
    "echo \"modifying E\" >>E\n",
    "echo \"modifying F\" >>F\n",
    "git commit -m \"new commit\"\n",
    "echo \"modifying C\" >>C\n",
    "echo \"modifying E\" >>E\n",
    "git add A F E C\n",
    "echo \"modifying A again\" >>A\n",
    "\n",
    "git add E"
   ]
  },
  {
   "attachments": {},
   "cell_type": "markdown",
   "metadata": {},
   "source": [
    "# Ignoring Files\n",
    "\n",
    "We might want some files to be completely ignored by git. Such files won't even show up us untracked. \n",
    "This is achieved by specifying files names (or patterns) in a `.gitignore` file. \n",
    "\n",
    "Usually build, archive and log files are set to be ignored in projects. Because the idea of open source is to provide the source-code that will be built by individuals on their machines. There is no need to provide the built files or object files resulting from compiler output in the git repository. "
   ]
  },
  {
   "cell_type": "code",
   "execution_count": 2,
   "metadata": {
    "vscode": {
     "languageId": "shellscript"
    }
   },
   "outputs": [
    {
     "name": "stdout",
     "output_type": "stream",
     "text": [
      "\u001b[32mM\u001b[m\u001b[31mM\u001b[m A\n",
      "\u001b[32mM\u001b[m  C\n",
      "\u001b[32mM\u001b[m  E\n",
      "\u001b[32mM\u001b[m  F\n",
      "\u001b[31m??\u001b[m D\n"
     ]
    },
    {
     "name": "stdout",
     "output_type": "stream",
     "text": [
      "\u001b[32mM\u001b[m  C\n"
     ]
    },
    {
     "name": "stdout",
     "output_type": "stream",
     "text": [
      "\u001b[32mM\u001b[m  E\n"
     ]
    },
    {
     "name": "stdout",
     "output_type": "stream",
     "text": [
      "\u001b[32mM\u001b[m  F\n"
     ]
    },
    {
     "name": "stdout",
     "output_type": "stream",
     "text": [
      "\u001b[31m??\u001b[m D\n"
     ]
    }
   ],
   "source": [
    "git status -s"
   ]
  },
  {
   "attachments": {},
   "cell_type": "markdown",
   "metadata": {},
   "source": [
    "Let's add another file `G` that we would like to completely ignore:"
   ]
  },
  {
   "cell_type": "code",
   "execution_count": 3,
   "metadata": {
    "vscode": {
     "languageId": "shellscript"
    }
   },
   "outputs": [
    {
     "name": "stdout",
     "output_type": "stream",
     "text": [
      "\u001b[32mM\u001b[m\u001b[31mM\u001b[m A\n",
      "\u001b[32mM\u001b[m  C\n",
      "\u001b[32mM\u001b[m  E\n",
      "\u001b[32mM\u001b[m  F\n",
      "\u001b[31m??\u001b[m .gitignore\n",
      "\u001b[31m??\u001b[m D\n"
     ]
    },
    {
     "name": "stdout",
     "output_type": "stream",
     "text": [
      "\u001b[32mM\u001b[m  C\n"
     ]
    },
    {
     "name": "stdout",
     "output_type": "stream",
     "text": [
      "\u001b[32mM\u001b[m  E\n"
     ]
    },
    {
     "name": "stdout",
     "output_type": "stream",
     "text": [
      "\u001b[32mM\u001b[m  F\n"
     ]
    },
    {
     "name": "stdout",
     "output_type": "stream",
     "text": [
      "\u001b[31m??\u001b[m .gitignore\n"
     ]
    },
    {
     "name": "stdout",
     "output_type": "stream",
     "text": [
      "\u001b[31m??\u001b[m D\n"
     ]
    }
   ],
   "source": [
    "echo \"let's ignore this file\" >>G\n",
    "echo \"G\" >>.gitignore\n",
    "git status -s"
   ]
  },
  {
   "attachments": {},
   "cell_type": "markdown",
   "metadata": {},
   "source": [
    "`G` doesn't show up in the status output, not even as an untracked file, just as expected. Note on the other hand that `.gitignore` itself is an untracked file. We would like to add this file to the version control (since it makes sense to provide it as a part of the open source files)."
   ]
  },
  {
   "cell_type": "code",
   "execution_count": 4,
   "metadata": {
    "vscode": {
     "languageId": "shellscript"
    }
   },
   "outputs": [
    {
     "name": "stdout",
     "output_type": "stream",
     "text": [
      "\u001b[32mA\u001b[m  .gitignore\n",
      "\u001b[32mM\u001b[m\u001b[31mM\u001b[m A\n",
      "\u001b[32mM\u001b[m  C\n",
      "\u001b[32mM\u001b[m  E\n",
      "\u001b[32mM\u001b[m  F\n",
      "\u001b[31m??\u001b[m D\n"
     ]
    },
    {
     "name": "stdout",
     "output_type": "stream",
     "text": [
      "\u001b[32mM\u001b[m\u001b[31mM\u001b[m A\n"
     ]
    },
    {
     "name": "stdout",
     "output_type": "stream",
     "text": [
      "\u001b[32mM\u001b[m  C\n"
     ]
    },
    {
     "name": "stdout",
     "output_type": "stream",
     "text": [
      "\u001b[32mM\u001b[m  E\n"
     ]
    },
    {
     "name": "stdout",
     "output_type": "stream",
     "text": [
      "\u001b[32mM\u001b[m  F\n"
     ]
    },
    {
     "name": "stdout",
     "output_type": "stream",
     "text": [
      "\u001b[31m??\u001b[m D\n"
     ]
    }
   ],
   "source": [
    "git add .gitignore\n",
    "git status -s"
   ]
  },
  {
   "cell_type": "code",
   "execution_count": 5,
   "metadata": {
    "vscode": {
     "languageId": "shellscript"
    }
   },
   "outputs": [
    {
     "name": "stdout",
     "output_type": "stream",
     "text": [
      "[master 72e71b4] adding gitignore and some changes to files\n",
      " 5 files changed, 6 insertions(+)\n",
      " create mode 100644 .gitignore\n"
     ]
    },
    {
     "name": "stdout",
     "output_type": "stream",
     "text": [
      " 5 files changed, 6 insertions(+)\n"
     ]
    },
    {
     "name": "stdout",
     "output_type": "stream",
     "text": [
      " create mode 100644 .gitignore\n"
     ]
    }
   ],
   "source": [
    "git commit -m \"adding gitignore and some changes to files\" "
   ]
  },
  {
   "cell_type": "code",
   "execution_count": 6,
   "metadata": {
    "vscode": {
     "languageId": "shellscript"
    }
   },
   "outputs": [
    {
     "name": "stdout",
     "output_type": "stream",
     "text": [
      " \u001b[31mM\u001b[m A\n",
      "\u001b[31m??\u001b[m D\n"
     ]
    },
    {
     "name": "stdout",
     "output_type": "stream",
     "text": [
      "\u001b[31m??\u001b[m D\n"
     ]
    }
   ],
   "source": [
    "git status -s "
   ]
  },
  {
   "attachments": {},
   "cell_type": "markdown",
   "metadata": {},
   "source": [
    "As mentioned above, it makes sense to ignore multiple files, e.g. object files resulting from builds etc. This can be achieved at once by **glob patterns**.\n",
    "\n",
    "First let's add some files with the extensions `.o`:"
   ]
  },
  {
   "cell_type": "code",
   "execution_count": 7,
   "metadata": {
    "vscode": {
     "languageId": "shellscript"
    }
   },
   "outputs": [
    {
     "name": "stdout",
     "output_type": "stream",
     "text": [
      " \u001b[31mM\u001b[m A\n",
      "\u001b[31m??\u001b[m D\n",
      "\u001b[31m??\u001b[m a.o\n",
      "\u001b[31m??\u001b[m b.o\n",
      "\u001b[31m??\u001b[m c.o\n"
     ]
    },
    {
     "name": "stdout",
     "output_type": "stream",
     "text": [
      "\u001b[31m??\u001b[m D\n"
     ]
    },
    {
     "name": "stdout",
     "output_type": "stream",
     "text": [
      "\u001b[31m??\u001b[m a.o\n"
     ]
    },
    {
     "name": "stdout",
     "output_type": "stream",
     "text": [
      "\u001b[31m??\u001b[m b.o\n"
     ]
    },
    {
     "name": "stdout",
     "output_type": "stream",
     "text": [
      "\u001b[31m??\u001b[m c.o\n"
     ]
    }
   ],
   "source": [
    "touch {a,b,c}.o\n",
    "git status -s"
   ]
  },
  {
   "attachments": {},
   "cell_type": "markdown",
   "metadata": {},
   "source": [
    "Let's ignore these files by listing the appropriate pattern in the `.gitignore`"
   ]
  },
  {
   "cell_type": "code",
   "execution_count": 8,
   "metadata": {
    "vscode": {
     "languageId": "shellscript"
    }
   },
   "outputs": [],
   "source": [
    ">>.gitignore cat <<!\n",
    "*.o\n",
    "!"
   ]
  },
  {
   "cell_type": "code",
   "execution_count": 9,
   "metadata": {
    "vscode": {
     "languageId": "shellscript"
    }
   },
   "outputs": [
    {
     "name": "stdout",
     "output_type": "stream",
     "text": [
      " \u001b[31mM\u001b[m .gitignore\n",
      " \u001b[31mM\u001b[m A\n",
      "\u001b[31m??\u001b[m D\n"
     ]
    },
    {
     "name": "stdout",
     "output_type": "stream",
     "text": [
      " \u001b[31mM\u001b[m A\n"
     ]
    },
    {
     "name": "stdout",
     "output_type": "stream",
     "text": [
      "\u001b[31m??\u001b[m D\n"
     ]
    }
   ],
   "source": [
    "git status -s"
   ]
  },
  {
   "attachments": {},
   "cell_type": "markdown",
   "metadata": {},
   "source": [
    "The files with the extension `.o` (that would correspond e.g. to object file) are  now indeed ignored by git. \n",
    "\n",
    "Let's add and also commit the modified gitignore:"
   ]
  },
  {
   "cell_type": "code",
   "execution_count": 10,
   "metadata": {
    "vscode": {
     "languageId": "shellscript"
    }
   },
   "outputs": [
    {
     "name": "stdout",
     "output_type": "stream",
     "text": [
      "[master c10d01a] changing git ignore\n",
      " 1 file changed, 1 insertion(+)\n"
     ]
    },
    {
     "name": "stdout",
     "output_type": "stream",
     "text": [
      " 1 file changed, 1 insertion(+)\n"
     ]
    }
   ],
   "source": [
    "git add .gitignore \n",
    "git commit -m 'changing git ignore'"
   ]
  },
  {
   "cell_type": "code",
   "execution_count": 11,
   "metadata": {
    "vscode": {
     "languageId": "shellscript"
    }
   },
   "outputs": [
    {
     "name": "stdout",
     "output_type": "stream",
     "text": [
      " \u001b[31mM\u001b[m A\n",
      "\u001b[31m??\u001b[m D\n"
     ]
    },
    {
     "name": "stdout",
     "output_type": "stream",
     "text": [
      "\u001b[31m??\u001b[m D\n"
     ]
    }
   ],
   "source": [
    "git status -s "
   ]
  },
  {
   "attachments": {},
   "cell_type": "markdown",
   "metadata": {},
   "source": [
    "Further gitignore rules are listed as follows:\n",
    "\n",
    "* Blank lines or lines starting with `#` are ignored\n",
    "* standard glob patterns as they are used in the shell work and they will be applied **recursively** throught the **entire working tree**. \n",
    "* staring patterns with `/` avoids recursivity\n",
    "* ending patterns with `/` specifies a directory\n",
    "* `!` negates a pattern\n",
    "* two asterisks match nested directories: `a/**/z`, would match\n",
    "  * `a/z`\n",
    "  * `a/b/z`\n",
    "  * `a/b/c/z`\n",
    "\n",
    "Example gitignore file:\n",
    "\n",
    "```text\n",
    "# ignore all .a files\n",
    "*.a \n",
    "\n",
    "# but do track one file called lib.a\n",
    "!lib.a\n",
    "\n",
    "# only ignore the TODO.txt in the **current** directory, but in the sub-directories:\n",
    "/TODO.txt\n",
    "\n",
    "# ignore all files in **any** directory named build\n",
    "build/\n",
    "\n",
    "# ignore txt files immediately in any doc directory, but in its sub-directories\n",
    "doc/*.txt\n",
    "\n",
    "# ingore all .pdf files in any doc directory and all of its subdirectories\n",
    "doc/**/*.pdf\n",
    "```\n",
    "\n",
    "It is possible to have additional `.gitignore` files in subdirectories. Such `.gitignore` files only apply to the subdirectory in which they are located and **overwrite** the rules specified by higher-level gitignore files. "
   ]
  },
  {
   "attachments": {},
   "cell_type": "markdown",
   "metadata": {},
   "source": []
  }
 ],
 "metadata": {
  "kernelspec": {
   "display_name": "Bash",
   "language": "bash",
   "name": "bash"
  },
  "language_info": {
   "codemirror_mode": "shell",
   "file_extension": ".sh",
   "mimetype": "text/x-sh",
   "name": "bash"
  }
 },
 "nbformat": 4,
 "nbformat_minor": 2
}