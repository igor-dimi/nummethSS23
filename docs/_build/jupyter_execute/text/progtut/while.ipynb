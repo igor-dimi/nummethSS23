{
 "cells": [
  {
   "attachments": {},
   "cell_type": "markdown",
   "metadata": {},
   "source": [
    "# While Loops\n",
    "\n",
    "Block of statements in the loop body are executed repetitevly as long as a certain condition on the state of the progarm is satisfied. \n",
    "\n",
    "The number of loops can in general depend on the program state and not be predictable in advance.\n",
    "\n",
    "Syntax:\n",
    "\n",
    "```cpp\n",
    "while (condition){\n",
    "    statement1;\n",
    "    statement2;\n",
    "    statement3;\n",
    "}\n",
    "```\n",
    "\n",
    "Upon exiting the loop the nagation of the while condition holds.\n",
    "\n",
    "example:"
   ]
  },
  {
   "cell_type": "code",
   "execution_count": 1,
   "metadata": {
    "vscode": {
     "languageId": "cpp"
    }
   },
   "outputs": [
    {
     "name": "stdout",
     "output_type": "stream",
     "text": [
      "10"
     ]
    }
   ],
   "source": [
    "#include <iostream>\n",
    "\n",
    "int i = 0;\n",
    "while (i < 10){\n",
    "    i++;\n",
    "}\n",
    "// condition i >= 10 holds\n",
    "std::cout << i;"
   ]
  },
  {
   "cell_type": "markdown",
   "metadata": {},
   "source": []
  }
 ],
 "metadata": {
  "kernelspec": {
   "display_name": "C++17",
   "language": "C++17",
   "name": "xcpp17"
  },
  "language_info": {
   "codemirror_mode": "text/x-c++src",
   "file_extension": ".cpp",
   "mimetype": "text/x-c++src",
   "name": "c++",
   "version": "17"
  }
 },
 "nbformat": 4,
 "nbformat_minor": 2
}