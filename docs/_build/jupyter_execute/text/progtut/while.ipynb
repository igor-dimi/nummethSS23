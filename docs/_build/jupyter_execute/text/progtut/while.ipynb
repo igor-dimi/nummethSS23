{
 "cells": [
  {
   "attachments": {},
   "cell_type": "markdown",
   "metadata": {},
   "source": [
    "# While Loops\n",
    "\n",
    "Block of statements in the loop body are executed repetitevly as long as a certain condition on the state of the progarm is satisfied. \n",
    "\n",
    "The number of loops can in general depend on the program state and not be predictable in advance.\n",
    "\n",
    "Syntax:\n",
    "\n",
    "```cpp\n",
    "while (condition){\n",
    "    statement1;\n",
    "    statement2;\n",
    "    statement3;\n",
    "}\n",
    "```\n",
    "\n",
    "Upon exiting the loop the nagation of the while condition holds.\n",
    "\n",
    "Simple example:"
   ]
  },
  {
   "cell_type": "code",
   "execution_count": 1,
   "metadata": {
    "vscode": {
     "languageId": "cpp"
    }
   },
   "outputs": [
    {
     "name": "stdout",
     "output_type": "stream",
     "text": [
      "10"
     ]
    }
   ],
   "source": [
    "#include <iostream>\n",
    "\n",
    "int i = 0;\n",
    "while (i < 10){\n",
    "    i++;\n",
    "}\n",
    "// condition i >= 10 holds\n",
    "std::cout << i;"
   ]
  },
  {
   "attachments": {},
   "cell_type": "markdown",
   "metadata": {},
   "source": [
    "(pendulum-example)=\n",
    "## A More Comprehensive Example: Pendulum\n",
    "\n",
    "\n",
    "Let's consider a simple 2D pendulum: \n",
    "```{margin} Simple Pendulum\n",
    "![Simple Pendulum](../../imgs/pendulum.excalidraw.png)\n",
    "```\n",
    "\n",
    "The equations of motions for this ideal model can be easily shown to be:\n",
    "\n",
    "\\begin{align*}\n",
    "&\\ddot{\\theta} = -\\frac{g}{l}\\sin(\\theta) \\quad \n",
    "&&\\text{(Mechanics of motion)} \\\\\n",
    "\\Leftrightarrow \\quad &\\ddot{\\theta} + \\frac{g}{l}\\sin(\\theta) = 0 && \\\\\n",
    "\\Leftrightarrow \\quad &\\ddot{\\theta} + \\frac{g}{l}\\theta = 0 \n",
    "&& (\\sin{\\theta}\\approx\\theta \\text{ for small } \\theta)\n",
    "\\end{align*}\n",
    "\n",
    "Solving this differential equation with initial conditions $\\theta(0) = \\theta_{0}$, and $\\dot{\\theta}(0) = 0$ we arrive at the solution:\n",
    "\n",
    "$$\n",
    "\\theta(t) = \\theta_{0}\\cos(\\sqrt{\\frac{g}{l}t})\n",
    "$$\n",
    "\n",
    "Following program computes this formula for each time value\n",
    "\n",
    "$$\n",
    "t_{i} = i\\Delta t, \\quad 0 \\leq t_{i} \\leq T, \\quad i \\in \\mathbb{N_{0}}\n",
    "$$\n",
    "\n",
    "and outputs $t$ and corresponding $\\theta(t)$ values seperated by blankspace in a new line to the standard output. "
   ]
  },
  {
   "cell_type": "code",
   "execution_count": 2,
   "metadata": {
    "tags": [
     "hide-output"
    ],
    "vscode": {
     "languageId": "cpp"
    }
   },
   "outputs": [
    {
     "name": "stdout",
     "output_type": "stream",
     "text": [
      "0 0.2\n"
     ]
    },
    {
     "name": "stdout",
     "output_type": "stream",
     "text": [
      "0.05 0.198173\n"
     ]
    },
    {
     "name": "stdout",
     "output_type": "stream",
     "text": [
      "0.1 0.192724\n"
     ]
    },
    {
     "name": "stdout",
     "output_type": "stream",
     "text": [
      "0.15 0.183753\n"
     ]
    },
    {
     "name": "stdout",
     "output_type": "stream",
     "text": [
      "0.2 0.171424\n"
     ]
    },
    {
     "name": "stdout",
     "output_type": "stream",
     "text": [
      "0.25 0.155963\n"
     ]
    },
    {
     "name": "stdout",
     "output_type": "stream",
     "text": [
      "0.3 0.137651\n"
     ]
    },
    {
     "name": "stdout",
     "output_type": "stream",
     "text": [
      "0.35 0.116824\n"
     ]
    },
    {
     "name": "stdout",
     "output_type": "stream",
     "text": [
      "0.4 0.0938622\n"
     ]
    },
    {
     "name": "stdout",
     "output_type": "stream",
     "text": [
      "0.45 0.069185\n"
     ]
    },
    {
     "name": "stdout",
     "output_type": "stream",
     "text": [
      "0.5 0.0432435\n"
     ]
    },
    {
     "name": "stdout",
     "output_type": "stream",
     "text": [
      "0.55 0.0165118\n"
     ]
    },
    {
     "name": "stdout",
     "output_type": "stream",
     "text": [
      "0.6 -0.0105217\n"
     ]
    },
    {
     "name": "stdout",
     "output_type": "stream",
     "text": [
      "0.65 -0.0373629\n"
     ]
    },
    {
     "name": "stdout",
     "output_type": "stream",
     "text": [
      "0.7 -0.0635213\n"
     ]
    },
    {
     "name": "stdout",
     "output_type": "stream",
     "text": [
      "0.75 -0.0885189\n"
     ]
    },
    {
     "name": "stdout",
     "output_type": "stream",
     "text": [
      "0.8 -0.111899\n"
     ]
    },
    {
     "name": "stdout",
     "output_type": "stream",
     "text": [
      "0.85 -0.133234\n"
     ]
    },
    {
     "name": "stdout",
     "output_type": "stream",
     "text": [
      "0.9 -0.152134\n"
     ]
    },
    {
     "name": "stdout",
     "output_type": "stream",
     "text": [
      "0.95 -0.168255\n"
     ]
    }
   ],
   "source": [
    "#include <iostream>\n",
    "#include <cmath>\n",
    "\n",
    "double l(1.34); //Length of the pendulum chord in meters\n",
    "double phi0(0.2); //Amplitude i.e. the initial angle in radians\n",
    "double dt(0.05); //Time-step in seconds\n",
    "double T(1.0); //End-time in seconds\n",
    "double t(0.0); //Initial time value\n",
    "\n",
    "while (t <= T){\n",
    "    std::cout << t << \" \"\n",
    "              << phi0 * cos(sqrt(9.81/l) * t)\n",
    "              << std::endl;\n",
    "    t += dt;\n",
    "}"
   ]
  },
  {
   "attachments": {},
   "cell_type": "markdown",
   "metadata": {},
   "source": [
    "Full program text \n",
    "\n",
    "```cpp\n",
    "#include <iostream>\n",
    "#include <cmath>\n",
    "\n",
    "double l(1.34); //Length of the pendulum chord in meters\n",
    "double phi0(0.2); //Amplitude i.e. the initial angle in radians\n",
    "double dt(0.05); //Time-step in seconds\n",
    "double T(1.0); //End-time in seconds\n",
    "double t(0.0); //Initial time value\n",
    "int main(){\n",
    "    while (t <= T){\n",
    "        std::cout << t << \" \"\n",
    "                << phi0 * cos(sqrt(9.81/l) * t)\n",
    "                << std::endl;\n",
    "        t += dt;\n",
    "    }\n",
    "}\n",
    "``` \n",
    "We can put this program in a file `pendulum.cc` and compile it the usual way. \n",
    "The program pendulum can be used to generate the plot of $\\theta$ vs $t$ with `gnuplot` using linux i/o redirection:\n",
    "\n",
    "```bash\n",
    "$ ./pendulum >pend.dat\n",
    "$ gnuplot\n",
    "gnuplot> plot \"pend.dat\"with lines \n",
    "```\n",
    "\n",
    "We obtain the following plot for `T = 5.0`:\n",
    "\n",
    "![pendulum data for T = 5.0](../../imgs/pend.data.png)\n",
    "\n"
   ]
  }
 ],
 "metadata": {
  "kernelspec": {
   "display_name": "C++17",
   "language": "C++17",
   "name": "xcpp17"
  },
  "language_info": {
   "codemirror_mode": "text/x-c++src",
   "file_extension": ".cpp",
   "mimetype": "text/x-c++src",
   "name": "c++",
   "version": "17"
  }
 },
 "nbformat": 4,
 "nbformat_minor": 2
}