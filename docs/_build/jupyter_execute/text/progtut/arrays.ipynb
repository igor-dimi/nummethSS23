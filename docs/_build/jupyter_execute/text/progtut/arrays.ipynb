{
 "cells": [
  {
   "attachments": {},
   "cell_type": "markdown",
   "metadata": {},
   "source": [
    "# Arrays\n",
    "\n",
    "Array is a structured data type which is a collection of component variables of the **same type**. \n",
    "\n",
    "For a domain $D$,  $D^{N}$ is the \"$N$-Dimensional $D$ array\" data Type or the data type of \"$D$ arrays of length N\"\n",
    "\n",
    "If $x\\in D^N$, then $x$ is called an $N$-Dimensional $D$ array.\n",
    "\n",
    "To declare an N-Dimensional $D$ array x in C++:\n",
    "```\n",
    "D x[N];\n",
    "```\n",
    "\n",
    "```{note}\n",
    "N must be set explicitely in compile time, that is, the length of the array must be known at compile time.\n",
    "```\n",
    "\n",
    "To declare a 10-dimensional `int` array in C++"
   ]
  },
  {
   "cell_type": "code",
   "execution_count": 1,
   "metadata": {
    "tags": [
     "hide-input"
    ],
    "vscode": {
     "languageId": "cpp"
    }
   },
   "outputs": [],
   "source": [
    "#include <iostream>"
   ]
  },
  {
   "cell_type": "code",
   "execution_count": 2,
   "metadata": {
    "vscode": {
     "languageId": "cpp"
    }
   },
   "outputs": [],
   "source": [
    "int a[10];"
   ]
  },
  {
   "attachments": {},
   "cell_type": "markdown",
   "metadata": {},
   "source": [
    "All elements are initialized to 0:"
   ]
  },
  {
   "cell_type": "code",
   "execution_count": 3,
   "metadata": {
    "vscode": {
     "languageId": "cpp"
    }
   },
   "outputs": [
    {
     "name": "stdout",
     "output_type": "stream",
     "text": [
      "0 0 0 0 0 0 0 0 0 0 "
     ]
    }
   ],
   "source": [
    "for (int i = 0; i < 10; i++) std::cout << a[i] << \" \";"
   ]
  },
  {
   "attachments": {},
   "cell_type": "markdown",
   "metadata": {},
   "source": [
    "array components are accessed with the syntax `a[index]`, where \n",
    "\n",
    "$$\n",
    "0 \\leq index <N\n",
    "$$\n",
    "\n",
    "Thus"
   ]
  },
  {
   "cell_type": "code",
   "execution_count": 4,
   "metadata": {
    "vscode": {
     "languageId": "cpp"
    }
   },
   "outputs": [
    {
     "name": "stdout",
     "output_type": "stream",
     "text": [
      "0"
     ]
    }
   ],
   "source": [
    "std::cout << a[9];"
   ]
  },
  {
   "attachments": {},
   "cell_type": "markdown",
   "metadata": {},
   "source": [
    "But a[10] is access past the array bounds and \n",
    "\n",
    "```cpp\n",
    "std::cout << a[10]\n",
    "```\n",
    "\n",
    "outputs garbage."
   ]
  },
  {
   "attachments": {},
   "cell_type": "markdown",
   "metadata": {},
   "source": [
    "We can update the components of the array:"
   ]
  },
  {
   "cell_type": "code",
   "execution_count": 5,
   "metadata": {
    "vscode": {
     "languageId": "cpp"
    }
   },
   "outputs": [
    {
     "name": "stdout",
     "output_type": "stream",
     "text": [
      "0 1 2 3 4 5 6 7 8 9 "
     ]
    }
   ],
   "source": [
    "for (int i = 0; i < 10; i++) a[i] = i;\n",
    "for (int i = 0; i < 10; i++) std::cout << a[i] << \" \";\n"
   ]
  }
 ],
 "metadata": {
  "kernelspec": {
   "display_name": "C++17",
   "language": "C++17",
   "name": "xcpp17"
  },
  "language_info": {
   "codemirror_mode": "text/x-c++src",
   "file_extension": ".cpp",
   "mimetype": "text/x-c++src",
   "name": "c++",
   "version": "17"
  }
 },
 "nbformat": 4,
 "nbformat_minor": 2
}