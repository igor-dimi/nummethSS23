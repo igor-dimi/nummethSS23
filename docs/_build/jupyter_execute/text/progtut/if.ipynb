{
 "cells": [
  {
   "attachments": {},
   "cell_type": "markdown",
   "metadata": {},
   "source": [
    "# If-Statement\n",
    "\n",
    "execute a block of statements **if** a **condition** is satisfied. Syntax:\n",
    "\n",
    "```cpp\n",
    "if (condition){\n",
    "    statement1;\n",
    "    statement2;\n",
    "    statement3;\n",
    "} else {\n",
    "    statement4;\n",
    "}\n",
    "```"
   ]
  },
  {
   "cell_type": "code",
   "execution_count": 1,
   "metadata": {
    "vscode": {
     "languageId": "cpp"
    }
   },
   "outputs": [
    {
     "name": "stdout",
     "output_type": "stream",
     "text": [
      "3.14 3.14"
     ]
    }
   ],
   "source": [
    "#include <iostream>\n",
    "\n",
    "double x(3.14), y;\n",
    "if (x >= 0) y = x;\n",
    "else y = -x;\n",
    "std::cout << x << \" \" << y;"
   ]
  },
  {
   "cell_type": "code",
   "execution_count": 2,
   "metadata": {
    "vscode": {
     "languageId": "cpp"
    }
   },
   "outputs": [
    {
     "name": "stdout",
     "output_type": "stream",
     "text": [
      "yes"
     ]
    }
   ],
   "source": [
    "if ( x == 3.14) std::cout << \"yes\";"
   ]
  },
  {
   "cell_type": "code",
   "execution_count": null,
   "metadata": {
    "vscode": {
     "languageId": "cpp"
    }
   },
   "outputs": [],
   "source": []
  }
 ],
 "metadata": {
  "kernelspec": {
   "display_name": "C++17",
   "language": "C++17",
   "name": "xcpp17"
  },
  "language_info": {
   "codemirror_mode": "text/x-c++src",
   "file_extension": ".cpp",
   "mimetype": "text/x-c++src",
   "name": "c++",
   "version": "17"
  }
 },
 "nbformat": 4,
 "nbformat_minor": 2
}