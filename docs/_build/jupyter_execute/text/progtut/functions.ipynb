{
 "cells": [
  {
   "attachments": {},
   "cell_type": "markdown",
   "metadata": {},
   "source": [
    "# Functions\n",
    "\n",
    "In math we have the concept of a function; a mapping from one domain to another:\n",
    "\n",
    "$$\n",
    "f:U \\rightarrow V\n",
    "$$\n",
    "\n",
    "Which defines an analogy between an object $x\\in U$, that can thought as an \"input\", and an object $f(x) \\in V$, that can be ragerded as the output. \n",
    "\n",
    "```{margin}\n",
    "![black-box](../../imgs/funct.excalidraw.png)\n",
    "```\n",
    "\n",
    "In programming this can be understood in terms of pre- and post-conditions. \n",
    "For the above function $f$ the statement `x := f(x)` has the **effect**:\n",
    "\n",
    "$$\n",
    "[\\![U(x)]\\!] \\, x := f(x) \\, [\\![V(x)]\\!]\n",
    "$$\n",
    "\n",
    "Where $U(x)$ is the pre-condition of $x$ belonging to the domain $U(x)$ and $V(x)$ is the post-condition of $x$ belonging to the domain $V(x)$\n",
    "\n",
    "For example let $f:\\mathbb{R}\\rightarrow\\mathbb{R}$, $x:\\mapsto x^2$; we define this in C++\n",
    "as:"
   ]
  },
  {
   "cell_type": "code",
   "execution_count": 1,
   "metadata": {
    "vscode": {
     "languageId": "cpp"
    }
   },
   "outputs": [],
   "source": [
    "double f(double x) //funtction head/signature\n",
    "{\n",
    "    return x*x; //function body\n",
    "}\n"
   ]
  },
  {
   "attachments": {},
   "cell_type": "markdown",
   "metadata": {},
   "source": [
    "Then"
   ]
  },
  {
   "cell_type": "code",
   "execution_count": 2,
   "metadata": {
    "vscode": {
     "languageId": "cpp"
    }
   },
   "outputs": [
    {
     "name": "stdout",
     "output_type": "stream",
     "text": [
      "3\n",
      "9\n"
     ]
    }
   ],
   "source": [
    "#include <iostream>\n",
    "double x(3.0);\n",
    "std::cout << x << \"\\n\";\n",
    "x = f(x);\n",
    "std::cout << x << \"\\n\";"
   ]
  },
  {
   "attachments": {},
   "cell_type": "markdown",
   "metadata": {},
   "source": [
    "In generel following holds for the function f :\n",
    "\n",
    "```cpp\n",
    "// {x = X}\n",
    "x = f(x);\n",
    "// {x = X*X}\n",
    "```\n",
    "\n",
    "given there are no overflows or other similar phenomena related to computer representation of real numbers that violate the usual axioms. \n",
    "\n",
    "Function calls are implemented by the function call stack mechanism. New frame is allocated at the top of the stack when a function call is made, where parameters passed to the function are freshly allocated in the stack frame to be used within the body of the function. \n",
    "\n",
    "Variables used within the function frame go away after the execution of the function ends and control returns to the calling function. Therefore they are inaccessible to the calling function. \n",
    "\n",
    "Communication between the caller and the calee is realized by `return` statements, and the values passed as parameters. \n",
    "\n",
    "Following attempt to write a function that swaps variables doesn't work:"
   ]
  },
  {
   "cell_type": "code",
   "execution_count": 3,
   "metadata": {
    "vscode": {
     "languageId": "cpp"
    }
   },
   "outputs": [
    {
     "name": "stdout",
     "output_type": "stream",
     "text": [
      "3 5\n"
     ]
    }
   ],
   "source": [
    "void swap(int a, int b){\n",
    "    int temp;\n",
    "    temp = a;\n",
    "    a = b;\n",
    "    b = temp;\n",
    "};\n",
    "\n",
    "int a(3), b(5);\n",
    "swap(a, b);\n",
    "std::cout << a << \" \" << b << \"\\n\";"
   ]
  },
  {
   "attachments": {},
   "cell_type": "markdown",
   "metadata": {
    "vscode": {
     "languageId": "cpp"
    }
   },
   "source": [
    "because of the \"call by value\" mechanism explained above. The values of `a` and `b` are determined and passed to the function, which in turns uses those values to initialize new variables `a` and `b` local to its frame. Within this frame the values of `a` and `b` are swapped, but after function returns, and control is back at the caller they go away. \n",
    "\n",
    "## Recursion\n",
    "\n",
    "The stack based function call mechanism enables to realization of recursively defined functions, almost verbatim. Consider for example the follownig function:\n",
    "\n",
    "\\begin{align*}\n",
    "f&:\\mathbb{N}\\to\\mathbb{N}\\\\\n",
    "&:0\\mapsto 1 \\\\\n",
    "&:n\\mapsto n \\cdot f(n - 1)\n",
    "\\end{align*}\n",
    "\n",
    "This is the well-known factorial function. \n",
    "In C++ this is implemenetd directly as:"
   ]
  },
  {
   "cell_type": "code",
   "execution_count": 4,
   "metadata": {
    "vscode": {
     "languageId": "cpp"
    }
   },
   "outputs": [],
   "source": [
    "int f1(int n)\n",
    "{\n",
    "    if (n == 0) return 1;\n",
    "    return n * f(n - 1);\n",
    "}\n"
   ]
  },
  {
   "cell_type": "code",
   "execution_count": 5,
   "metadata": {
    "vscode": {
     "languageId": "cpp"
    }
   },
   "outputs": [
    {
     "name": "stdout",
     "output_type": "stream",
     "text": [
      "810\n"
     ]
    }
   ],
   "source": [
    "std::cout << f1(10) << std::endl;"
   ]
  },
  {
   "attachments": {},
   "cell_type": "markdown",
   "metadata": {},
   "source": [
    "## Iteration\n",
    "\n",
    "Same function can be realized iteratively with **while**"
   ]
  },
  {
   "cell_type": "code",
   "execution_count": 6,
   "metadata": {
    "vscode": {
     "languageId": "cpp"
    }
   },
   "outputs": [],
   "source": [
    "int f2(int n)\n",
    "{\n",
    "    int g = 1, i = 0; //g == i! && i <= n;\n",
    "    while (i < n){\n",
    "        g *= i + 1; //g == (i + 1)!\n",
    "        i++; //g == i!\n",
    "    } //i == n\n",
    "    return g;\n",
    "}\n"
   ]
  },
  {
   "cell_type": "code",
   "execution_count": 7,
   "metadata": {
    "vscode": {
     "languageId": "cpp"
    }
   },
   "outputs": [
    {
     "name": "stdout",
     "output_type": "stream",
     "text": [
      "3628800\n"
     ]
    }
   ],
   "source": [
    "std::cout << f2(10) <<std::endl;"
   ]
  },
  {
   "attachments": {},
   "cell_type": "markdown",
   "metadata": {},
   "source": [
    "**Recursion vs Iteration**\n",
    "\n",
    "::::{grid}\n",
    ":gutter: 5\n",
    "\n",
    ":::{grid-item}\n",
    "*recursion*\n",
    "```cpp\n",
    "int f(int n)\n",
    "{\n",
    "    if (n == 0) return 1;\n",
    "    return n * f(n - 1); \n",
    "}\n",
    "```\n",
    ":::\n",
    ":::{grid-item}\n",
    "*while-iteration*\n",
    "```cpp\n",
    "int f(int n)\n",
    "{\n",
    "    int f = 0, i = 0; //f == i!\n",
    "    while (i < n){\n",
    "        f *= i + 1; //f == (i + 1)!\n",
    "        i++; //f == i!\n",
    "    }\n",
    "}\n",
    "```\n",
    ":::\n",
    "::::\n",
    "\n",
    "\n",
    "Note the pre- and post-conditions, and loop invariants, denoted as comments that guarantee the correctness of this program, as long as there is no overflow. The advandate of recursive implementation is that they follow the mathematical specification almost verbatim, and therefore there is no need to specify pre- and post-conditions or to prove the program correctness. \n",
    "\n",
    "Equivalently **for** loops can be used:"
   ]
  },
  {
   "cell_type": "code",
   "execution_count": 8,
   "metadata": {
    "vscode": {
     "languageId": "cpp"
    }
   },
   "outputs": [
    {
     "name": "stdout",
     "output_type": "stream",
     "text": [
      "3628800\n"
     ]
    }
   ],
   "source": [
    "int f3(int n)\n",
    "{\n",
    "    int res = 1;\n",
    "    for (int i = 0; i < n; i++){\n",
    "        res *= (i + 1);\n",
    "    }\n",
    "    return res;\n",
    "\n",
    "}\n",
    "\n",
    "std::cout << f3(10) << std::endl;"
   ]
  },
  {
   "cell_type": "code",
   "execution_count": null,
   "metadata": {
    "vscode": {
     "languageId": "cpp"
    }
   },
   "outputs": [],
   "source": []
  }
 ],
 "metadata": {
  "kernelspec": {
   "display_name": "C++17",
   "language": "C++17",
   "name": "xcpp17"
  },
  "language_info": {
   "codemirror_mode": "text/x-c++src",
   "file_extension": ".cpp",
   "mimetype": "text/x-c++src",
   "name": "c++",
   "version": "17"
  }
 },
 "nbformat": 4,
 "nbformat_minor": 2
}