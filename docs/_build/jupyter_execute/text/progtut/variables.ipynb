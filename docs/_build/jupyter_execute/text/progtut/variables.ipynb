{
 "cells": [
  {
   "attachments": {},
   "cell_type": "markdown",
   "metadata": {},
   "source": [
    "# Variables \n",
    "\n",
    "A **domain** is a range of possible values exhibiting some uniform pattern. Objects belonging to the same domain have the same **type**. An object $x$ belonging to a domain $D$ this is written mathematically as:\n",
    "\n",
    "$$\n",
    "x \\in D \\quad \\text{(Set theoretical notation)}\n",
    "$$\n",
    "\n",
    "or equivalently as\n",
    "\n",
    "$$\n",
    "x : D \\quad \\text{(Type theoretical notation)}\n",
    "$$\n",
    "\n",
    "In C++ we have: \n",
    "```\n",
    "D x;\n",
    "```\n",
    "This is called the **declaration** of **variable** x of the **data type** D. \n",
    "\n",
    "A (mathematical) domain can be finite, countably infinite, or uncountanbly infinite.\n",
    "\n",
    "```{note}\n",
    "A **mathematical structure** is a domain equipped with distinguished **special elements**, **relations** and **operations**. Relations and operations are usually binary. \n",
    "\n",
    "**Example**: Domain of integeres $\\mathbb{Z}$ along with the special elements $0$ and $1$, order relation $<$, arithmetic operations $+, \\times$.\n",
    "\n",
    "$\\mathbb{Z}$ **countably infinite**.\n",
    "```\n",
    "\n",
    "\n",
    "computers are finite, and physical components (the arithmetic and logic unit) performing the operations are capable of holding finitely many distinct representations of objects.   \n",
    "\n",
    "Therefore the mathematical structures realized by computer hardware are not $\\langle\\mathbb{Z}, 0, 1, +, \\times$ and $\\langle\\mathbb{R}, 0, 1, +, \\times\\rangle$ but their finite approximations\n",
    "$\\langle\\tilde{\\mathbb{Z}}, 0, 1, \\oplus, \\otimes\\rangle$ and $\\langle\\mathbb{F}, 0, 1, \\oplus, \\otimes\\rangle$, where the basic axioms are not always satisfied."
   ]
  },
  {
   "attachments": {},
   "cell_type": "markdown",
   "metadata": {},
   "source": [
    "```{index} double: variable; domain\n",
    "```"
   ]
  },
  {
   "cell_type": "markdown",
   "metadata": {},
   "source": []
  }
 ],
 "metadata": {
  "language_info": {
   "codemirror_mode": {
    "name": "ipython",
    "version": 3
   },
   "file_extension": ".py",
   "mimetype": "text/x-python",
   "name": "python",
   "nbconvert_exporter": "python",
   "pygments_lexer": "ipython3",
   "version": "3.11.3"
  }
 },
 "nbformat": 4,
 "nbformat_minor": 2
}