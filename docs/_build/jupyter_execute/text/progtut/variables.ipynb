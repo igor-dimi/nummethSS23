{
 "cells": [
  {
   "attachments": {},
   "cell_type": "markdown",
   "metadata": {},
   "source": [
    "# Variables \n",
    "\n",
    "A **domain** is a collection or a range of possible values exhibiting a pattern. Objects belonging to the same domain are said to be of the same **type**. If an object $x$ belongs to a domain $D$ this is written mathematically as:\n",
    "\n",
    "$$\n",
    "x \\in D \\quad \\text{(Set theoretical notation)}\n",
    "$$\n",
    "\n",
    "or equivalently as\n",
    "\n",
    "$$\n",
    "x : D \\quad \\text{(Type theoretical notation)}\n",
    "$$\n",
    "\n",
    "In many programming languages, and specifically in C++ this is expressed as\n",
    "```\n",
    "D x;\n",
    "```\n",
    "This is called the **declaration** of **variable** x of the **data type** D. \n",
    "\n",
    "A concrete example:\n",
    "\n",
    "A domain can be finite, countably infinite, or uncountanbly infinite, and its values exhibit a **structure** determined by pattern associated with the domain. \n",
    "\n",
    "A **mathematical structure** is a domain equipped with distinguished **special elements**, **relations** and **operations**. Relations and operations are usually binary. \n",
    "\n",
    "An example of a mathematical structure is the domain of integeres $\\mathbb{Z}$ along with the special elements $0$ and $1$, the usual order relation $<$ and the usual arithmetic operations $+, \\times$. It is succintly denoted as $\\langle \\mathbb{Z}, 0, 1, +, \\times \\rangle$, where\n",
    "\n",
    "\\begin{align*}\n",
    "& \\text{Special elemements: } \\, 0, 1 \\in \\mathbb{Z} \\\\\n",
    "\n",
    "& \\text{Binary operations: } \\,+, \\times:\\mathbb{Z}\\times\\mathbb{Z}\\rightarrow\\mathbb{Z} \\\\\n",
    "& \\text{Binary relation:} \\,< \\subseteq \\mathbb{Z}\\times\\mathbb{Z}\n",
    "\\end{align*}\n",
    "\n",
    "These special elements, relations and operations are required satisfy certain **laws** called **axioms**. Further laws can be discovered, and formally derived from the axioms using mathematical logic. These are called **theorems** and their formals derivations are called **proofs**. \n",
    "\n",
    "A **theory** is a collection of axioms and theorems derived thereof. \n",
    "\n",
    "The usual axioms of $\\langle \\mathbb{Z}, 0, 1, +, \\times \\rangle$ are the **linearity** and **totality** of $<$, the usual laws of **commutativity**, **distrubitivity** and **associativity** of $+$ and $\\times$, and laws for **inverse** and **null** elements $0$ and $1$.\n",
    "\n",
    "$\\mathbb{Z}$ is an exmaple of a **countably infinite** domain. \n",
    "\n",
    "The fundamental functions of digital computers is to perform numerical calculations on values coming from mathematical domains like $\\mathbb{Z}$ or $\\mathbb{R}$, realizing their operations. But computers are finite machines, and physical components (the arithmetic and logic unit) performing the operations are only capable of directly operating on finitely many distinct representations of objects.   \n",
    "\n",
    "Therefore the mathematical structures directly realized by computers are not $\\langle\\mathbb{Z}, 0, 1, +, \\times$ and $\\langle\\mathbb{R}, 0, 1, +, \\times\\rangle$ but rather their finite approximations \n",
    "$\\langle\\tilde{\\mathbb{Z}}, 0, 1, \\oplus, \\otimes\\rangle$ and $\\langle\\mathbb{F}, 0, 1, \\oplus, \\otimes\\rangle$, where the basic axioms are not always satisfied. See link for further details on $\\mathbb{F}$.\n",
    "\n",
    "**basic(atomic) data types** of a programming langauge are the types directly provided by the language, as opposed to the data types defined by the programmer using the mechanisms of the langauge.\n",
    "\n",
    "Some high-level programming langauges provide basic numerical data types that correspond to the ideal mathematical types $\\mathbb{R}$ and $\\mathbb{Z}$. But C++ provides only low level basic data types that are directly represented by the computer and directly operated on by the ALU. This data types are `int`, `float` and `double`  correspong to $\\tilde{\\mathbb{Z}}$ and $\\mathbb{F}$, respectively. "
   ]
  }
 ],
 "metadata": {
  "language_info": {
   "codemirror_mode": {
    "name": "ipython",
    "version": 3
   },
   "file_extension": ".py",
   "mimetype": "text/x-python",
   "name": "python",
   "nbconvert_exporter": "python",
   "pygments_lexer": "ipython3",
   "version": "3.11.3"
  }
 },
 "nbformat": 4,
 "nbformat_minor": 2
}