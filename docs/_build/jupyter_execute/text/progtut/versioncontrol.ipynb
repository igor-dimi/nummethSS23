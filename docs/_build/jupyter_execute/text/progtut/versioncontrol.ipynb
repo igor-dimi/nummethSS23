{
 "cells": [
  {
   "attachments": {},
   "cell_type": "markdown",
   "metadata": {},
   "source": [
    "# Version Control with Git\n",
    "\n",
    "Instead of saving different versions of files under different names, version control can be elegantly achieved with dedicated version control systems like **git**. \n",
    "\n",
    "\n",
    "Git is a **distributed version control** system, that allows to track changes of any set of files, compare different versions, create branches for different development versions, and to coordinate collaborative manipulation of the files, among other capabilities. \n",
    "\n",
    "It was originally developed by **Linus Torvalds** in 2005, to be used for the development of the Linux kernel. \n",
    "\n",
    "Since git is a **distributed version control system** as opposed to a **clint-server version control system**, every Git directory on every computer is a full-fledged **repository** with complete history and full version-tracking capabilities, independent of network access or a central server.\n",
    "\n",
    "```{glossary}\n",
    "Repository\n",
    "    Database with all the information and data that git uses to carry out the version control. Saved under `.git` folder at the root of the project folder\n",
    "\n",
    "Commit\n",
    "    A global snapshot of all tracked files, a long with a commit message that describes what has been changed. Commit is a fundamental versioning command; user executes it, when he wants to record the current version of the files.\n",
    "\n",
    "Branch \n",
    "    A self-contaied sequence of commits, accessible under a branch name, that are parallel to the main development/version branch. A branch represents a prallel development version\n",
    "\n",
    "Tag\n",
    "    A permanenet name for a commit - e.g. a release name. \n",
    "```"
   ]
  },
  {
   "cell_type": "markdown",
   "metadata": {},
   "source": []
  }
 ],
 "metadata": {
  "kernelspec": {
   "display_name": "Bash",
   "language": "bash",
   "name": "bash"
  },
  "language_info": {
   "codemirror_mode": "shell",
   "file_extension": ".sh",
   "mimetype": "text/x-sh",
   "name": "bash"
  }
 },
 "nbformat": 4,
 "nbformat_minor": 2
}