{
 "cells": [
  {
   "attachments": {},
   "cell_type": "markdown",
   "metadata": {},
   "source": [
    "# Numerical Solution of the Pendulum Problem"
   ]
  },
  {
   "attachments": {},
   "cell_type": "markdown",
   "metadata": {},
   "source": [
    "We can solve the differential equation numerically, without resorting\n",
    "to the $\\sin\\theta \\approx \\theta$ approximation using the Euler method to rewrite the sytem as a first-order differential equation:\n",
    "\n",
    "\n",
    "\\begin{align*}\n",
    "\\dot{\\phi} &= u \\quad &&u(0) = u_{0} \\\\\n",
    "\\dot{u} &= -\\frac{g}{f}\\sin{\\phi} \\quad \n",
    "&&\\phi(0) = \\phi_{0} \n",
    "\\end{align*}\n",
    "\n",
    "With the time step $\\Delta t$ we can express this differential equation as:\n",
    "\n",
    "\\begin{align*}\n",
    "\\phi_{n+1} &= \\phi_{n} + \\Delta t u_{n} \\\\\n",
    "u_{n+1} &= u_{n} - \\Delta t(\\frac{g}{l}\\sin{\\phi_{n}}) \\\\\n",
    "\\end{align*}\n",
    "\n",
    "Coding this difference scheme as a C++ we obtain:"
   ]
  },
  {
   "cell_type": "code",
   "execution_count": 1,
   "metadata": {
    "tags": [
     "hide-output"
    ],
    "vscode": {
     "languageId": "cpp"
    }
   },
   "outputs": [
    {
     "name": "stdout",
     "output_type": "stream",
     "text": [
      "0 3\n"
     ]
    },
    {
     "name": "stdout",
     "output_type": "stream",
     "text": [
      "0.0001 3\n"
     ]
    },
    {
     "name": "stdout",
     "output_type": "stream",
     "text": [
      "0.0002 3\n"
     ]
    },
    {
     "name": "stdout",
     "output_type": "stream",
     "text": [
      "0.0003 3\n"
     ]
    },
    {
     "name": "stdout",
     "output_type": "stream",
     "text": [
      "0.0004 3\n"
     ]
    },
    {
     "name": "stdout",
     "output_type": "stream",
     "text": [
      "0.0005 3\n"
     ]
    },
    {
     "name": "stdout",
     "output_type": "stream",
     "text": [
      "0.0006 3\n"
     ]
    },
    {
     "name": "stdout",
     "output_type": "stream",
     "text": [
      "0.0007 3\n"
     ]
    },
    {
     "name": "stdout",
     "output_type": "stream",
     "text": [
      "0.0008 3\n"
     ]
    },
    {
     "name": "stdout",
     "output_type": "stream",
     "text": [
      "0.0009 3\n"
     ]
    },
    {
     "name": "stdout",
     "output_type": "stream",
     "text": [
      "0.001 3\n"
     ]
    },
    {
     "name": "stdout",
     "output_type": "stream",
     "text": [
      "0.0011 3\n"
     ]
    },
    {
     "name": "stdout",
     "output_type": "stream",
     "text": [
      "0.0012 3\n"
     ]
    },
    {
     "name": "stdout",
     "output_type": "stream",
     "text": [
      "0.0013 3\n"
     ]
    },
    {
     "name": "stdout",
     "output_type": "stream",
     "text": [
      "0.0014 3\n"
     ]
    },
    {
     "name": "stdout",
     "output_type": "stream",
     "text": [
      "0.0015 3\n"
     ]
    },
    {
     "name": "stdout",
     "output_type": "stream",
     "text": [
      "0.0016 3\n"
     ]
    },
    {
     "name": "stdout",
     "output_type": "stream",
     "text": [
      "0.0017 3\n"
     ]
    },
    {
     "name": "stdout",
     "output_type": "stream",
     "text": [
      "0.0018 3\n"
     ]
    },
    {
     "name": "stdout",
     "output_type": "stream",
     "text": [
      "0.0019 3\n"
     ]
    },
    {
     "name": "stdout",
     "output_type": "stream",
     "text": [
      "0.002 3\n"
     ]
    },
    {
     "name": "stdout",
     "output_type": "stream",
     "text": [
      "0.0021 3\n"
     ]
    },
    {
     "name": "stdout",
     "output_type": "stream",
     "text": [
      "0.0022 3\n"
     ]
    },
    {
     "name": "stdout",
     "output_type": "stream",
     "text": [
      "0.0023 3\n"
     ]
    },
    {
     "name": "stdout",
     "output_type": "stream",
     "text": [
      "0.0024 3\n"
     ]
    },
    {
     "name": "stdout",
     "output_type": "stream",
     "text": [
      "0.0025 3\n"
     ]
    },
    {
     "name": "stdout",
     "output_type": "stream",
     "text": [
      "0.0026 3\n"
     ]
    },
    {
     "name": "stdout",
     "output_type": "stream",
     "text": [
      "0.0027 3\n"
     ]
    },
    {
     "name": "stdout",
     "output_type": "stream",
     "text": [
      "0.0028 3\n"
     ]
    },
    {
     "name": "stdout",
     "output_type": "stream",
     "text": [
      "0.0029 3\n"
     ]
    },
    {
     "name": "stdout",
     "output_type": "stream",
     "text": [
      "0.003 3\n"
     ]
    }
   ],
   "source": [
    "#include <iostream>\n",
    "#include <cmath>\n",
    "\n",
    "double l(1.34);\n",
    "double phi(3.0); //note that the initial phi can be large\n",
    "double u(0.0);\n",
    "double dt(1E-4);\n",
    "double T(0.003);\n",
    "double t(0.0);\n",
    "\n",
    "while (t < T){\n",
    "    std::cout << t << \" \" << phi << std::endl;\n",
    "    double phiprev(phi);\n",
    "    phi += dt * u;\n",
    "    u -= dt * (9.81 / l) * sin(phiprev);\n",
    "    t += dt;\n",
    "}"
   ]
  },
  {
   "attachments": {},
   "cell_type": "markdown",
   "metadata": {},
   "source": [
    "Full program text with `T` initialized with `10` instead of small value as above:\n",
    "\n",
    "```cpp\n",
    "#include <iostream>\n",
    "#include <cmath>\n",
    "\n",
    "double l(1.34);\n",
    "double phi(3.0); //note that the initial phi can be large\n",
    "double u(0.0);\n",
    "double dt(1E-4);\n",
    "double T(10);\n",
    "double t(0.0);\n",
    "\n",
    "int main()\n",
    "{\n",
    "\n",
    "    while (t < T){\n",
    "        std::cout << t << \" \" << phi << std::endl;\n",
    "        double phiprev(phi);\n",
    "        phi += dt * u;\n",
    "        u -= dt * (9.81 / l) * sin(phiprev);\n",
    "        t += dt;\n",
    "    }\n",
    "}\n",
    "```\n",
    "\n",
    "we obtain following plot by plotting the data produced by this program:\n",
    "\n",
    "![pendulum euler](../../imgs/pend2.png)\n"
   ]
  },
  {
   "cell_type": "markdown",
   "metadata": {},
   "source": []
  }
 ],
 "metadata": {
  "kernelspec": {
   "display_name": "C++17",
   "language": "C++17",
   "name": "xcpp17"
  },
  "language_info": {
   "codemirror_mode": "text/x-c++src",
   "file_extension": ".cpp",
   "mimetype": "text/x-c++src",
   "name": "c++",
   "version": "17"
  }
 },
 "nbformat": 4,
 "nbformat_minor": 2
}