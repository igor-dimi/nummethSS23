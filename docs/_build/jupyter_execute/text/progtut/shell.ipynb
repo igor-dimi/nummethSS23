{
 "cells": [
  {
   "attachments": {},
   "cell_type": "markdown",
   "metadata": {},
   "source": [
    "# Shell\n",
    "\n",
    "\n",
    "\n",
    "## Commands\n",
    "\n",
    "### General command syntax:\n",
    "\n",
    "```bash\n",
    "$ cmd -sv --opt1 --opt2 arg1 arg2 \n",
    "```\n",
    "The behaviour of a command can be changed by providing it **options**.\n",
    "Options are provided either beginning with a dash `-` or double dash `--`. Single-dash is followed by short options names consisting of a single letter. Short options can be combined by directly combining the letters: `-sv` above stands for `-s` and `-v`. \n",
    "\n",
    "### Some basic commands:\n",
    "\n",
    "`pwd` outputs the full path of the current working directory: "
   ]
  },
  {
   "cell_type": "code",
   "execution_count": 1,
   "metadata": {
    "vscode": {
     "languageId": "shellscript"
    }
   },
   "outputs": [
    {
     "name": "stdout",
     "output_type": "stream",
     "text": [
      "/home/igor/Documents/uni/ss23/nummethSS23/docs/text/progtut\n"
     ]
    }
   ],
   "source": [
    "pwd"
   ]
  },
  {
   "attachments": {},
   "cell_type": "markdown",
   "metadata": {},
   "source": [
    "`exit` closes the current shell"
   ]
  },
  {
   "attachments": {},
   "cell_type": "markdown",
   "metadata": {},
   "source": [
    "`echo` prints out its argumetns to standard ouput:"
   ]
  },
  {
   "cell_type": "code",
   "execution_count": 2,
   "metadata": {
    "vscode": {
     "languageId": "shellscript"
    }
   },
   "outputs": [
    {
     "name": "stdout",
     "output_type": "stream",
     "text": [
      "hey there\n"
     ]
    }
   ],
   "source": [
    "echo hey there"
   ]
  },
  {
   "attachments": {},
   "cell_type": "markdown",
   "metadata": {},
   "source": [
    "If a command is used wrongly, it usually prints a short message help message to the standard output:"
   ]
  },
  {
   "cell_type": "code",
   "execution_count": 3,
   "metadata": {
    "vscode": {
     "languageId": "shellscript"
    }
   },
   "outputs": [],
   "source": [
    "# rm"
   ]
  },
  {
   "attachments": {},
   "cell_type": "markdown",
   "metadata": {},
   "source": [
    "The option `--help` usually prints a succint help message to the standart output"
   ]
  },
  {
   "cell_type": "code",
   "execution_count": 4,
   "metadata": {
    "tags": [
     "hide-output"
    ],
    "vscode": {
     "languageId": "shellscript"
    }
   },
   "outputs": [
    {
     "name": "stdout",
     "output_type": "stream",
     "text": [
      "Usage: rm [OPTION]... [FILE]...\n",
      "Remove (unlink) the FILE(s).\n",
      "\n",
      "  -f, --force           ignore nonexistent files and arguments, never prompt\n",
      "  -i                    prompt before every removal\n",
      "  -I                    prompt once before removing more than three files, or\n",
      "                          when removing recursively; less intrusive than -i,\n",
      "                          while still giving protection against most mistakes\n",
      "      --interactive[=WHEN]  prompt according to WHEN: never, once (-I), or\n",
      "                          always (-i); without WHEN, prompt always\n",
      "      --one-file-system  when removing a hierarchy recursively, skip any\n",
      "                          directory that is on a file system different from\n",
      "                          that of the corresponding command line argument\n",
      "      --no-preserve-root  do not treat '/' specially\n",
      "      --preserve-root[=all]  do not remove '/' (default);\n",
      "                              with 'all', reject any command line argument\n",
      "                              on a separate device from its parent\n",
      "  -r, -R, --recursive   remove directories and their contents recursively\n",
      "  -d, --dir             remove empty directories\n",
      "  -v, --verbose         explain what is being done\n",
      "      --help        display this help and exit\n",
      "      --version     output version information and exit\n",
      "\n",
      "By default, rm does not remove directories.  Use the --recursive (-r or -R)\n",
      "option to remove each listed directory, too, along with all of its contents.\n",
      "\n",
      "To remove a file whose name starts with a '-', for example '-foo',\n",
      "use one of these commands:\n",
      "  rm -- -foo\n",
      "\n",
      "  rm ./-foo\n",
      "\n",
      "Note that if you use rm to remove a file, it might be possible to recover\n",
      "some of its contents, given sufficient expertise and/or time.  For greater\n",
      "assurance that the contents are truly unrecoverable, consider using shred(1).\n",
      "\n",
      "GNU coreutils online help: <https://www.gnu.org/software/coreutils/>\n",
      "Full documentation <https://www.gnu.org/software/coreutils/rm>\n",
      "or available locally via: info '(coreutils) rm invocation'\n"
     ]
    },
    {
     "name": "stdout",
     "output_type": "stream",
     "text": [
      "Remove (unlink) the FILE(s).\n"
     ]
    },
    {
     "name": "stdout",
     "output_type": "stream",
     "text": [
      "\n"
     ]
    },
    {
     "name": "stdout",
     "output_type": "stream",
     "text": [
      "  -f, --force           ignore nonexistent files and arguments, never prompt\n"
     ]
    },
    {
     "name": "stdout",
     "output_type": "stream",
     "text": [
      "  -i                    prompt before every removal\n"
     ]
    },
    {
     "name": "stdout",
     "output_type": "stream",
     "text": [
      "  -I                    prompt once before removing more than three files, or\n"
     ]
    },
    {
     "name": "stdout",
     "output_type": "stream",
     "text": [
      "                          when removing recursively; less intrusive than -i,\n"
     ]
    },
    {
     "name": "stdout",
     "output_type": "stream",
     "text": [
      "                          while still giving protection against most mistakes\n"
     ]
    },
    {
     "name": "stdout",
     "output_type": "stream",
     "text": [
      "      --interactive[=WHEN]  prompt according to WHEN: never, once (-I), or\n"
     ]
    },
    {
     "name": "stdout",
     "output_type": "stream",
     "text": [
      "                          always (-i); without WHEN, prompt always\n"
     ]
    },
    {
     "name": "stdout",
     "output_type": "stream",
     "text": [
      "      --one-file-system  when removing a hierarchy recursively, skip any\n"
     ]
    },
    {
     "name": "stdout",
     "output_type": "stream",
     "text": [
      "                          directory that is on a file system different from\n"
     ]
    },
    {
     "name": "stdout",
     "output_type": "stream",
     "text": [
      "                          that of the corresponding command line argument\n"
     ]
    },
    {
     "name": "stdout",
     "output_type": "stream",
     "text": [
      "      --no-preserve-root  do not treat '/' specially\n"
     ]
    },
    {
     "name": "stdout",
     "output_type": "stream",
     "text": [
      "      --preserve-root[=all]  do not remove '/' (default);\n"
     ]
    },
    {
     "name": "stdout",
     "output_type": "stream",
     "text": [
      "                              with 'all', reject any command line argument\n"
     ]
    },
    {
     "name": "stdout",
     "output_type": "stream",
     "text": [
      "                              on a separate device from its parent\n"
     ]
    },
    {
     "name": "stdout",
     "output_type": "stream",
     "text": [
      "  -r, -R, --recursive   remove directories and their contents recursively\n"
     ]
    },
    {
     "name": "stdout",
     "output_type": "stream",
     "text": [
      "  -d, --dir             remove empty directories\n"
     ]
    },
    {
     "name": "stdout",
     "output_type": "stream",
     "text": [
      "  -v, --verbose         explain what is being done\n"
     ]
    },
    {
     "name": "stdout",
     "output_type": "stream",
     "text": [
      "      --help        display this help and exit\n"
     ]
    },
    {
     "name": "stdout",
     "output_type": "stream",
     "text": [
      "      --version     output version information and exit\n"
     ]
    },
    {
     "name": "stdout",
     "output_type": "stream",
     "text": [
      "\n"
     ]
    },
    {
     "name": "stdout",
     "output_type": "stream",
     "text": [
      "By default, rm does not remove directories.  Use the --recursive (-r or -R)\n"
     ]
    },
    {
     "name": "stdout",
     "output_type": "stream",
     "text": [
      "option to remove each listed directory, too, along with all of its contents.\n"
     ]
    },
    {
     "name": "stdout",
     "output_type": "stream",
     "text": [
      "\n"
     ]
    },
    {
     "name": "stdout",
     "output_type": "stream",
     "text": [
      "To remove a file whose name starts with a '-', for example '-foo',\n"
     ]
    },
    {
     "name": "stdout",
     "output_type": "stream",
     "text": [
      "use one of these commands:\n"
     ]
    },
    {
     "name": "stdout",
     "output_type": "stream",
     "text": [
      "  rm -- -foo\n"
     ]
    },
    {
     "name": "stdout",
     "output_type": "stream",
     "text": [
      "\n"
     ]
    },
    {
     "name": "stdout",
     "output_type": "stream",
     "text": [
      "  rm ./-foo\n"
     ]
    },
    {
     "name": "stdout",
     "output_type": "stream",
     "text": [
      "\n"
     ]
    },
    {
     "name": "stdout",
     "output_type": "stream",
     "text": [
      "Note that if you use rm to remove a file, it might be possible to recover\n"
     ]
    },
    {
     "name": "stdout",
     "output_type": "stream",
     "text": [
      "some of its contents, given sufficient expertise and/or time.  For greater\n"
     ]
    },
    {
     "name": "stdout",
     "output_type": "stream",
     "text": [
      "assurance that the contents are truly unrecoverable, consider using shred(1).\n"
     ]
    },
    {
     "name": "stdout",
     "output_type": "stream",
     "text": [
      "\n"
     ]
    },
    {
     "name": "stdout",
     "output_type": "stream",
     "text": [
      "GNU coreutils online help: <https://www.gnu.org/software/coreutils/>\n"
     ]
    },
    {
     "name": "stdout",
     "output_type": "stream",
     "text": [
      "Full documentation <https://www.gnu.org/software/coreutils/rm>\n"
     ]
    },
    {
     "name": "stdout",
     "output_type": "stream",
     "text": [
      "or available locally via: info '(coreutils) rm invocation'\n"
     ]
    }
   ],
   "source": [
    "rm --help"
   ]
  },
  {
   "attachments": {},
   "cell_type": "markdown",
   "metadata": {},
   "source": [
    "More comprehensive help can be optained with the `man` command, that opens the manual entry of a command within the **man pages**"
   ]
  },
  {
   "cell_type": "code",
   "execution_count": 5,
   "metadata": {
    "tags": [
     "hide-output"
    ],
    "vscode": {
     "languageId": "shellscript"
    }
   },
   "outputs": [
    {
     "name": "stdout",
     "output_type": "stream",
     "text": [
      "RM(1)                            User Commands                           RM(1)\n",
      "\n",
      "N\bNA\bAM\bME\bE\n",
      "       rm - remove files or directories\n",
      "\n",
      "S\bSY\bYN\bNO\bOP\bPS\bSI\bIS\bS\n",
      "       r\brm\bm [_\bO_\bP_\bT_\bI_\bO_\bN]... [_\bF_\bI_\bL_\bE]...\n",
      "\n",
      "D\bDE\bES\bSC\bCR\bRI\bIP\bPT\bTI\bIO\bON\bN\n",
      "       This  manual  page  documents  the  GNU version of r\brm\bm.  r\brm\bm removes each\n",
      "       specified file.  By default, it does not remove directories.\n",
      "\n",
      "       If the _\b-_\bI or _\b-_\b-_\bi_\bn_\bt_\be_\br_\ba_\bc_\bt_\bi_\bv_\be_\b=_\bo_\bn_\bc_\be option is given,  and  there  are  more\n",
      "       than  three  files  or  the  _\b-_\br,  _\b-_\bR, or _\b-_\b-_\br_\be_\bc_\bu_\br_\bs_\bi_\bv_\be are given, then r\brm\bm\n",
      "       prompts the user for whether to proceed with the entire operation.   If\n",
      "       the response is not affirmative, the entire command is aborted.\n",
      "\n",
      "       Otherwise,  if  a file is unwritable, standard input is a terminal, and\n",
      "       the _\b-_\bf or _\b-_\b-_\bf_\bo_\br_\bc_\be option is not given, or the _\b-_\bi  or  _\b-_\b-_\bi_\bn_\bt_\be_\br_\ba_\bc_\bt_\bi_\bv_\be_\b=_\ba_\bl_\b‐\n",
      "       _\bw_\ba_\by_\bs  option  is  given,  r\brm\bm prompts the user for whether to remove the\n",
      "       file.  If the response is not affirmative, the file is skipped.\n",
      "\n",
      "O\bOP\bPT\bTI\bIO\bON\bNS\bS\n",
      "       Remove (unlink) the FILE(s).\n",
      "\n",
      "       -\b-f\bf, -\b--\b-f\bfo\bor\brc\bce\be\n",
      "              ignore nonexistent files and arguments, never prompt\n",
      "\n",
      "       -\b-i\bi     prompt before every removal\n",
      "\n",
      "       -\b-I\bI     prompt once before removing more than three files, or  when  re‐\n",
      "              moving  recursively;  less intrusive than -\b-i\bi, while still giving\n",
      "              protection against most mistakes\n",
      "\n",
      "       -\b--\b-i\bin\bnt\bte\ber\bra\bac\bct\bti\biv\bve\be[=_\bW_\bH_\bE_\bN]\n",
      "              prompt according to WHEN: never,  once  (-\b-I\bI),  or  always  (-\b-i\bi);\n",
      "              without WHEN, prompt always\n",
      "\n",
      "       -\b--\b-o\bon\bne\be-\b-f\bfi\bil\ble\be-\b-s\bsy\bys\bst\bte\bem\bm\n",
      "              when  removing  a hierarchy recursively, skip any directory that\n",
      "              is on a file system different from  that  of  the  corresponding\n",
      "              command line argument\n",
      "\n",
      "       -\b--\b-n\bno\bo-\b-p\bpr\bre\bes\bse\ber\brv\bve\be-\b-r\bro\boo\bot\bt\n",
      "              do not treat '/' specially\n",
      "\n",
      "       -\b--\b-p\bpr\bre\bes\bse\ber\brv\bve\be-\b-r\bro\boo\bot\bt[=_\ba_\bl_\bl]\n",
      "              do not remove '/' (default); with 'all', reject any command line\n",
      "              argument on a separate device from its parent\n",
      "\n",
      "       -\b-r\br, -\b-R\bR, -\b--\b-r\bre\bec\bcu\bur\brs\bsi\biv\bve\be\n",
      "              remove directories and their contents recursively\n",
      "\n",
      "       -\b-d\bd, -\b--\b-d\bdi\bir\br\n",
      "              remove empty directories\n",
      "\n",
      "       -\b-v\bv, -\b--\b-v\bve\ber\brb\bbo\bos\bse\be\n",
      "              explain what is being done\n",
      "\n",
      "       -\b--\b-h\bhe\bel\blp\bp display this help and exit\n",
      "\n",
      "       -\b--\b-v\bve\ber\brs\bsi\bio\bon\bn\n",
      "              output version information and exit\n",
      "\n",
      "       By default, rm does not remove directories.  Use the -\b--\b-r\bre\bec\bcu\bur\brs\bsi\biv\bve\be (-\b-r\br or\n",
      "       -\b-R\bR)  option to remove each listed directory, too, along with all of its\n",
      "       contents.\n",
      "\n",
      "       To remove a file whose name starts with a '-', for example '-foo',  use\n",
      "       one of these commands:\n",
      "\n",
      "              rm -\b--\b- -\b-f\bfo\boo\bo\n",
      "\n",
      "              rm ./-foo\n",
      "\n",
      "       Note  that  if you use rm to remove a file, it might be possible to re‐\n",
      "       cover some of its contents, given  sufficient  expertise  and/or  time.\n",
      "       For  greater  assurance that the contents are truly unrecoverable, con‐\n",
      "       sider using s\bsh\bhr\bre\bed\bd(1).\n",
      "\n",
      "A\bAU\bUT\bTH\bHO\bOR\bR\n",
      "       Written by Paul Rubin, David MacKenzie, Richard M.  Stallman,  and  Jim\n",
      "       Meyering.\n",
      "\n",
      "R\bRE\bEP\bPO\bOR\bRT\bTI\bIN\bNG\bG B\bBU\bUG\bGS\bS\n",
      "       GNU coreutils online help: <https://www.gnu.org/software/coreutils/>\n",
      "       Report any translation bugs to <https://translationproject.org/team/>\n",
      "\n",
      "C\bCO\bOP\bPY\bYR\bRI\bIG\bGH\bHT\bT\n",
      "       Copyright  ©  2023  Free Software Foundation, Inc.  License GPLv3+: GNU\n",
      "       GPL version 3 or later <https://gnu.org/licenses/gpl.html>.\n",
      "       This is free software: you are free  to  change  and  redistribute  it.\n",
      "       There is NO WARRANTY, to the extent permitted by law.\n",
      "\n",
      "S\bSE\bEE\bE A\bAL\bLS\bSO\bO\n",
      "       u\bun\bnl\bli\bin\bnk\bk(1), u\bun\bnl\bli\bin\bnk\bk(2), c\bch\bha\bat\btt\btr\br(1), s\bsh\bhr\bre\bed\bd(1)\n",
      "\n",
      "       Full documentation <https://www.gnu.org/software/coreutils/rm>\n",
      "       or available locally via: info '(coreutils) rm invocation'\n",
      "\n",
      "GNU coreutils 9.2                 April 2023                             RM(1)\n"
     ]
    },
    {
     "name": "stdout",
     "output_type": "stream",
     "text": [
      "\n"
     ]
    },
    {
     "name": "stdout",
     "output_type": "stream",
     "text": [
      "N\bNA\bAM\bME\bE\n"
     ]
    },
    {
     "name": "stdout",
     "output_type": "stream",
     "text": [
      "       rm - remove files or directories\n"
     ]
    },
    {
     "name": "stdout",
     "output_type": "stream",
     "text": [
      "\n"
     ]
    },
    {
     "name": "stdout",
     "output_type": "stream",
     "text": [
      "S\bSY\bYN\bNO\bOP\bPS\bSI\bIS\bS\n"
     ]
    },
    {
     "name": "stdout",
     "output_type": "stream",
     "text": [
      "       r\brm\bm [_\bO_\bP_\bT_\bI_\bO_\bN]... [_\bF_\bI_\bL_\bE]...\n"
     ]
    },
    {
     "name": "stdout",
     "output_type": "stream",
     "text": [
      "\n"
     ]
    },
    {
     "name": "stdout",
     "output_type": "stream",
     "text": [
      "D\bDE\bES\bSC\bCR\bRI\bIP\bPT\bTI\bIO\bON\bN\n"
     ]
    },
    {
     "name": "stdout",
     "output_type": "stream",
     "text": [
      "       This  manual  page  documents  the  GNU version of r\brm\bm.  r\brm\bm removes each\n"
     ]
    },
    {
     "name": "stdout",
     "output_type": "stream",
     "text": [
      "       specified file.  By default, it does not remove directories.\n"
     ]
    },
    {
     "name": "stdout",
     "output_type": "stream",
     "text": [
      "\n"
     ]
    },
    {
     "name": "stdout",
     "output_type": "stream",
     "text": [
      "       If the _\b-_\bI or _\b-_\b-_\bi_\bn_\bt_\be_\br_\ba_\bc_\bt_\bi_\bv_\be_\b=_\bo_\bn_\bc_\be option is given,  and  there  are  more\n"
     ]
    },
    {
     "name": "stdout",
     "output_type": "stream",
     "text": [
      "       than  three  files  or  the  _\b-_\br,  _\b-_\bR, or _\b-_\b-_\br_\be_\bc_\bu_\br_\bs_\bi_\bv_\be are given, then r\brm\bm\n"
     ]
    },
    {
     "name": "stdout",
     "output_type": "stream",
     "text": [
      "       prompts the user for whether to proceed with the entire operation.   If\n"
     ]
    },
    {
     "name": "stdout",
     "output_type": "stream",
     "text": [
      "       the response is not affirmative, the entire command is aborted.\n"
     ]
    },
    {
     "name": "stdout",
     "output_type": "stream",
     "text": [
      "\n"
     ]
    },
    {
     "name": "stdout",
     "output_type": "stream",
     "text": [
      "       Otherwise,  if  a file is unwritable, standard input is a terminal, and\n"
     ]
    },
    {
     "name": "stdout",
     "output_type": "stream",
     "text": [
      "       the _\b-_\bf or _\b-_\b-_\bf_\bo_\br_\bc_\be option is not given, or the _\b-_\bi  or  _\b-_\b-_\bi_\bn_\bt_\be_\br_\ba_\bc_\bt_\bi_\bv_\be_\b=_\ba_\bl_\b‐\n"
     ]
    },
    {
     "name": "stdout",
     "output_type": "stream",
     "text": [
      "       _\bw_\ba_\by_\bs  option  is  given,  r\brm\bm prompts the user for whether to remove the\n"
     ]
    },
    {
     "name": "stdout",
     "output_type": "stream",
     "text": [
      "       file.  If the response is not affirmative, the file is skipped.\n"
     ]
    },
    {
     "name": "stdout",
     "output_type": "stream",
     "text": [
      "\n"
     ]
    },
    {
     "name": "stdout",
     "output_type": "stream",
     "text": [
      "O\bOP\bPT\bTI\bIO\bON\bNS\bS\n"
     ]
    },
    {
     "name": "stdout",
     "output_type": "stream",
     "text": [
      "       Remove (unlink) the FILE(s).\n"
     ]
    },
    {
     "name": "stdout",
     "output_type": "stream",
     "text": [
      "\n"
     ]
    },
    {
     "name": "stdout",
     "output_type": "stream",
     "text": [
      "       -\b-f\bf, -\b--\b-f\bfo\bor\brc\bce\be\n"
     ]
    },
    {
     "name": "stdout",
     "output_type": "stream",
     "text": [
      "              ignore nonexistent files and arguments, never prompt\n"
     ]
    },
    {
     "name": "stdout",
     "output_type": "stream",
     "text": [
      "\n"
     ]
    },
    {
     "name": "stdout",
     "output_type": "stream",
     "text": [
      "       -\b-i\bi     prompt before every removal\n"
     ]
    },
    {
     "name": "stdout",
     "output_type": "stream",
     "text": [
      "\n"
     ]
    },
    {
     "name": "stdout",
     "output_type": "stream",
     "text": [
      "       -\b-I\bI     prompt once before removing more than three files, or  when  re‐\n"
     ]
    },
    {
     "name": "stdout",
     "output_type": "stream",
     "text": [
      "              moving  recursively;  less intrusive than -\b-i\bi, while still giving\n"
     ]
    },
    {
     "name": "stdout",
     "output_type": "stream",
     "text": [
      "              protection against most mistakes\n"
     ]
    },
    {
     "name": "stdout",
     "output_type": "stream",
     "text": [
      "\n"
     ]
    },
    {
     "name": "stdout",
     "output_type": "stream",
     "text": [
      "       -\b--\b-i\bin\bnt\bte\ber\bra\bac\bct\bti\biv\bve\be[=_\bW_\bH_\bE_\bN]\n"
     ]
    },
    {
     "name": "stdout",
     "output_type": "stream",
     "text": [
      "              prompt according to WHEN: never,  once  (-\b-I\bI),  or  always  (-\b-i\bi);\n"
     ]
    },
    {
     "name": "stdout",
     "output_type": "stream",
     "text": [
      "              without WHEN, prompt always\n"
     ]
    },
    {
     "name": "stdout",
     "output_type": "stream",
     "text": [
      "\n"
     ]
    },
    {
     "name": "stdout",
     "output_type": "stream",
     "text": [
      "       -\b--\b-o\bon\bne\be-\b-f\bfi\bil\ble\be-\b-s\bsy\bys\bst\bte\bem\bm\n"
     ]
    },
    {
     "name": "stdout",
     "output_type": "stream",
     "text": [
      "              when  removing  a hierarchy recursively, skip any directory that\n"
     ]
    },
    {
     "name": "stdout",
     "output_type": "stream",
     "text": [
      "              is on a file system different from  that  of  the  corresponding\n"
     ]
    },
    {
     "name": "stdout",
     "output_type": "stream",
     "text": [
      "              command line argument\n"
     ]
    },
    {
     "name": "stdout",
     "output_type": "stream",
     "text": [
      "\n"
     ]
    },
    {
     "name": "stdout",
     "output_type": "stream",
     "text": [
      "       -\b--\b-n\bno\bo-\b-p\bpr\bre\bes\bse\ber\brv\bve\be-\b-r\bro\boo\bot\bt\n"
     ]
    },
    {
     "name": "stdout",
     "output_type": "stream",
     "text": [
      "              do not treat '/' specially\n"
     ]
    },
    {
     "name": "stdout",
     "output_type": "stream",
     "text": [
      "\n"
     ]
    },
    {
     "name": "stdout",
     "output_type": "stream",
     "text": [
      "       -\b--\b-p\bpr\bre\bes\bse\ber\brv\bve\be-\b-r\bro\boo\bot\bt[=_\ba_\bl_\bl]\n"
     ]
    },
    {
     "name": "stdout",
     "output_type": "stream",
     "text": [
      "              do not remove '/' (default); with 'all', reject any command line\n"
     ]
    },
    {
     "name": "stdout",
     "output_type": "stream",
     "text": [
      "              argument on a separate device from its parent\n"
     ]
    },
    {
     "name": "stdout",
     "output_type": "stream",
     "text": [
      "\n"
     ]
    },
    {
     "name": "stdout",
     "output_type": "stream",
     "text": [
      "       -\b-r\br, -\b-R\bR, -\b--\b-r\bre\bec\bcu\bur\brs\bsi\biv\bve\be\n"
     ]
    },
    {
     "name": "stdout",
     "output_type": "stream",
     "text": [
      "              remove directories and their contents recursively\n"
     ]
    },
    {
     "name": "stdout",
     "output_type": "stream",
     "text": [
      "\n"
     ]
    },
    {
     "name": "stdout",
     "output_type": "stream",
     "text": [
      "       -\b-d\bd, -\b--\b-d\bdi\bir\br\n"
     ]
    },
    {
     "name": "stdout",
     "output_type": "stream",
     "text": [
      "              remove empty directories\n"
     ]
    },
    {
     "name": "stdout",
     "output_type": "stream",
     "text": [
      "\n"
     ]
    },
    {
     "name": "stdout",
     "output_type": "stream",
     "text": [
      "       -\b-v\bv, -\b--\b-v\bve\ber\brb\bbo\bos\bse\be\n"
     ]
    },
    {
     "name": "stdout",
     "output_type": "stream",
     "text": [
      "              explain what is being done\n"
     ]
    },
    {
     "name": "stdout",
     "output_type": "stream",
     "text": [
      "\n"
     ]
    },
    {
     "name": "stdout",
     "output_type": "stream",
     "text": [
      "       -\b--\b-h\bhe\bel\blp\bp display this help and exit\n"
     ]
    },
    {
     "name": "stdout",
     "output_type": "stream",
     "text": [
      "\n"
     ]
    },
    {
     "name": "stdout",
     "output_type": "stream",
     "text": [
      "       -\b--\b-v\bve\ber\brs\bsi\bio\bon\bn\n"
     ]
    },
    {
     "name": "stdout",
     "output_type": "stream",
     "text": [
      "              output version information and exit\n"
     ]
    },
    {
     "name": "stdout",
     "output_type": "stream",
     "text": [
      "\n"
     ]
    },
    {
     "name": "stdout",
     "output_type": "stream",
     "text": [
      "       By default, rm does not remove directories.  Use the -\b--\b-r\bre\bec\bcu\bur\brs\bsi\biv\bve\be (-\b-r\br or\n"
     ]
    },
    {
     "name": "stdout",
     "output_type": "stream",
     "text": [
      "       -\b-R\bR)  option to remove each listed directory, too, along with all of its\n"
     ]
    },
    {
     "name": "stdout",
     "output_type": "stream",
     "text": [
      "       contents.\n"
     ]
    },
    {
     "name": "stdout",
     "output_type": "stream",
     "text": [
      "\n"
     ]
    },
    {
     "name": "stdout",
     "output_type": "stream",
     "text": [
      "       To remove a file whose name starts with a '-', for example '-foo',  use\n"
     ]
    },
    {
     "name": "stdout",
     "output_type": "stream",
     "text": [
      "       one of these commands:\n"
     ]
    },
    {
     "name": "stdout",
     "output_type": "stream",
     "text": [
      "\n"
     ]
    },
    {
     "name": "stdout",
     "output_type": "stream",
     "text": [
      "              rm -\b--\b- -\b-f\bfo\boo\bo\n"
     ]
    },
    {
     "name": "stdout",
     "output_type": "stream",
     "text": [
      "\n"
     ]
    },
    {
     "name": "stdout",
     "output_type": "stream",
     "text": [
      "              rm ./-foo\n"
     ]
    },
    {
     "name": "stdout",
     "output_type": "stream",
     "text": [
      "\n"
     ]
    },
    {
     "name": "stdout",
     "output_type": "stream",
     "text": [
      "       Note  that  if you use rm to remove a file, it might be possible to re‐\n"
     ]
    },
    {
     "name": "stdout",
     "output_type": "stream",
     "text": [
      "       cover some of its contents, given  sufficient  expertise  and/or  time.\n"
     ]
    },
    {
     "name": "stdout",
     "output_type": "stream",
     "text": [
      "       For  greater  assurance that the contents are truly unrecoverable, con‐\n"
     ]
    },
    {
     "name": "stdout",
     "output_type": "stream",
     "text": [
      "       sider using s\bsh\bhr\bre\bed\bd(1).\n"
     ]
    },
    {
     "name": "stdout",
     "output_type": "stream",
     "text": [
      "\n"
     ]
    },
    {
     "name": "stdout",
     "output_type": "stream",
     "text": [
      "A\bAU\bUT\bTH\bHO\bOR\bR\n"
     ]
    },
    {
     "name": "stdout",
     "output_type": "stream",
     "text": [
      "       Written by Paul Rubin, David MacKenzie, Richard M.  Stallman,  and  Jim\n"
     ]
    },
    {
     "name": "stdout",
     "output_type": "stream",
     "text": [
      "       Meyering.\n"
     ]
    },
    {
     "name": "stdout",
     "output_type": "stream",
     "text": [
      "\n"
     ]
    },
    {
     "name": "stdout",
     "output_type": "stream",
     "text": [
      "R\bRE\bEP\bPO\bOR\bRT\bTI\bIN\bNG\bG B\bBU\bUG\bGS\bS\n"
     ]
    },
    {
     "name": "stdout",
     "output_type": "stream",
     "text": [
      "       GNU coreutils online help: <https://www.gnu.org/software/coreutils/>\n"
     ]
    },
    {
     "name": "stdout",
     "output_type": "stream",
     "text": [
      "       Report any translation bugs to <https://translationproject.org/team/>\n"
     ]
    },
    {
     "name": "stdout",
     "output_type": "stream",
     "text": [
      "\n"
     ]
    },
    {
     "name": "stdout",
     "output_type": "stream",
     "text": [
      "C\bCO\bOP\bPY\bYR\bRI\bIG\bGH\bHT\bT\n"
     ]
    },
    {
     "name": "stdout",
     "output_type": "stream",
     "text": [
      "       Copyright  ©  2023  Free Software Foundation, Inc.  License GPLv3+: GNU\n"
     ]
    },
    {
     "name": "stdout",
     "output_type": "stream",
     "text": [
      "       GPL version 3 or later <https://gnu.org/licenses/gpl.html>.\n"
     ]
    },
    {
     "name": "stdout",
     "output_type": "stream",
     "text": [
      "       This is free software: you are free  to  change  and  redistribute  it.\n"
     ]
    },
    {
     "name": "stdout",
     "output_type": "stream",
     "text": [
      "       There is NO WARRANTY, to the extent permitted by law.\n"
     ]
    },
    {
     "name": "stdout",
     "output_type": "stream",
     "text": [
      "\n"
     ]
    },
    {
     "name": "stdout",
     "output_type": "stream",
     "text": [
      "S\bSE\bEE\bE A\bAL\bLS\bSO\bO\n"
     ]
    },
    {
     "name": "stdout",
     "output_type": "stream",
     "text": [
      "       u\bun\bnl\bli\bin\bnk\bk(1), u\bun\bnl\bli\bin\bnk\bk(2), c\bch\bha\bat\btt\btr\br(1), s\bsh\bhr\bre\bed\bd(1)\n"
     ]
    },
    {
     "name": "stdout",
     "output_type": "stream",
     "text": [
      "\n"
     ]
    },
    {
     "name": "stdout",
     "output_type": "stream",
     "text": [
      "       Full documentation <https://www.gnu.org/software/coreutils/rm>\n"
     ]
    },
    {
     "name": "stdout",
     "output_type": "stream",
     "text": [
      "       or available locally via: info '(coreutils) rm invocation'\n"
     ]
    },
    {
     "name": "stdout",
     "output_type": "stream",
     "text": [
      "\n"
     ]
    },
    {
     "name": "stdout",
     "output_type": "stream",
     "text": [
      "GNU coreutils 9.2                 April 2023                             RM(1)\n"
     ]
    }
   ],
   "source": [
    "man rm"
   ]
  },
  {
   "attachments": {},
   "cell_type": "markdown",
   "metadata": {},
   "source": [
    "`cd` to change directories:"
   ]
  },
  {
   "cell_type": "code",
   "execution_count": 6,
   "metadata": {
    "vscode": {
     "languageId": "shellscript"
    }
   },
   "outputs": [],
   "source": [
    "cd ../../imgs"
   ]
  },
  {
   "cell_type": "code",
   "execution_count": 7,
   "metadata": {
    "vscode": {
     "languageId": "shellscript"
    }
   },
   "outputs": [
    {
     "name": "stdout",
     "output_type": "stream",
     "text": [
      "/home/igor/Documents/uni/ss23/nummethSS23/docs/imgs\n"
     ]
    }
   ],
   "source": [
    "pwd"
   ]
  },
  {
   "attachments": {},
   "cell_type": "markdown",
   "metadata": {},
   "source": [
    "* `..` stands for directory one level above\n",
    "* `-` previous directory\n",
    "* `.` this directory"
   ]
  },
  {
   "cell_type": "code",
   "execution_count": 8,
   "metadata": {
    "vscode": {
     "languageId": "shellscript"
    }
   },
   "outputs": [
    {
     "name": "stdout",
     "output_type": "stream",
     "text": [
      "/home/igor/Documents/uni/ss23/nummethSS23/docs/imgs\n",
      "/home/igor/Documents/uni/ss23/nummethSS23/docs\n",
      "/home/igor/Documents/uni/ss23/nummethSS23/docs/imgs\n",
      "/home/igor/Documents/uni/ss23/nummethSS23/docs/imgs\n",
      "/home/igor/Documents/uni/ss23/nummethSS23/docs/imgs\n"
     ]
    },
    {
     "name": "stdout",
     "output_type": "stream",
     "text": [
      "/home/igor/Documents/uni/ss23/nummethSS23/docs\n"
     ]
    },
    {
     "name": "stdout",
     "output_type": "stream",
     "text": [
      "/home/igor/Documents/uni/ss23/nummethSS23/docs/imgs\n"
     ]
    },
    {
     "name": "stdout",
     "output_type": "stream",
     "text": [
      "/home/igor/Documents/uni/ss23/nummethSS23/docs/imgs\n"
     ]
    },
    {
     "name": "stdout",
     "output_type": "stream",
     "text": [
      "/home/igor/Documents/uni/ss23/nummethSS23/docs/imgs\n"
     ]
    }
   ],
   "source": [
    "pwd\n",
    "cd ..\n",
    "pwd\n",
    "cd -\n",
    "pwd\n",
    "cd .\n",
    "pwd"
   ]
  },
  {
   "attachments": {},
   "cell_type": "markdown",
   "metadata": {},
   "source": [
    "* `ls` to list files in the directory.\n",
    "* show files beginning with `.` with `ls -l`\n",
    "* `ls` accepts a path as argument\n",
    "* `ls -l` shows additional infomration. `-l` stands for **long**.  "
   ]
  },
  {
   "cell_type": "code",
   "execution_count": 9,
   "metadata": {
    "vscode": {
     "languageId": "shellscript"
    }
   },
   "outputs": [
    {
     "name": "stdout",
     "output_type": "stream",
     "text": [
      "deltas3.excalidraw.png         gitsnapshots.excalidraw.png\n",
      "expression_cpp.excalidraw.png  pend2.png\n",
      "expression.excalidraw.png      pend.data.png\n",
      "funct.excalidraw.png           pendulum.excalidraw.png\n"
     ]
    },
    {
     "name": "stdout",
     "output_type": "stream",
     "text": [
      "expression_cpp.excalidraw.png  pend2.png\n"
     ]
    },
    {
     "name": "stdout",
     "output_type": "stream",
     "text": [
      "expression.excalidraw.png      pend.data.png\n"
     ]
    },
    {
     "name": "stdout",
     "output_type": "stream",
     "text": [
      "funct.excalidraw.png           pendulum.excalidraw.png\n"
     ]
    }
   ],
   "source": [
    "ls"
   ]
  },
  {
   "cell_type": "code",
   "execution_count": 10,
   "metadata": {
    "vscode": {
     "languageId": "shellscript"
    }
   },
   "outputs": [
    {
     "name": "stdout",
     "output_type": "stream",
     "text": [
      "total 360\n",
      "-rw-r--r-- 1 igor igor 85113  4. Mai 00:00 deltas3.excalidraw.png\n",
      "-rw-r--r-- 1 igor igor 22263  3. Mai 17:47 expression_cpp.excalidraw.png\n",
      "-rw-r--r-- 1 igor igor 15359  3. Mai 17:48 expression.excalidraw.png\n",
      "-rw-r--r-- 1 igor igor 15990 28. Apr 12:51 funct.excalidraw.png\n",
      "-rw-r--r-- 1 igor igor 88981  3. Mai 17:48 gitsnapshots.excalidraw.png\n",
      "-rw-r--r-- 1 igor igor 44084 28. Apr 12:10 pend2.png\n",
      "-rw-r--r-- 1 igor igor 50463 26. Apr 18:25 pend.data.png\n",
      "-rw-r--r-- 1 igor igor 34042 26. Apr 16:54 pendulum.excalidraw.png\n"
     ]
    },
    {
     "name": "stdout",
     "output_type": "stream",
     "text": [
      "-rw-r--r-- 1 igor igor 85113  4. Mai 00:00 deltas3.excalidraw.png\n"
     ]
    },
    {
     "name": "stdout",
     "output_type": "stream",
     "text": [
      "-rw-r--r-- 1 igor igor 22263  3. Mai 17:47 expression_cpp.excalidraw.png\n"
     ]
    },
    {
     "name": "stdout",
     "output_type": "stream",
     "text": [
      "-rw-r--r-- 1 igor igor 15359  3. Mai 17:48 expression.excalidraw.png\n"
     ]
    },
    {
     "name": "stdout",
     "output_type": "stream",
     "text": [
      "-rw-r--r-- 1 igor igor 15990 28. Apr 12:51 funct.excalidraw.png\n"
     ]
    },
    {
     "name": "stdout",
     "output_type": "stream",
     "text": [
      "-rw-r--r-- 1 igor igor 88981  3. Mai 17:48 gitsnapshots.excalidraw.png\n"
     ]
    },
    {
     "name": "stdout",
     "output_type": "stream",
     "text": [
      "-rw-r--r-- 1 igor igor 44084 28. Apr 12:10 pend2.png\n"
     ]
    },
    {
     "name": "stdout",
     "output_type": "stream",
     "text": [
      "-rw-r--r-- 1 igor igor 50463 26. Apr 18:25 pend.data.png\n"
     ]
    },
    {
     "name": "stdout",
     "output_type": "stream",
     "text": [
      "-rw-r--r-- 1 igor igor 34042 26. Apr 16:54 pendulum.excalidraw.png\n"
     ]
    }
   ],
   "source": [
    "ls -l"
   ]
  },
  {
   "cell_type": "code",
   "execution_count": 11,
   "metadata": {
    "tags": [
     "scroll-output"
    ],
    "vscode": {
     "languageId": "shellscript"
    }
   },
   "outputs": [
    {
     "name": "stdout",
     "output_type": "stream",
     "text": [
      " 01.html\n",
      " 2022-09-25.pdf\n",
      " 2022-09-26.md\n",
      " 2022-09-26.pdf\n",
      " 220817_0001E7094BA6933C1EED87C1DC4BB8978778.pdf\n",
      " 220902_ZTBM005056A262E41EDD8ADB804F91C5DD3E.pdf\n",
      " article-spotter-software-description.pdf\n",
      " \u001b[0m\u001b[01;34mbobo-yt\u001b[0m\n",
      " \u001b[01;32mbookmarks_6_18_22.html\u001b[0m\n",
      " \u001b[01;34mBooks\u001b[0m\n",
      " \u001b[01;34mhamster-exports\u001b[0m\n",
      " \u001b[01;34mhaskell-trial\u001b[0m\n",
      " \u001b[01;34mhello_files\u001b[0m\n",
      " hello.html\n",
      " hello.pdf\n",
      " hello.qmd\n",
      " \u001b[01;34mIDB\u001b[0m\n",
      " igor.diary\n",
      " igor.diary.~previousversion~\n",
      " IgorDimitrov_G429055818_Sepa_lastschriftMandat.pdf\n",
      " index.html\n",
      " \u001b[01;34mjupbookexamples\u001b[0m\n",
      " \u001b[01;34mjupyter-notebooks\u001b[0m\n",
      " \u001b[01;34mlearning\u001b[0m\n",
      " \u001b[01;34mlearning_bash\u001b[0m\n",
      " \u001b[01;34mlearning-haskell\u001b[0m\n",
      " \u001b[01;34mlearning_prog\u001b[0m\n",
      " \u001b[01;34mlearning_sage\u001b[0m\n",
      " \u001b[01;34mlearn_prog_cpp\u001b[0m\n",
      " MasonicInfluenceOnBrainTransformation.doc\n",
      " Mathematics.md\n",
      " \u001b[01;34mMATLAB\u001b[0m\n",
      " \u001b[01;34mmindforger-repository\u001b[0m\n",
      " ML,-AI---Data-Sci-Learning-Resources.html\n",
      "'ML, AI & Data Sci Learning Resources.md'\n",
      " \u001b[01;34mnewdir\u001b[0m\n",
      "'New Document.rnote'\n",
      "\u001b[01;34m'Notable - Export (5950)'\u001b[0m\n",
      "\u001b[01;34m'Notable - Export (DB2C)'\u001b[0m\n",
      "\u001b[01;34m'Notable - Export (E58D)'\u001b[0m\n",
      " \u001b[01;34mnotes\u001b[0m\n",
      " \u001b[01;34mNotes\u001b[0m\n",
      " number-systems.pdf\n",
      " \u001b[01;34mobsidian-home\u001b[0m\n",
      " \u001b[01;34mpascal-programs\u001b[0m\n",
      " Personal_Home.pdf\n",
      " pockettube_subscriptions_list_2022-09-29-16_18.csv\n",
      " \u001b[01;34mportfolio\u001b[0m\n",
      "'pyrex-auflaufform-2er-set-mit-deckel (1).jpg'\n",
      " \u001b[01;34mquantecon-mini-example\u001b[0m\n",
      " \u001b[01;34mquarto-trial\u001b[0m\n",
      " \u001b[01;34mquick\u001b[0m\n",
      " \u001b[01;34mrnote\u001b[0m\n",
      " Rplots.pdf\n",
      " sample.yaml\n",
      " \u001b[01;34mSimpleDiary\u001b[0m\n",
      " \u001b[01;34msome_folder\u001b[0m\n",
      " \u001b[01;34msome_programs\u001b[0m\n",
      " some.tex\n",
      " sqltrial02.pdf\n",
      " sqltrial.pdf\n",
      " \u001b[01;34mstarting-vscode\u001b[0m\n",
      " Systematic_Programming_an_Introduction.bibtex\n",
      " \u001b[01;34mTheNoteBook\u001b[0m\n",
      " The_UNIX_System.bibtex\n",
      " \u001b[01;34mTmForever\u001b[0m\n",
      " trial.html\n",
      " trial.md\n",
      " \u001b[01;34muni\u001b[0m\n",
      "\u001b[01;34m'Untitled Folder'\u001b[0m\n",
      "\u001b[01;34m'Wolfram Mathematica'\u001b[0m\n",
      "\u001b[01;34m'Zettlr Tutorial'\u001b[0m\n"
     ]
    },
    {
     "name": "stdout",
     "output_type": "stream",
     "text": [
      " 2022-09-25.pdf\n"
     ]
    },
    {
     "name": "stdout",
     "output_type": "stream",
     "text": [
      " 2022-09-26.md\n"
     ]
    },
    {
     "name": "stdout",
     "output_type": "stream",
     "text": [
      " 2022-09-26.pdf\n"
     ]
    },
    {
     "name": "stdout",
     "output_type": "stream",
     "text": [
      " 220817_0001E7094BA6933C1EED87C1DC4BB8978778.pdf\n"
     ]
    },
    {
     "name": "stdout",
     "output_type": "stream",
     "text": [
      " 220902_ZTBM005056A262E41EDD8ADB804F91C5DD3E.pdf\n"
     ]
    },
    {
     "name": "stdout",
     "output_type": "stream",
     "text": [
      " article-spotter-software-description.pdf\n"
     ]
    },
    {
     "name": "stdout",
     "output_type": "stream",
     "text": [
      " \u001b[0m\u001b[01;34mbobo-yt\u001b[0m\n"
     ]
    },
    {
     "name": "stdout",
     "output_type": "stream",
     "text": [
      " \u001b[01;32mbookmarks_6_18_22.html\u001b[0m\n"
     ]
    },
    {
     "name": "stdout",
     "output_type": "stream",
     "text": [
      " \u001b[01;34mBooks\u001b[0m\n"
     ]
    },
    {
     "name": "stdout",
     "output_type": "stream",
     "text": [
      " \u001b[01;34mhamster-exports\u001b[0m\n"
     ]
    },
    {
     "name": "stdout",
     "output_type": "stream",
     "text": [
      " \u001b[01;34mhaskell-trial\u001b[0m\n"
     ]
    },
    {
     "name": "stdout",
     "output_type": "stream",
     "text": [
      " \u001b[01;34mhello_files\u001b[0m\n"
     ]
    },
    {
     "name": "stdout",
     "output_type": "stream",
     "text": [
      " hello.html\n"
     ]
    },
    {
     "name": "stdout",
     "output_type": "stream",
     "text": [
      " hello.pdf\n"
     ]
    },
    {
     "name": "stdout",
     "output_type": "stream",
     "text": [
      " hello.qmd\n"
     ]
    },
    {
     "name": "stdout",
     "output_type": "stream",
     "text": [
      " \u001b[01;34mIDB\u001b[0m\n"
     ]
    },
    {
     "name": "stdout",
     "output_type": "stream",
     "text": [
      " igor.diary\n"
     ]
    },
    {
     "name": "stdout",
     "output_type": "stream",
     "text": [
      " igor.diary.~previousversion~\n"
     ]
    },
    {
     "name": "stdout",
     "output_type": "stream",
     "text": [
      " IgorDimitrov_G429055818_Sepa_lastschriftMandat.pdf\n"
     ]
    },
    {
     "name": "stdout",
     "output_type": "stream",
     "text": [
      " index.html\n"
     ]
    },
    {
     "name": "stdout",
     "output_type": "stream",
     "text": [
      " \u001b[01;34mjupbookexamples\u001b[0m\n"
     ]
    },
    {
     "name": "stdout",
     "output_type": "stream",
     "text": [
      " \u001b[01;34mjupyter-notebooks\u001b[0m\n"
     ]
    },
    {
     "name": "stdout",
     "output_type": "stream",
     "text": [
      " \u001b[01;34mlearning\u001b[0m\n"
     ]
    },
    {
     "name": "stdout",
     "output_type": "stream",
     "text": [
      " \u001b[01;34mlearning_bash\u001b[0m\n"
     ]
    },
    {
     "name": "stdout",
     "output_type": "stream",
     "text": [
      " \u001b[01;34mlearning-haskell\u001b[0m\n"
     ]
    },
    {
     "name": "stdout",
     "output_type": "stream",
     "text": [
      " \u001b[01;34mlearning_prog\u001b[0m\n"
     ]
    },
    {
     "name": "stdout",
     "output_type": "stream",
     "text": [
      " \u001b[01;34mlearning_sage\u001b[0m\n"
     ]
    },
    {
     "name": "stdout",
     "output_type": "stream",
     "text": [
      " \u001b[01;34mlearn_prog_cpp\u001b[0m\n"
     ]
    },
    {
     "name": "stdout",
     "output_type": "stream",
     "text": [
      " MasonicInfluenceOnBrainTransformation.doc\n"
     ]
    },
    {
     "name": "stdout",
     "output_type": "stream",
     "text": [
      " Mathematics.md\n"
     ]
    },
    {
     "name": "stdout",
     "output_type": "stream",
     "text": [
      " \u001b[01;34mMATLAB\u001b[0m\n"
     ]
    },
    {
     "name": "stdout",
     "output_type": "stream",
     "text": [
      " \u001b[01;34mmindforger-repository\u001b[0m\n"
     ]
    },
    {
     "name": "stdout",
     "output_type": "stream",
     "text": [
      " ML,-AI---Data-Sci-Learning-Resources.html\n"
     ]
    },
    {
     "name": "stdout",
     "output_type": "stream",
     "text": [
      "'ML, AI & Data Sci Learning Resources.md'\n"
     ]
    },
    {
     "name": "stdout",
     "output_type": "stream",
     "text": [
      " \u001b[01;34mnewdir\u001b[0m\n"
     ]
    },
    {
     "name": "stdout",
     "output_type": "stream",
     "text": [
      "'New Document.rnote'\n"
     ]
    },
    {
     "name": "stdout",
     "output_type": "stream",
     "text": [
      "\u001b[01;34m'Notable - Export (5950)'\u001b[0m\n"
     ]
    },
    {
     "name": "stdout",
     "output_type": "stream",
     "text": [
      "\u001b[01;34m'Notable - Export (DB2C)'\u001b[0m\n"
     ]
    },
    {
     "name": "stdout",
     "output_type": "stream",
     "text": [
      "\u001b[01;34m'Notable - Export (E58D)'\u001b[0m\n"
     ]
    },
    {
     "name": "stdout",
     "output_type": "stream",
     "text": [
      " \u001b[01;34mnotes\u001b[0m\n"
     ]
    },
    {
     "name": "stdout",
     "output_type": "stream",
     "text": [
      " \u001b[01;34mNotes\u001b[0m\n"
     ]
    },
    {
     "name": "stdout",
     "output_type": "stream",
     "text": [
      " number-systems.pdf\n"
     ]
    },
    {
     "name": "stdout",
     "output_type": "stream",
     "text": [
      " \u001b[01;34mobsidian-home\u001b[0m\n"
     ]
    },
    {
     "name": "stdout",
     "output_type": "stream",
     "text": [
      " \u001b[01;34mpascal-programs\u001b[0m\n"
     ]
    },
    {
     "name": "stdout",
     "output_type": "stream",
     "text": [
      " Personal_Home.pdf\n"
     ]
    },
    {
     "name": "stdout",
     "output_type": "stream",
     "text": [
      " pockettube_subscriptions_list_2022-09-29-16_18.csv\n"
     ]
    },
    {
     "name": "stdout",
     "output_type": "stream",
     "text": [
      " \u001b[01;34mportfolio\u001b[0m\n"
     ]
    },
    {
     "name": "stdout",
     "output_type": "stream",
     "text": [
      "'pyrex-auflaufform-2er-set-mit-deckel (1).jpg'\n"
     ]
    },
    {
     "name": "stdout",
     "output_type": "stream",
     "text": [
      " \u001b[01;34mquantecon-mini-example\u001b[0m\n"
     ]
    },
    {
     "name": "stdout",
     "output_type": "stream",
     "text": [
      " \u001b[01;34mquarto-trial\u001b[0m\n"
     ]
    },
    {
     "name": "stdout",
     "output_type": "stream",
     "text": [
      " \u001b[01;34mquick\u001b[0m\n"
     ]
    },
    {
     "name": "stdout",
     "output_type": "stream",
     "text": [
      " \u001b[01;34mrnote\u001b[0m\n"
     ]
    },
    {
     "name": "stdout",
     "output_type": "stream",
     "text": [
      " Rplots.pdf\n"
     ]
    },
    {
     "name": "stdout",
     "output_type": "stream",
     "text": [
      " sample.yaml\n"
     ]
    },
    {
     "name": "stdout",
     "output_type": "stream",
     "text": [
      " \u001b[01;34mSimpleDiary\u001b[0m\n"
     ]
    },
    {
     "name": "stdout",
     "output_type": "stream",
     "text": [
      " \u001b[01;34msome_folder\u001b[0m\n"
     ]
    },
    {
     "name": "stdout",
     "output_type": "stream",
     "text": [
      " \u001b[01;34msome_programs\u001b[0m\n"
     ]
    },
    {
     "name": "stdout",
     "output_type": "stream",
     "text": [
      " some.tex\n"
     ]
    },
    {
     "name": "stdout",
     "output_type": "stream",
     "text": [
      " sqltrial02.pdf\n"
     ]
    },
    {
     "name": "stdout",
     "output_type": "stream",
     "text": [
      " sqltrial.pdf\n"
     ]
    },
    {
     "name": "stdout",
     "output_type": "stream",
     "text": [
      " \u001b[01;34mstarting-vscode\u001b[0m\n"
     ]
    },
    {
     "name": "stdout",
     "output_type": "stream",
     "text": [
      " Systematic_Programming_an_Introduction.bibtex\n"
     ]
    },
    {
     "name": "stdout",
     "output_type": "stream",
     "text": [
      " \u001b[01;34mTheNoteBook\u001b[0m\n"
     ]
    },
    {
     "name": "stdout",
     "output_type": "stream",
     "text": [
      " The_UNIX_System.bibtex\n"
     ]
    },
    {
     "name": "stdout",
     "output_type": "stream",
     "text": [
      " \u001b[01;34mTmForever\u001b[0m\n"
     ]
    },
    {
     "name": "stdout",
     "output_type": "stream",
     "text": [
      " trial.html\n"
     ]
    },
    {
     "name": "stdout",
     "output_type": "stream",
     "text": [
      " trial.md\n"
     ]
    },
    {
     "name": "stdout",
     "output_type": "stream",
     "text": [
      " \u001b[01;34muni\u001b[0m\n"
     ]
    },
    {
     "name": "stdout",
     "output_type": "stream",
     "text": [
      "\u001b[01;34m'Untitled Folder'\u001b[0m\n"
     ]
    },
    {
     "name": "stdout",
     "output_type": "stream",
     "text": [
      "\u001b[01;34m'Wolfram Mathematica'\u001b[0m\n"
     ]
    },
    {
     "name": "stdout",
     "output_type": "stream",
     "text": [
      "\u001b[01;34m'Zettlr Tutorial'\u001b[0m\n"
     ]
    }
   ],
   "source": [
    "ls ~/Documents"
   ]
  },
  {
   "cell_type": "code",
   "execution_count": 12,
   "metadata": {
    "vscode": {
     "languageId": "shellscript"
    }
   },
   "outputs": [
    {
     "name": "stdout",
     "output_type": "stream",
     "text": [
      "/home/igor/Documents/uni/ss23/nummethSS23/docs/text/progtut/testdir\n"
     ]
    }
   ],
   "source": [
    "cd /home/igor/Documents/uni/ss23/nummethSS23/docs/text/progtut/testdir\n",
    "pwd"
   ]
  },
  {
   "attachments": {},
   "cell_type": "markdown",
   "metadata": {},
   "source": [
    "`cp` to copy files"
   ]
  },
  {
   "cell_type": "code",
   "execution_count": 13,
   "metadata": {
    "vscode": {
     "languageId": "shellscript"
    }
   },
   "outputs": [
    {
     "name": "stdout",
     "output_type": "stream",
     "text": [
      "A  B  C  file.txt\n",
      "hey\n",
      "hey\n"
     ]
    },
    {
     "name": "stdout",
     "output_type": "stream",
     "text": [
      "hey\n"
     ]
    },
    {
     "name": "stdout",
     "output_type": "stream",
     "text": [
      "hey\n"
     ]
    }
   ],
   "source": [
    "echo hey >file.txt\n",
    "ls\n",
    "cp file.txt copy.txt\n",
    "cat file.txt copy.txt"
   ]
  },
  {
   "attachments": {},
   "cell_type": "markdown",
   "metadata": {},
   "source": [
    "`mkdir` creates directories"
   ]
  },
  {
   "cell_type": "code",
   "execution_count": 14,
   "metadata": {
    "vscode": {
     "languageId": "shellscript"
    }
   },
   "outputs": [
    {
     "name": "stdout",
     "output_type": "stream",
     "text": [
      "copy.txt\n"
     ]
    }
   ],
   "source": [
    "mkdir subdir\n",
    "mv copy.txt subdir\n",
    "ls subdir"
   ]
  },
  {
   "attachments": {},
   "cell_type": "markdown",
   "metadata": {},
   "source": [
    "`rm -r` remove directory and all of its contents with the **recursive** option `-r`:"
   ]
  },
  {
   "cell_type": "code",
   "execution_count": 15,
   "metadata": {
    "vscode": {
     "languageId": "shellscript"
    }
   },
   "outputs": [],
   "source": [
    "rm -r subdir"
   ]
  },
  {
   "cell_type": "code",
   "execution_count": 16,
   "metadata": {
    "vscode": {
     "languageId": "shellscript"
    }
   },
   "outputs": [
    {
     "name": "stdout",
     "output_type": "stream",
     "text": [
      "A  B  C  file.txt\n"
     ]
    }
   ],
   "source": [
    "ls"
   ]
  },
  {
   "attachments": {},
   "cell_type": "markdown",
   "metadata": {},
   "source": [
    "**search** files for a pattern with `grep`"
   ]
  },
  {
   "cell_type": "code",
   "execution_count": 17,
   "metadata": {
    "vscode": {
     "languageId": "shellscript"
    }
   },
   "outputs": [
    {
     "name": "stdout",
     "output_type": "stream",
     "text": [
      "\u001b[01;31m\u001b[Khey\u001b[m\u001b[K\n"
     ]
    }
   ],
   "source": [
    "grep hey file.txt"
   ]
  },
  {
   "cell_type": "code",
   "execution_count": null,
   "metadata": {
    "vscode": {
     "languageId": "shellscript"
    }
   },
   "outputs": [],
   "source": []
  }
 ],
 "metadata": {
  "kernelspec": {
   "display_name": "Bash",
   "language": "bash",
   "name": "bash"
  },
  "language_info": {
   "codemirror_mode": "shell",
   "file_extension": ".sh",
   "mimetype": "text/x-sh",
   "name": "bash"
  }
 },
 "nbformat": 4,
 "nbformat_minor": 2
}