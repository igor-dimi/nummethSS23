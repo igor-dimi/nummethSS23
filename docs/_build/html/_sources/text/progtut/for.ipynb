{
 "cells": [
  {
   "attachments": {},
   "cell_type": "markdown",
   "metadata": {},
   "source": [
    "\n",
    "(my-label)=\n",
    "# For Loops\n",
    "\n",
    "Another way to achieve repetition. \n",
    "Syntax:\n",
    "\n",
    "```cpp\n",
    "for(start; condition; increment){\n",
    "    command;\n",
    "}\n",
    "```\n",
    "\n",
    "in C `while` and `for` are equivalent. \n",
    "\n",
    "Example;"
   ]
  },
  {
   "cell_type": "code",
   "execution_count": 6,
   "metadata": {
    "vscode": {
     "languageId": "cpp"
    }
   },
   "outputs": [
    {
     "name": "stdout",
     "output_type": "stream",
     "text": [
      "0 1 2 3 4 "
     ]
    }
   ],
   "source": [
    "#include <iostream>\n",
    "\n",
    "for (int i = 0; i < 5; i++) std::cout << i << \" \";"
   ]
  },
  {
   "attachments": {},
   "cell_type": "markdown",
   "metadata": {},
   "source": [
    "The [pendulum example](pendulum-example) from the previous section can be rewritten with a **for** loop:"
   ]
  },
  {
   "cell_type": "code",
   "execution_count": 4,
   "metadata": {
    "tags": [
     "hide-output"
    ],
    "vscode": {
     "languageId": "cpp"
    }
   },
   "outputs": [
    {
     "name": "stdout",
     "output_type": "stream",
     "text": [
      "0 0.2\n",
      "0.05 0.198173\n",
      "0.1 0.192724\n",
      "0.15 0.183753\n",
      "0.2 0.171424\n",
      "0.25 0.155963\n",
      "0.3 0.137651\n",
      "0.35 0.116824\n",
      "0.4 0.0938622\n",
      "0.45 0.069185\n",
      "0.5 0.0432435\n",
      "0.55 0.0165118\n",
      "0.6 -0.0105217\n",
      "0.65 -0.0373629\n",
      "0.7 -0.0635213\n",
      "0.75 -0.0885189\n",
      "0.8 -0.111899\n",
      "0.85 -0.133234\n",
      "0.9 -0.152134\n",
      "0.95 -0.168255\n"
     ]
    }
   ],
   "source": [
    "#include <cmath>\n",
    "\n",
    "double l(1.34);\n",
    "double phi0(0.2);\n",
    "double dt(0.05);\n",
    "double T(1.0);\n",
    "\n",
    "for (double t = 0.0; t <= T; t+=dt)\n",
    "    std::cout << t << \" \" << phi0 * cos(sqrt(9.81/l) * t)\n",
    "                          << std::endl;\n"
   ]
  }
 ],
 "metadata": {
  "kernelspec": {
   "display_name": "C++17",
   "language": "C++17",
   "name": "xcpp17"
  },
  "language_info": {
   "codemirror_mode": "text/x-c++src",
   "file_extension": ".cpp",
   "mimetype": "text/x-c++src",
   "name": "C++17",
   "version": "17"
  },
  "orig_nbformat": 4
 },
 "nbformat": 4,
 "nbformat_minor": 2
}
