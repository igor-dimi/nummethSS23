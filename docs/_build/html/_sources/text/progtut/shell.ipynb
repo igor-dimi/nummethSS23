{
 "cells": [
  {
   "attachments": {},
   "cell_type": "markdown",
   "metadata": {},
   "source": [
    "# Shell\n",
    "\n",
    "\n",
    "\n",
    "## Commands\n",
    "\n",
    "### General command syntax:\n",
    "\n",
    "```bash\n",
    "$ cmd -sv --opt1 --opt2 arg1 arg2 \n",
    "```\n",
    "The behaviour of a command can be changed by providing it **options**.\n",
    "Options are provided either beginning with a dash `-` or double dash `--`. Single-dash is followed by short options names consisting of a single letter. Short options can be combined by directly combining the letters: `-sv` above stands for `-s` and `-v`. \n",
    "\n",
    "### Some basic commands:\n",
    "\n",
    "`pwd` outputs the full path of the current working directory: "
   ]
  },
  {
   "cell_type": "code",
   "execution_count": 9,
   "metadata": {
    "vscode": {
     "languageId": "shellscript"
    }
   },
   "outputs": [
    {
     "name": "stdout",
     "output_type": "stream",
     "text": [
      "/home/igor/Documents/uni/ss23/nummethSS23/docs/imgs\n"
     ]
    }
   ],
   "source": [
    "pwd"
   ]
  },
  {
   "attachments": {},
   "cell_type": "markdown",
   "metadata": {},
   "source": [
    "`exit` closes the current shell"
   ]
  },
  {
   "attachments": {},
   "cell_type": "markdown",
   "metadata": {},
   "source": [
    "`echo` prints out its argumetns to standard ouput:"
   ]
  },
  {
   "cell_type": "code",
   "execution_count": 10,
   "metadata": {
    "vscode": {
     "languageId": "shellscript"
    }
   },
   "outputs": [
    {
     "name": "stdout",
     "output_type": "stream",
     "text": [
      "hey there\n"
     ]
    }
   ],
   "source": [
    "echo hey there"
   ]
  },
  {
   "attachments": {},
   "cell_type": "markdown",
   "metadata": {},
   "source": [
    "If a command is used wrongly, it usually prints a short message help message to the standard output:"
   ]
  },
  {
   "cell_type": "code",
   "execution_count": 11,
   "metadata": {
    "vscode": {
     "languageId": "shellscript"
    }
   },
   "outputs": [],
   "source": [
    "# rm"
   ]
  },
  {
   "attachments": {},
   "cell_type": "markdown",
   "metadata": {},
   "source": [
    "The option `--help` usually prints a succint help message to the standart output"
   ]
  },
  {
   "cell_type": "code",
   "execution_count": 12,
   "metadata": {
    "tags": [
     "hide-output"
    ],
    "vscode": {
     "languageId": "shellscript"
    }
   },
   "outputs": [
    {
     "name": "stdout",
     "output_type": "stream",
     "text": [
      "Usage: rm [OPTION]... [FILE]...\n",
      "Remove (unlink) the FILE(s).\n",
      "\n",
      "  -f, --force           ignore nonexistent files and arguments, never prompt\n",
      "  -i                    prompt before every removal\n",
      "  -I                    prompt once before removing more than three files, or\n",
      "                          when removing recursively; less intrusive than -i,\n",
      "                          while still giving protection against most mistakes\n",
      "      --interactive[=WHEN]  prompt according to WHEN: never, once (-I), or\n",
      "                          always (-i); without WHEN, prompt always\n",
      "      --one-file-system  when removing a hierarchy recursively, skip any\n",
      "                          directory that is on a file system different from\n",
      "                          that of the corresponding command line argument\n",
      "      --no-preserve-root  do not treat '/' specially\n",
      "      --preserve-root[=all]  do not remove '/' (default);\n",
      "                              with 'all', reject any command line argument\n",
      "                              on a separate device from its parent\n",
      "  -r, -R, --recursive   remove directories and their contents recursively\n",
      "  -d, --dir             remove empty directories\n",
      "  -v, --verbose         explain what is being done\n",
      "      --help        display this help and exit\n",
      "      --version     output version information and exit\n",
      "\n",
      "By default, rm does not remove directories.  Use the --recursive (-r or -R)\n",
      "option to remove each listed directory, too, along with all of its contents.\n",
      "\n",
      "To remove a file whose name starts with a '-', for example '-foo',\n",
      "use one of these commands:\n",
      "  rm -- -foo\n",
      "\n",
      "  rm ./-foo\n",
      "\n",
      "Note that if you use rm to remove a file, it might be possible to recover\n",
      "some of its contents, given sufficient expertise and/or time.  For greater\n",
      "assurance that the contents are truly unrecoverable, consider using shred(1).\n",
      "\n",
      "GNU coreutils online help: <https://www.gnu.org/software/coreutils/>\n",
      "Full documentation <https://www.gnu.org/software/coreutils/rm>\n",
      "or available locally via: info '(coreutils) rm invocation'\n"
     ]
    }
   ],
   "source": [
    "rm --help"
   ]
  },
  {
   "attachments": {},
   "cell_type": "markdown",
   "metadata": {},
   "source": [
    "More comprehensive help can be optained with the `man` command, that opens the manual entry of a command within the **man pages**"
   ]
  },
  {
   "cell_type": "code",
   "execution_count": 13,
   "metadata": {
    "tags": [
     "hide-output"
    ],
    "vscode": {
     "languageId": "shellscript"
    }
   },
   "outputs": [
    {
     "name": "stdout",
     "output_type": "stream",
     "text": [
      "RM(1)                            User Commands                           RM(1)\n",
      "\n",
      "NAME\n",
      "       rm - remove files or directories\n",
      "\n",
      "SYNOPSIS\n",
      "       rm [OPTION]... [FILE]...\n",
      "\n",
      "DESCRIPTION\n",
      "       This  manual  page  documents  the  GNU version of rm.  rm removes each\n",
      "       specified file.  By default, it does not remove directories.\n",
      "\n",
      "       If the -I or --interactive=once option is given,  and  there  are  more\n",
      "       than  three  files  or  the  -r,  -R, or --recursive are given, then rm\n",
      "       prompts the user for whether to proceed with the entire operation.   If\n",
      "       the response is not affirmative, the entire command is aborted.\n",
      "\n",
      "       Otherwise,  if  a file is unwritable, standard input is a terminal, and\n",
      "       the -f or --force option is not given, or the -i  or  --interactive=al‐\n",
      "       ways  option  is  given,  rm prompts the user for whether to remove the\n",
      "       file.  If the response is not affirmative, the file is skipped.\n",
      "\n",
      "OPTIONS\n",
      "       Remove (unlink) the FILE(s).\n",
      "\n",
      "       -f, --force\n",
      "              ignore nonexistent files and arguments, never prompt\n",
      "\n",
      "       -i     prompt before every removal\n",
      "\n",
      "       -I     prompt once before removing more than three files, or  when  re‐\n",
      "              moving  recursively;  less intrusive than -i, while still giving\n",
      "              protection against most mistakes\n",
      "\n",
      "       --interactive[=WHEN]\n",
      "              prompt according to WHEN: never,  once  (-I),  or  always  (-i);\n",
      "              without WHEN, prompt always\n",
      "\n",
      "       --one-file-system\n",
      "              when  removing  a hierarchy recursively, skip any directory that\n",
      "              is on a file system different from  that  of  the  corresponding\n",
      "              command line argument\n",
      "\n",
      "       --no-preserve-root\n",
      "              do not treat '/' specially\n",
      "\n",
      "       --preserve-root[=all]\n",
      "              do not remove '/' (default); with 'all', reject any command line\n",
      "              argument on a separate device from its parent\n",
      "\n",
      "       -r, -R, --recursive\n",
      "              remove directories and their contents recursively\n",
      "\n",
      "       -d, --dir\n",
      "              remove empty directories\n",
      "\n",
      "       -v, --verbose\n",
      "              explain what is being done\n",
      "\n",
      "       --help display this help and exit\n",
      "\n",
      "       --version\n",
      "              output version information and exit\n",
      "\n",
      "       By default, rm does not remove directories.  Use the --recursive (-r or\n",
      "       -R)  option to remove each listed directory, too, along with all of its\n",
      "       contents.\n",
      "\n",
      "       To remove a file whose name starts with a '-', for example '-foo',  use\n",
      "       one of these commands:\n",
      "\n",
      "              rm -- -foo\n",
      "\n",
      "              rm ./-foo\n",
      "\n",
      "       Note  that  if you use rm to remove a file, it might be possible to re‐\n",
      "       cover some of its contents, given  sufficient  expertise  and/or  time.\n",
      "       For  greater  assurance that the contents are truly unrecoverable, con‐\n",
      "       sider using shred(1).\n",
      "\n",
      "AUTHOR\n",
      "       Written by Paul Rubin, David MacKenzie, Richard M.  Stallman,  and  Jim\n",
      "       Meyering.\n",
      "\n",
      "REPORTING BUGS\n",
      "       GNU coreutils online help: <https://www.gnu.org/software/coreutils/>\n",
      "       Report any translation bugs to <https://translationproject.org/team/>\n",
      "\n",
      "COPYRIGHT\n",
      "       Copyright  ©  2023  Free Software Foundation, Inc.  License GPLv3+: GNU\n",
      "       GPL version 3 or later <https://gnu.org/licenses/gpl.html>.\n",
      "       This is free software: you are free  to  change  and  redistribute  it.\n",
      "       There is NO WARRANTY, to the extent permitted by law.\n",
      "\n",
      "SEE ALSO\n",
      "       unlink(1), unlink(2), chattr(1), shred(1)\n",
      "\n",
      "       Full documentation <https://www.gnu.org/software/coreutils/rm>\n",
      "       or available locally via: info '(coreutils) rm invocation'\n",
      "\n",
      "GNU coreutils 9.2                 April 2023                             RM(1)\n"
     ]
    }
   ],
   "source": [
    "man rm"
   ]
  },
  {
   "attachments": {},
   "cell_type": "markdown",
   "metadata": {},
   "source": [
    "`cd` to change directories:"
   ]
  },
  {
   "cell_type": "code",
   "execution_count": 14,
   "metadata": {
    "vscode": {
     "languageId": "shellscript"
    }
   },
   "outputs": [
    {
     "name": "stdout",
     "output_type": "stream",
     "text": [
      "bash: cd: ../../imgs: No such file or directory\n"
     ]
    },
    {
     "ename": "",
     "evalue": "1",
     "output_type": "error",
     "traceback": []
    }
   ],
   "source": [
    "cd ../../imgs"
   ]
  },
  {
   "cell_type": "code",
   "execution_count": null,
   "metadata": {
    "vscode": {
     "languageId": "shellscript"
    }
   },
   "outputs": [
    {
     "name": "stdout",
     "output_type": "stream",
     "text": [
      "/home/igor/Documents/uni/ss23/nummethSS23/docs/imgs\n"
     ]
    }
   ],
   "source": [
    "pwd"
   ]
  },
  {
   "attachments": {},
   "cell_type": "markdown",
   "metadata": {},
   "source": [
    "* `..` stands for directory one level above\n",
    "* `-` previous directory\n",
    "* `.` this directory"
   ]
  },
  {
   "cell_type": "code",
   "execution_count": null,
   "metadata": {
    "vscode": {
     "languageId": "shellscript"
    }
   },
   "outputs": [
    {
     "name": "stdout",
     "output_type": "stream",
     "text": [
      "/home/igor/Documents/uni/ss23/nummethSS23/docs/imgs\n",
      "/home/igor/Documents/uni/ss23/nummethSS23/docs\n",
      "/home/igor/Documents/uni/ss23/nummethSS23/docs/imgs\n",
      "/home/igor/Documents/uni/ss23/nummethSS23/docs/imgs\n",
      "/home/igor/Documents/uni/ss23/nummethSS23/docs/imgs\n"
     ]
    }
   ],
   "source": [
    "pwd\n",
    "cd ..\n",
    "pwd\n",
    "cd -\n",
    "pwd\n",
    "cd .\n",
    "pwd"
   ]
  },
  {
   "attachments": {},
   "cell_type": "markdown",
   "metadata": {},
   "source": [
    "* `ls` to list files in the directory.\n",
    "* show files beginning with `.` with `ls -l`\n",
    "* `ls` accepts a path as argument\n",
    "* `ls -l` shows additional infomration. `-l` stands for **long**.  "
   ]
  },
  {
   "cell_type": "code",
   "execution_count": 21,
   "metadata": {
    "vscode": {
     "languageId": "shellscript"
    }
   },
   "outputs": [
    {
     "name": "stdout",
     "output_type": "stream",
     "text": [
      "expression_cpp.excalidraw.png  funct.excalidraw.png  pend.data.png\n",
      "expression.excalidraw.png      pend2.png\t     pendulum.excalidraw.png\n"
     ]
    }
   ],
   "source": [
    "ls"
   ]
  },
  {
   "cell_type": "code",
   "execution_count": 22,
   "metadata": {
    "vscode": {
     "languageId": "shellscript"
    }
   },
   "outputs": [
    {
     "name": "stdout",
     "output_type": "stream",
     "text": [
      "total 188\n",
      "-rw-r--r-- 1 igor igor 22005 29. Apr 14:41 expression_cpp.excalidraw.png\n",
      "-rw-r--r-- 1 igor igor 15416 29. Apr 14:42 expression.excalidraw.png\n",
      "-rw-r--r-- 1 igor igor 15990 28. Apr 12:51 funct.excalidraw.png\n",
      "-rw-r--r-- 1 igor igor 44084 28. Apr 12:10 pend2.png\n",
      "-rw-r--r-- 1 igor igor 50463 26. Apr 18:25 pend.data.png\n",
      "-rw-r--r-- 1 igor igor 34042 26. Apr 16:54 pendulum.excalidraw.png\n"
     ]
    }
   ],
   "source": [
    "ls -l"
   ]
  },
  {
   "cell_type": "code",
   "execution_count": 23,
   "metadata": {
    "tags": [
     "scroll-output"
    ],
    "vscode": {
     "languageId": "shellscript"
    }
   },
   "outputs": [
    {
     "name": "stdout",
     "output_type": "stream",
     "text": [
      " 01.html\n",
      " 2022-09-25.pdf\n",
      " 2022-09-26.md\n",
      " 2022-09-26.pdf\n",
      " 220817_0001E7094BA6933C1EED87C1DC4BB8978778.pdf\n",
      " 220902_ZTBM005056A262E41EDD8ADB804F91C5DD3E.pdf\n",
      " article-spotter-software-description.pdf\n",
      " bobo-yt\n",
      " bookmarks_6_18_22.html\n",
      " Books\n",
      " hamster-exports\n",
      " haskell-trial\n",
      " hello_files\n",
      " hello.html\n",
      " hello.pdf\n",
      " hello.qmd\n",
      " IDB\n",
      " igor.diary\n",
      " igor.diary.~previousversion~\n",
      " IgorDimitrov_G429055818_Sepa_lastschriftMandat.pdf\n",
      " index.html\n",
      " jupbookexamples\n",
      " jupyter-notebooks\n",
      " learning\n",
      " learning_bash\n",
      " learning-haskell\n",
      " learning_prog\n",
      " learning_sage\n",
      " learn_prog_cpp\n",
      " MasonicInfluenceOnBrainTransformation.doc\n",
      " Mathematics.md\n",
      " MATLAB\n",
      " mindforger-repository\n",
      " ML,-AI---Data-Sci-Learning-Resources.html\n",
      "'ML, AI & Data Sci Learning Resources.md'\n",
      " newdir\n",
      "'New Document.rnote'\n",
      "'Notable - Export (5950)'\n",
      "'Notable - Export (DB2C)'\n",
      "'Notable - Export (E58D)'\n",
      " notes\n",
      " Notes\n",
      " number-systems.pdf\n",
      " obsidian-home\n",
      " pascal-programs\n",
      " Personal_Home.pdf\n",
      " pockettube_subscriptions_list_2022-09-29-16_18.csv\n",
      " portfolio\n",
      "'pyrex-auflaufform-2er-set-mit-deckel (1).jpg'\n",
      " quantecon-mini-example\n",
      " quarto-trial\n",
      " quick\n",
      " rnote\n",
      " Rplots.pdf\n",
      " sample.yaml\n",
      " SimpleDiary\n",
      " some_folder\n",
      " some_programs\n",
      " some.tex\n",
      " sqltrial02.pdf\n",
      " sqltrial.pdf\n",
      " starting-vscode\n",
      " Systematic_Programming_an_Introduction.bibtex\n",
      " TheNoteBook\n",
      " The_UNIX_System.bibtex\n",
      " TmForever\n",
      " trial.html\n",
      " trial.md\n",
      " uni\n",
      "'Untitled Folder'\n",
      "'Wolfram Mathematica'\n",
      "'Zettlr Tutorial'\n"
     ]
    }
   ],
   "source": [
    "ls ~/Documents"
   ]
  },
  {
   "cell_type": "code",
   "execution_count": 25,
   "metadata": {
    "vscode": {
     "languageId": "shellscript"
    }
   },
   "outputs": [
    {
     "name": "stdout",
     "output_type": "stream",
     "text": [
      "/home/igor/Documents/uni/ss23/nummethSS23/docs/text/progtut/testdir\n"
     ]
    }
   ],
   "source": [
    "cd /home/igor/Documents/uni/ss23/nummethSS23/docs/text/progtut/testdir\n",
    "pwd"
   ]
  },
  {
   "attachments": {},
   "cell_type": "markdown",
   "metadata": {},
   "source": [
    "`cp` to copy files"
   ]
  },
  {
   "cell_type": "code",
   "execution_count": 26,
   "metadata": {
    "vscode": {
     "languageId": "shellscript"
    }
   },
   "outputs": [
    {
     "name": "stdout",
     "output_type": "stream",
     "text": [
      "file.txt\n",
      "hey\n",
      "hey\n"
     ]
    }
   ],
   "source": [
    "echo hey >file.txt\n",
    "ls\n",
    "cp file.txt copy.txt\n",
    "cat file.txt copy.txt"
   ]
  },
  {
   "attachments": {},
   "cell_type": "markdown",
   "metadata": {},
   "source": [
    "`mkdir` creates directories"
   ]
  },
  {
   "cell_type": "code",
   "execution_count": 29,
   "metadata": {
    "vscode": {
     "languageId": "shellscript"
    }
   },
   "outputs": [
    {
     "name": "stdout",
     "output_type": "stream",
     "text": [
      "mkdir: cannot create directory ‘subdir’: File exists\n",
      "mv: cannot stat 'copy.txt': No such file or directory\n",
      "copy.txt\n"
     ]
    }
   ],
   "source": [
    "mkdir subdir\n",
    "mv copy.txt subdir\n",
    "ls subdir"
   ]
  },
  {
   "attachments": {},
   "cell_type": "markdown",
   "metadata": {},
   "source": [
    "`rm -r` remove directory and all of its contents with the **recursive** option `-r`:"
   ]
  },
  {
   "cell_type": "code",
   "execution_count": 30,
   "metadata": {
    "vscode": {
     "languageId": "shellscript"
    }
   },
   "outputs": [],
   "source": [
    "rm -r subdir"
   ]
  },
  {
   "cell_type": "code",
   "execution_count": 31,
   "metadata": {
    "vscode": {
     "languageId": "shellscript"
    }
   },
   "outputs": [
    {
     "name": "stdout",
     "output_type": "stream",
     "text": [
      "file.txt\n"
     ]
    }
   ],
   "source": [
    "ls"
   ]
  },
  {
   "attachments": {},
   "cell_type": "markdown",
   "metadata": {},
   "source": [
    "**search** files for a pattern with `grep`"
   ]
  },
  {
   "cell_type": "code",
   "execution_count": 35,
   "metadata": {
    "vscode": {
     "languageId": "shellscript"
    }
   },
   "outputs": [
    {
     "name": "stdout",
     "output_type": "stream",
     "text": [
      "hey\n"
     ]
    }
   ],
   "source": [
    "grep hey file.txt"
   ]
  },
  {
   "cell_type": "code",
   "execution_count": null,
   "metadata": {
    "vscode": {
     "languageId": "shellscript"
    }
   },
   "outputs": [],
   "source": []
  }
 ],
 "metadata": {
  "kernelspec": {
   "display_name": "Bash",
   "language": "bash",
   "name": "bash"
  },
  "language_info": {
   "codemirror_mode": "shell",
   "file_extension": ".sh",
   "mimetype": "text/x-sh",
   "name": "bash"
  },
  "orig_nbformat": 4
 },
 "nbformat": 4,
 "nbformat_minor": 2
}
