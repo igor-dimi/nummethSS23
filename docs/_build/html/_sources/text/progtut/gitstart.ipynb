{
 "cells": [
  {
   "attachments": {},
   "cell_type": "markdown",
   "metadata": {},
   "source": [
    "# Getting Started\n",
    "\n",
    "We first discuss some distiguishing aspects of git.\n",
    "\n",
    "## Snapshots vs Deltas\n",
    "\n",
    "Most other version control systems save differences with delats - file based relative changes. \n",
    "Git on the other hand saves complete snaphot of the whole filesystem, but to save space unchnaged files aren't saved again, but rather links to the previous unchanged version.\n",
    "\n",
    "\n",
    "::::{grid}\n",
    ":::{grid-item}\n",
    ":outline:\n",
    "***deltas***\n",
    "![deltas](../../imgs/deltas3.excalidraw.png)\n",
    ":::\n",
    "\n",
    "\n",
    ":::{grid-item}\n",
    ":outline:\n",
    "***complete snapshots***\n",
    "![deltas](../../imgs/gitsnapshots.excalidraw.png)\n",
    ":::\n",
    "::::\n",
    "\n",
    ":::{note}\n",
    "the direction of the arrows can be misleading in the above image. Don't be confused by it - the time progression of the versions is still from left to right. The reason of the direction of the arrows is because they are pointers to **previous** version. \n",
    ":::\n",
    "\n",
    "## Most Operations are Local\n",
    "\n",
    "most operations like \n",
    "\n",
    "* browsing history\n",
    "* viewing changes between versions of files (diffs)\n",
    "* commiting\n",
    "* checking out a branch\n",
    "* ...\n",
    "\n",
    "are all local and therefore very fast.\n",
    "\n",
    "### Checksumming\n",
    "\n",
    "All files stored by git are checksummed. Since this functionality is built-in on lowest level of git, it is usually impossible to lose information. \n",
    "The checksumming mechanism is **SHA-1 hash** - a 40 character string calculated based on files or a directories contents. \n",
    "Entities are stored as checksum strings in git database, not by their file names.\n",
    "Git also generally only adds data, therefore it is usually impossible to lose information, enables free experimenation with the source code. "
   ]
  },
  {
   "attachments": {},
   "cell_type": "markdown",
   "metadata": {},
   "source": [
    "To querry the **state** of the different files in your repository use `git status`"
   ]
  },
  {
   "cell_type": "markdown",
   "metadata": {},
   "source": []
  }
 ],
 "metadata": {
  "kernelspec": {
   "display_name": "Bash",
   "language": "bash",
   "name": "bash"
  },
  "language_info": {
   "codemirror_mode": "shell",
   "file_extension": ".sh",
   "mimetype": "text/x-sh",
   "name": "bash"
  },
  "orig_nbformat": 4
 },
 "nbformat": 4,
 "nbformat_minor": 2
}
