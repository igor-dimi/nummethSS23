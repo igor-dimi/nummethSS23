{
 "cells": [
  {
   "attachments": {},
   "cell_type": "markdown",
   "metadata": {},
   "source": [
    "# Hello World\n",
    "\n",
    "hello world program including the hdnum library.\n",
    "Let's include the headers first:"
   ]
  },
  {
   "cell_type": "code",
   "execution_count": 6,
   "metadata": {
    "vscode": {
     "languageId": "cpp"
    }
   },
   "outputs": [],
   "source": [
    "#include <iostream>\n",
    "#include <vector>\n",
    "#include \"../../../hdnum/hdnum.hh\""
   ]
  },
  {
   "attachments": {},
   "cell_type": "markdown",
   "metadata": {},
   "source": [
    "and print out some messages to standard outpout:"
   ]
  },
  {
   "cell_type": "code",
   "execution_count": 5,
   "metadata": {
    "vscode": {
     "languageId": "cpp"
    }
   },
   "outputs": [
    {
     "name": "stdout",
     "output_type": "stream",
     "text": [
      "hello\n",
      "1 + 1 = 2\n"
     ]
    }
   ],
   "source": [
    "std::cout << \"hello\" << std::endl;\n",
    "std::cout << \"1 + 1 = \" << 1 +  1 << std::endl;"
   ]
  },
  {
   "cell_type": "markdown",
   "metadata": {},
   "source": [
    "Full program text:\n",
    "\n",
    "```cpp\n",
    "#include <iostream>\n",
    "#include <vector>\n",
    "#include \"../../../hdnum/hdnum.hh\"\n",
    "\n",
    "int main()\n",
    "{\n",
    "    std::cout << \"hello\" << std::endl;\n",
    "    std::cout << \"1 + 1\" << 1 + 1 << std;endl;\n",
    "\n",
    "    return 0;\n",
    "}\n",
    "```"
   ]
  }
 ],
 "metadata": {
  "kernelspec": {
   "display_name": "C++17",
   "language": "C++17",
   "name": "xcpp17"
  },
  "language_info": {
   "codemirror_mode": "text/x-c++src",
   "file_extension": ".cpp",
   "mimetype": "text/x-c++src",
   "name": "C++17",
   "version": "17"
  },
  "orig_nbformat": 4
 },
 "nbformat": 4,
 "nbformat_minor": 2
}
