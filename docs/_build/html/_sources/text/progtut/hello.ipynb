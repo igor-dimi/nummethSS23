{
 "cells": [
  {
   "attachments": {},
   "cell_type": "markdown",
   "metadata": {},
   "source": [
    "# Hello World\n",
    "\n",
    "Libraries are included with the `#include` directive.\n",
    "\n",
    "* `<iostream>`: standard library for standard input/output (keyboard and screen)\n",
    "* `<vector>`: container library for dynamic arrays, i.e. arrays whose size changes during run-time. Implemented as amortized arrays (rather than linked lists, contrary to what one would naively assume). \n",
    "* `\"hdnum.hh\"`: header file to include the custom `hdnum` library.\n",
    "\n",
    "\n",
    "```{note}\n",
    "standard libraries are enclosed with angle brackets, progammer-defined header files are enclosed with double quotes\n",
    "```\n",
    "\n"
   ]
  },
  {
   "cell_type": "code",
   "execution_count": 1,
   "metadata": {
    "vscode": {
     "languageId": "cpp"
    }
   },
   "outputs": [],
   "source": [
    "#include <iostream>\n",
    "#include <vector>\n",
    "#include \"../../../hdnum/hdnum.hh\""
   ]
  },
  {
   "attachments": {},
   "cell_type": "markdown",
   "metadata": {},
   "source": [
    "and print out some messages to standard outpout:"
   ]
  },
  {
   "cell_type": "code",
   "execution_count": 2,
   "metadata": {
    "vscode": {
     "languageId": "cpp"
    }
   },
   "outputs": [
    {
     "name": "stdout",
     "output_type": "stream",
     "text": [
      "hello\n",
      "1 + 1 = 2\n"
     ]
    }
   ],
   "source": [
    "std::cout << \"hello\" << std::endl;\n",
    "std::cout << \"1 + 1 = \" << 1 +  1 << std::endl;"
   ]
  },
  {
   "cell_type": "markdown",
   "metadata": {},
   "source": [
    "Full program text:\n",
    "\n",
    "```cpp\n",
    "#include <iostream>\n",
    "#include <vector>\n",
    "#include \"../../../hdnum/hdnum.hh\"\n",
    "\n",
    "int main()\n",
    "{\n",
    "    std::cout << \"hello\" << std::endl;\n",
    "    std::cout << \"1 + 1\" << 1 + 1 << std;endl;\n",
    "\n",
    "    return 0;\n",
    "}\n",
    "```"
   ]
  },
  {
   "attachments": {},
   "cell_type": "markdown",
   "metadata": {},
   "source": [
    "To compile a single program called `hello.cpp` enter the command:\n",
    "```bash\n",
    "$ g++ -o hello -I../../../ hello.cc\n",
    "```\n",
    "where `-I../../` is the include option indicating where the header files are located. In this case the headers are located in a folder **three levels above** the folder where `hello.cc` is located and is being compiled.\n",
    "\n",
    "To run the compiled program enter `./hello` at the CLI\n",
    "\n",
    "```{index} index include\n",
    "```"
   ]
  },
  {
   "attachments": {},
   "cell_type": "markdown",
   "metadata": {},
   "source": [
    "## Cling Config \n",
    "\n",
    "execute following code in a cell at the beginning of the notebook:"
   ]
  },
  {
   "cell_type": "code",
   "execution_count": 1,
   "metadata": {
    "vscode": {
     "languageId": "cpp"
    }
   },
   "outputs": [],
   "source": [
    "#pragma cling add_include_path(\"/home/igor/Documents/uni/ss23/nummethSS23/hdnum/\")\n",
    "#include <iostream>\n",
    "#include <cmath>\n",
    "#include <complex>\n",
    "\n",
    "\n",
    "#include \"src/densematrix.hh\"\n",
    "#include \"src/exceptions.hh\"\n",
    "#include \"src/lr.hh\"\n",
    "#include \"src/newton.hh\"\n",
    "#include \"src/ode.hh\"\n",
    "#include \"src/opcounter.hh\"\n",
    "#include \"src/pde.hh\"\n",
    "#include \"src/precision.hh\"\n",
    "#include \"src/qr.hh\"\n",
    "#include \"src/rungekutta.hh\"\n",
    "#include \"src/sgrid.hh\"\n",
    "#include \"src/timer.hh\"\n",
    "#include \"src/vector.hh\""
   ]
  },
  {
   "cell_type": "code",
   "execution_count": 2,
   "metadata": {
    "vscode": {
     "languageId": "cpp"
    }
   },
   "outputs": [
    {
     "name": "stdout",
     "output_type": "stream",
     "text": [
      "hey\n"
     ]
    }
   ],
   "source": [
    "std::cout << \"hey\\n\";"
   ]
  },
  {
   "cell_type": "code",
   "execution_count": null,
   "metadata": {
    "vscode": {
     "languageId": "cpp"
    }
   },
   "outputs": [],
   "source": []
  }
 ],
 "metadata": {
  "kernelspec": {
   "display_name": "C++17",
   "language": "C++17",
   "name": "xcpp17"
  },
  "language_info": {
   "codemirror_mode": "text/x-c++src",
   "file_extension": ".cpp",
   "mimetype": "text/x-c++src",
   "name": "C++17",
   "version": "17"
  },
  "orig_nbformat": 4
 },
 "nbformat": 4,
 "nbformat_minor": 2
}
