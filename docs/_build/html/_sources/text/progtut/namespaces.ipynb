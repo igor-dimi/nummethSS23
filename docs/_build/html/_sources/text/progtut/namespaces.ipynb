{
 "cells": [
  {
   "attachments": {},
   "cell_type": "markdown",
   "metadata": {},
   "source": [
    "# Name Collisions and Namespaces\n",
    "\n",
    "Assume Alice and Bob have written libraries, `alice.hh` and `bob.hh` respectively, that both contain the function  `greeting()`. Following will generete a compiler error, due to compiler not knowing which `greeting()` function to accept\n",
    "\n",
    "```cpp\n",
    "#include <alice.hh>\n",
    "#include <bob.hh>\n",
    "\n",
    "int main(int argc, char** argv)\n",
    "{\n",
    "    greeting(); //compiler error!\n",
    "}\n",
    "```\n",
    "\n",
    "This problem is reffered to as **name collision** and is resolved by using **namespaces** the following way:\n",
    "\n",
    "```cpp\n",
    "#include <alice >\n",
    "#include <bob>\n",
    "\n",
    "int main(int argc, char** argv)\n",
    "{\n",
    "    alice::greeting();\n",
    "    bob::greeting();\n",
    "}\n",
    "```\n",
    "\n",
    "i.e. with the syntax `libraryname::libraryentity`. \n",
    "\n",
    "````{note}\n",
    "namespaces can be nested:\n",
    "```cpp\n",
    "library::sublibrary::function()\n",
    "```\n",
    "````\n",
    "\n",
    "````{note}\n",
    "C++ delivers a **standard library** as a part of the compiler. Standard library is accessed with the namespace `std`:\n",
    "```cpp\n",
    "std::cout <<\"hey\" <<std::endl;\n",
    "```\n",
    "````\n",
    "\n",
    "Namespaces can be declared manually in source code as well:"
   ]
  },
  {
   "cell_type": "code",
   "execution_count": 2,
   "metadata": {
    "tags": [
     "hide-input"
    ],
    "vscode": {
     "languageId": "cpp"
    }
   },
   "outputs": [],
   "source": [
    "#include <iostream>"
   ]
  },
  {
   "cell_type": "code",
   "execution_count": 5,
   "metadata": {
    "vscode": {
     "languageId": "cpp"
    }
   },
   "outputs": [],
   "source": [
    "namespace bob {\n",
    "    void greeting()\n",
    "    {\n",
    "        std::cout << \"hey\\n\";\n",
    "    }\n",
    "} // end namespace bob"
   ]
  },
  {
   "cell_type": "code",
   "execution_count": 7,
   "metadata": {
    "vscode": {
     "languageId": "cpp"
    }
   },
   "outputs": [
    {
     "name": "stdout",
     "output_type": "stream",
     "text": [
      "hey\n"
     ]
    }
   ],
   "source": [
    "bob::greeting();"
   ]
  },
  {
   "cell_type": "code",
   "execution_count": null,
   "metadata": {
    "vscode": {
     "languageId": "cpp"
    }
   },
   "outputs": [],
   "source": []
  }
 ],
 "metadata": {
  "kernelspec": {
   "display_name": "C++17",
   "language": "C++17",
   "name": "xcpp17"
  },
  "language_info": {
   "codemirror_mode": "text/x-c++src",
   "file_extension": ".cpp",
   "mimetype": "text/x-c++src",
   "name": "c++",
   "version": "17"
  },
  "orig_nbformat": 4
 },
 "nbformat": 4,
 "nbformat_minor": 2
}
