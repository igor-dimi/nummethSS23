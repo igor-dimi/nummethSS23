{
 "cells": [
  {
   "attachments": {},
   "cell_type": "markdown",
   "metadata": {},
   "source": [
    "# Functions\n",
    "\n",
    "In math we have the concept of a function; a mapping from one domain to another:\n",
    "\n",
    "$$\n",
    "f:U \\rightarrow V\n",
    "$$\n",
    "\n",
    "Which defines an analogy between an object $x\\in U$, that can thought as an \"input\", and an object $f(x) \\in V$, that can be ragerded as the output. \n",
    "\n",
    "```{margin}\n",
    "![black-box](../../imgs/funct.excalidraw.png)\n",
    "```\n",
    "\n",
    "In programming this can be understood in terms of pre- and post-conditions. \n",
    "For the above function $f$ the statement `x := f(x)` has the **effect**:\n",
    "\n",
    "$$\n",
    "[\\![U(x)]\\!] \\, x := f(x) \\, [\\![V(x)]\\!]\n",
    "$$\n",
    "\n",
    "Where $U(x)$ is the pre-condition of $x$ belonging to the domain $U(x)$ and $V(x)$ is the post-condition of $x$ belonging to the domain $V(x)$\n",
    "\n",
    "For example let $f:\\mathbb{R}\\rightarrow\\mathbb{R}$, $x:\\mapsto x^2$; we define this in C++\n",
    "as:"
   ]
  },
  {
   "cell_type": "code",
   "execution_count": 2,
   "metadata": {
    "vscode": {
     "languageId": "cpp"
    }
   },
   "outputs": [],
   "source": [
    "double f(double x) //funtction head/signature\n",
    "{\n",
    "    return x*x; //function body\n",
    "}\n"
   ]
  },
  {
   "attachments": {},
   "cell_type": "markdown",
   "metadata": {},
   "source": [
    "Then"
   ]
  },
  {
   "cell_type": "code",
   "execution_count": 5,
   "metadata": {
    "vscode": {
     "languageId": "cpp"
    }
   },
   "outputs": [
    {
     "name": "stdout",
     "output_type": "stream",
     "text": [
      "3\n",
      "9\n"
     ]
    }
   ],
   "source": [
    "#include <iostream>\n",
    "double x(3.0);\n",
    "std::cout << x << \"\\n\";\n",
    "x = f(x);\n",
    "std::cout << x << \"\\n\";"
   ]
  },
  {
   "attachments": {},
   "cell_type": "markdown",
   "metadata": {},
   "source": [
    "In generel following holds for the function f :\n",
    "\n",
    "```cpp\n",
    "// {x = X}\n",
    "x = f(x);\n",
    "// {x = X*X}\n",
    "```\n",
    "\n",
    "given there are no overflows or other similar phenomena related to computer representation of real numbers that violate the usual axioms. \n"
   ]
  },
  {
   "cell_type": "code",
   "execution_count": null,
   "metadata": {
    "vscode": {
     "languageId": "cpp"
    }
   },
   "outputs": [],
   "source": []
  }
 ],
 "metadata": {
  "kernelspec": {
   "display_name": "C++17",
   "language": "C++17",
   "name": "xcpp17"
  },
  "language_info": {
   "codemirror_mode": "text/x-c++src",
   "file_extension": ".cpp",
   "mimetype": "text/x-c++src",
   "name": "C++17",
   "version": "17"
  },
  "orig_nbformat": 4
 },
 "nbformat": 4,
 "nbformat_minor": 2
}
