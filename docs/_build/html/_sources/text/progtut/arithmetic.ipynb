{
 "cells": [
  {
   "attachments": {},
   "cell_type": "markdown",
   "metadata": {},
   "source": [
    "# Arithmetic Expressions and Operators"
   ]
  },
  {
   "cell_type": "code",
   "execution_count": 9,
   "metadata": {
    "vscode": {
     "languageId": "cpp"
    }
   },
   "outputs": [
    {
     "name": "stdout",
     "output_type": "stream",
     "text": [
      "6 2 8\n",
      "12\n",
      "4\n",
      "3\n",
      "9\n",
      "54\n",
      "9\n"
     ]
    }
   ],
   "source": [
    "#include <iostream>\n",
    "\n",
    "int a = 6;  \n",
    "int b = 2;\n",
    "int c = a + b;\n",
    "\n",
    "std::cout << a << \" \" << b << \" \" << c << std::endl;\n",
    "c = a * b;\n",
    "std::cout << c << std::endl;\n",
    "c = a - b;\n",
    "std::cout << c << std::endl;\n",
    "c = a / b;\n",
    "std::cout << c << std::endl;\n",
    "\n",
    "\n",
    "c = c + a; \n",
    "std::cout << c << std::endl;\n",
    "c = c * a;\n",
    "std::cout << c << std::endl;\n",
    "c = c / a;\n",
    "std::cout << c << std::endl;\n"
   ]
  },
  {
   "attachments": {},
   "cell_type": "markdown",
   "metadata": {
    "vscode": {
     "languageId": "cpp"
    }
   },
   "source": [
    "or equivalently and more succintly:"
   ]
  },
  {
   "cell_type": "code",
   "execution_count": 10,
   "metadata": {
    "vscode": {
     "languageId": "cpp"
    }
   },
   "outputs": [
    {
     "name": "stdout",
     "output_type": "stream",
     "text": [
      "9 6\n",
      "15\n",
      "90\n",
      "15\n"
     ]
    }
   ],
   "source": [
    "std::cout << c << \" \" << a << std::endl;\n",
    "c += a;\n",
    "std::cout << c << std::endl;\n",
    "c *= a;\n",
    "std::cout << c << std::endl;\n",
    "c /= a;\n",
    "std::cout << c << std::endl;"
   ]
  },
  {
   "attachments": {},
   "cell_type": "markdown",
   "metadata": {},
   "source": [
    "more complex and arbitrarily long expresson can be formed, whre precedence of operations follow the usual mathematical rules:"
   ]
  },
  {
   "cell_type": "code",
   "execution_count": 13,
   "metadata": {
    "vscode": {
     "languageId": "cpp"
    }
   },
   "outputs": [
    {
     "name": "stdout",
     "output_type": "stream",
     "text": [
      "2 6  2\n",
      "-1\n",
      "2\n"
     ]
    }
   ],
   "source": [
    "std::cout << c << \" \" << a << \" \" << \" \" << b << std::endl;\n",
    "c = b + a/b - a;\n",
    "std::cout << c << std::endl;\n",
    "c = (a + b)/(a - b);\n",
    "std::cout << c << std::endl;"
   ]
  },
  {
   "cell_type": "code",
   "execution_count": null,
   "metadata": {
    "vscode": {
     "languageId": "cpp"
    }
   },
   "outputs": [],
   "source": []
  }
 ],
 "metadata": {
  "kernelspec": {
   "display_name": "C++17",
   "language": "C++17",
   "name": "xcpp17"
  },
  "language_info": {
   "codemirror_mode": "text/x-c++src",
   "file_extension": ".cpp",
   "mimetype": "text/x-c++src",
   "name": "c++",
   "version": "17"
  },
  "orig_nbformat": 4
 },
 "nbformat": 4,
 "nbformat_minor": 2
}
